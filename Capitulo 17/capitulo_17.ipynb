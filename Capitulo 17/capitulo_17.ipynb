{
 "cells": [
  {
   "cell_type": "markdown",
   "id": "aae7124b-1d7b-4b9d-9b41-128dffa82545",
   "metadata": {},
   "source": [
    "# Herança"
   ]
  },
  {
   "cell_type": "code",
   "execution_count": 2,
   "id": "7591e97f-cf90-41cb-abae-d4f7c97d17fe",
   "metadata": {},
   "outputs": [],
   "source": [
    "class Animal:\n",
    "    def __init__(self, nome, idade, tipo=\"\"):\n",
    "        self.nome = nome\n",
    "        self.idade = idade\n",
    "        self.tipo = tipo\n",
    "\n",
    "    def __str__(self):\n",
    "        return f\"Animal: {self.nome} \\nIdade: {self.idade} \\nTipo: {self.tipo}\""
   ]
  },
  {
   "cell_type": "code",
   "execution_count": 10,
   "id": "eac4c3bc-054d-411e-9cbb-c6e561b4d5fd",
   "metadata": {},
   "outputs": [],
   "source": [
    "class Cachorro(Animal):\n",
    "    def latir(self):\n",
    "        return \"Au Au\""
   ]
  },
  {
   "cell_type": "code",
   "execution_count": 11,
   "id": "31be84c9-9761-4400-8fe6-e3e6cd5f7ccb",
   "metadata": {},
   "outputs": [],
   "source": [
    "teste = Cachorro(\"Cookie\", 2, \"Cachorro\")"
   ]
  },
  {
   "cell_type": "code",
   "execution_count": 12,
   "id": "292340e8-624e-4e67-95b2-a46b50fb5a30",
   "metadata": {},
   "outputs": [
    {
     "name": "stdout",
     "output_type": "stream",
     "text": [
      "Animal: Cookie \n",
      "Idade: 2 \n",
      "Tipo: Cachorro\n"
     ]
    }
   ],
   "source": [
    "print(teste)"
   ]
  },
  {
   "cell_type": "code",
   "execution_count": 13,
   "id": "3747a25d-bb9f-406d-88b9-9403276429fb",
   "metadata": {},
   "outputs": [
    {
     "data": {
      "text/plain": [
       "'Au Au'"
      ]
     },
     "execution_count": 13,
     "metadata": {},
     "output_type": "execute_result"
    }
   ],
   "source": [
    "teste.latir()"
   ]
  },
  {
   "cell_type": "code",
   "execution_count": 18,
   "id": "296abc56-c4d6-47a1-8ab8-bd242f279b90",
   "metadata": {},
   "outputs": [],
   "source": [
    "class Gato(Animal):\n",
    "    def miar(self):\n",
    "        return \"Miau\""
   ]
  },
  {
   "cell_type": "code",
   "execution_count": 20,
   "id": "307ad3c3-8897-440c-ab48-d015e9f97990",
   "metadata": {},
   "outputs": [],
   "source": [
    "gato = Gato(\"Paçoca\", 2, \"Gato\")"
   ]
  },
  {
   "cell_type": "code",
   "execution_count": 21,
   "id": "a275194a-ce74-4d16-8a91-6e09709a8ad7",
   "metadata": {},
   "outputs": [
    {
     "name": "stdout",
     "output_type": "stream",
     "text": [
      "Animal: Paçoca \n",
      "Idade: 2 \n",
      "Tipo: Gato\n"
     ]
    }
   ],
   "source": [
    "print(gato)"
   ]
  },
  {
   "cell_type": "code",
   "execution_count": 22,
   "id": "d18c0880-6cf7-4ba1-ab39-a565d53e4be7",
   "metadata": {},
   "outputs": [
    {
     "data": {
      "text/plain": [
       "'Miau'"
      ]
     },
     "execution_count": 22,
     "metadata": {},
     "output_type": "execute_result"
    }
   ],
   "source": [
    "gato.miar()"
   ]
  }
 ],
 "metadata": {
  "kernelspec": {
   "display_name": "anaconda-2024.02-py310",
   "language": "python",
   "name": "conda-env-anaconda-2024.02-py310-py"
  },
  "language_info": {
   "codemirror_mode": {
    "name": "ipython",
    "version": 3
   },
   "file_extension": ".py",
   "mimetype": "text/x-python",
   "name": "python",
   "nbconvert_exporter": "python",
   "pygments_lexer": "ipython3",
   "version": "3.10.14"
  }
 },
 "nbformat": 4,
 "nbformat_minor": 5
}
