{
 "cells": [
  {
   "cell_type": "markdown",
   "id": "ded92256-5f21-43a2-99dd-dcf04d1498d6",
   "metadata": {},
   "source": [
    "# Capitulo 01  - Programação como forma de pensar"
   ]
  },
  {
   "cell_type": "markdown",
   "id": "0b40da68-ce5f-4aba-bd0d-0512946d5a93",
   "metadata": {},
   "source": [
    "## Operadores Aritméticos\n",
    "Utilizamos operadores iguais da matemática no python"
   ]
  },
  {
   "cell_type": "code",
   "execution_count": 1,
   "id": "bfcb7980-6d22-4950-afa9-c85396b19d73",
   "metadata": {},
   "outputs": [
    {
     "data": {
      "text/plain": [
       "80"
      ]
     },
     "execution_count": 1,
     "metadata": {},
     "output_type": "execute_result"
    }
   ],
   "source": [
    "30 + 50"
   ]
  },
  {
   "cell_type": "code",
   "execution_count": 2,
   "id": "086f5a54-fe44-4feb-9264-5c3d0035b222",
   "metadata": {},
   "outputs": [
    {
     "data": {
      "text/plain": [
       "20"
      ]
     },
     "execution_count": 2,
     "metadata": {},
     "output_type": "execute_result"
    }
   ],
   "source": [
    "25 - 5"
   ]
  },
  {
   "cell_type": "code",
   "execution_count": 3,
   "id": "defbaf3c-ae47-4856-a3ef-425e520a6a1e",
   "metadata": {},
   "outputs": [
    {
     "data": {
      "text/plain": [
       "42"
      ]
     },
     "execution_count": 3,
     "metadata": {},
     "output_type": "execute_result"
    }
   ],
   "source": [
    "6 * 7 "
   ]
  },
  {
   "cell_type": "code",
   "execution_count": 4,
   "id": "98556380-3d91-456b-81af-169dbb328f51",
   "metadata": {},
   "outputs": [
    {
     "data": {
      "text/plain": [
       "12.5"
      ]
     },
     "execution_count": 4,
     "metadata": {},
     "output_type": "execute_result"
    }
   ],
   "source": [
    "25 / 2"
   ]
  },
  {
   "cell_type": "code",
   "execution_count": 5,
   "id": "e811eb93-af6f-4729-8f5f-a551086bf2af",
   "metadata": {},
   "outputs": [
    {
     "data": {
      "text/plain": [
       "25.5"
      ]
     },
     "execution_count": 5,
     "metadata": {},
     "output_type": "execute_result"
    }
   ],
   "source": [
    "51 / 2"
   ]
  },
  {
   "cell_type": "code",
   "execution_count": 6,
   "id": "83868fb8-fd21-40e8-81e7-44fcfde188db",
   "metadata": {},
   "outputs": [
    {
     "data": {
      "text/plain": [
       "25"
      ]
     },
     "execution_count": 6,
     "metadata": {},
     "output_type": "execute_result"
    }
   ],
   "source": [
    "51 // 2"
   ]
  },
  {
   "cell_type": "code",
   "execution_count": 8,
   "id": "68726b75-71d6-479f-8a52-e5b9f03c22dc",
   "metadata": {},
   "outputs": [
    {
     "data": {
      "text/plain": [
       "25"
      ]
     },
     "execution_count": 8,
     "metadata": {},
     "output_type": "execute_result"
    }
   ],
   "source": [
    "5 ** 2"
   ]
  },
  {
   "cell_type": "code",
   "execution_count": 9,
   "id": "27cc4b81-a003-4bfb-a6e3-df4d1668bc78",
   "metadata": {},
   "outputs": [
    {
     "data": {
      "text/plain": [
       "16"
      ]
     },
     "execution_count": 9,
     "metadata": {},
     "output_type": "execute_result"
    }
   ],
   "source": [
    "2 ** 4"
   ]
  },
  {
   "cell_type": "code",
   "execution_count": 10,
   "id": "4a38c736-cba8-448b-b0a6-c0aea89b0e99",
   "metadata": {},
   "outputs": [
    {
     "data": {
      "text/plain": [
       "5"
      ]
     },
     "execution_count": 10,
     "metadata": {},
     "output_type": "execute_result"
    }
   ],
   "source": [
    "7 ^ 2"
   ]
  },
  {
   "cell_type": "code",
   "execution_count": 11,
   "id": "295a0015-e526-4eee-a3d4-99c04e7ccdbf",
   "metadata": {},
   "outputs": [
    {
     "data": {
      "text/plain": [
       "5"
      ]
     },
     "execution_count": 11,
     "metadata": {},
     "output_type": "execute_result"
    }
   ],
   "source": [
    "7 - 2"
   ]
  },
  {
   "cell_type": "markdown",
   "id": "7fa31e84-5786-40e4-8b56-694b2a36534a",
   "metadata": {},
   "source": [
    "# Expressões"
   ]
  },
  {
   "cell_type": "code",
   "execution_count": 12,
   "id": "bd75e42f-7e9b-40be-ba57-8c52cbf0e622",
   "metadata": {},
   "outputs": [
    {
     "data": {
      "text/plain": [
       "42"
      ]
     },
     "execution_count": 12,
     "metadata": {},
     "output_type": "execute_result"
    }
   ],
   "source": [
    "6 + 6 ** 2"
   ]
  },
  {
   "cell_type": "code",
   "execution_count": 13,
   "id": "0498ab41-ac88-4490-8bb6-bbf3f0c642f2",
   "metadata": {},
   "outputs": [
    {
     "data": {
      "text/plain": [
       "4900"
      ]
     },
     "execution_count": 13,
     "metadata": {},
     "output_type": "execute_result"
    }
   ],
   "source": [
    "(20 + 50) ** 2"
   ]
  },
  {
   "cell_type": "markdown",
   "id": "4ec20e05-dc96-40ec-8126-383f3b31beb0",
   "metadata": {},
   "source": [
    "#  Funções aritmeticas"
   ]
  },
  {
   "cell_type": "code",
   "execution_count": 14,
   "id": "abbe1cd2-6496-4eea-8fad-2f863b080698",
   "metadata": {},
   "outputs": [
    {
     "data": {
      "text/plain": [
       "42"
      ]
     },
     "execution_count": 14,
     "metadata": {},
     "output_type": "execute_result"
    }
   ],
   "source": [
    "round(42.4)"
   ]
  },
  {
   "cell_type": "code",
   "execution_count": 16,
   "id": "e5e09289-722b-4af1-ae58-1bb69781063c",
   "metadata": {},
   "outputs": [
    {
     "data": {
      "text/plain": [
       "55.63"
      ]
     },
     "execution_count": 16,
     "metadata": {},
     "output_type": "execute_result"
    }
   ],
   "source": [
    "round(55.6349,2)"
   ]
  },
  {
   "cell_type": "code",
   "execution_count": 17,
   "id": "d5206cf1-de88-419a-817d-572ad2e26352",
   "metadata": {},
   "outputs": [
    {
     "data": {
      "text/plain": [
       "70.5"
      ]
     },
     "execution_count": 17,
     "metadata": {},
     "output_type": "execute_result"
    }
   ],
   "source": [
    "abs(-70.5)"
   ]
  },
  {
   "cell_type": "code",
   "execution_count": 18,
   "id": "f08394fd-74e7-495c-8bae-ea24ab45b231",
   "metadata": {},
   "outputs": [
    {
     "ename": "TypeError",
     "evalue": "abs() takes exactly one argument (2 given)",
     "output_type": "error",
     "traceback": [
      "\u001b[0;31m---------------------------------------------------------------------------\u001b[0m",
      "\u001b[0;31mTypeError\u001b[0m                                 Traceback (most recent call last)",
      "Cell \u001b[0;32mIn[18], line 1\u001b[0m\n\u001b[0;32m----> 1\u001b[0m \u001b[38;5;28;43mabs\u001b[39;49m\u001b[43m(\u001b[49m\u001b[38;5;241;43m-\u001b[39;49m\u001b[38;5;241;43m10\u001b[39;49m\u001b[43m,\u001b[49m\u001b[43m \u001b[49m\u001b[38;5;241;43m-\u001b[39;49m\u001b[38;5;241;43m30\u001b[39;49m\u001b[43m)\u001b[49m\n",
      "\u001b[0;31mTypeError\u001b[0m: abs() takes exactly one argument (2 given)"
     ]
    }
   ],
   "source": [
    "abs(-10, -30)"
   ]
  },
  {
   "cell_type": "code",
   "execution_count": 19,
   "id": "9466887f-4319-4df8-947f-49517f9a4390",
   "metadata": {},
   "outputs": [
    {
     "ename": "TypeError",
     "evalue": "unsupported operand type(s) for -: 'builtin_function_or_method' and 'int'",
     "output_type": "error",
     "traceback": [
      "\u001b[0;31m---------------------------------------------------------------------------\u001b[0m",
      "\u001b[0;31mTypeError\u001b[0m                                 Traceback (most recent call last)",
      "Cell \u001b[0;32mIn[19], line 1\u001b[0m\n\u001b[0;32m----> 1\u001b[0m \u001b[38;5;28;43mabs\u001b[39;49m\u001b[43m \u001b[49m\u001b[38;5;241;43m-\u001b[39;49m\u001b[38;5;241;43m42\u001b[39;49m\n",
      "\u001b[0;31mTypeError\u001b[0m: unsupported operand type(s) for -: 'builtin_function_or_method' and 'int'"
     ]
    }
   ],
   "source": [
    "abs -42"
   ]
  },
  {
   "cell_type": "code",
   "execution_count": 20,
   "id": "ae971435-4314-4d15-9e80-605637843df1",
   "metadata": {},
   "outputs": [
    {
     "data": {
      "text/plain": [
       "<function abs(x, /)>"
      ]
     },
     "execution_count": 20,
     "metadata": {},
     "output_type": "execute_result"
    }
   ],
   "source": [
    "abs"
   ]
  },
  {
   "cell_type": "code",
   "execution_count": 21,
   "id": "3c03c5d2-f6cb-48e9-977d-a6a46cad91df",
   "metadata": {},
   "outputs": [
    {
     "data": {
      "text/plain": [
       "<function round(number, ndigits=None)>"
      ]
     },
     "execution_count": 21,
     "metadata": {},
     "output_type": "execute_result"
    }
   ],
   "source": [
    "round"
   ]
  },
  {
   "cell_type": "markdown",
   "id": "e3a11f14-20f5-4acb-9d3c-57ae7288a281",
   "metadata": {},
   "source": [
    "# Sequencia de caracteres"
   ]
  },
  {
   "cell_type": "code",
   "execution_count": 22,
   "id": "7db251b1-ff04-4c8b-a2e2-30193d169ec2",
   "metadata": {},
   "outputs": [
    {
     "data": {
      "text/plain": [
       "'Olá Mundo'"
      ]
     },
     "execution_count": 22,
     "metadata": {},
     "output_type": "execute_result"
    }
   ],
   "source": [
    "\"Olá Mundo\""
   ]
  },
  {
   "cell_type": "code",
   "execution_count": 23,
   "id": "029bb916-5904-4760-880a-1f2d0aad458b",
   "metadata": {},
   "outputs": [
    {
     "data": {
      "text/plain": [
       "'Olá Mundo'"
      ]
     },
     "execution_count": 23,
     "metadata": {},
     "output_type": "execute_result"
    }
   ],
   "source": [
    "'Olá Mundo'"
   ]
  },
  {
   "cell_type": "code",
   "execution_count": 25,
   "id": "66c583b5-a877-4b14-b902-4660f42438ca",
   "metadata": {},
   "outputs": [
    {
     "data": {
      "text/plain": [
       "'Leonardo Melo'"
      ]
     },
     "execution_count": 25,
     "metadata": {},
     "output_type": "execute_result"
    }
   ],
   "source": [
    "\"Leonardo\" + \" \" + \"Melo\""
   ]
  },
  {
   "cell_type": "code",
   "execution_count": 26,
   "id": "feb85c5c-61ef-4f55-a870-35f7f2ddb99f",
   "metadata": {},
   "outputs": [
    {
     "ename": "TypeError",
     "evalue": "can only concatenate str (not \"int\") to str",
     "output_type": "error",
     "traceback": [
      "\u001b[0;31m---------------------------------------------------------------------------\u001b[0m",
      "\u001b[0;31mTypeError\u001b[0m                                 Traceback (most recent call last)",
      "Cell \u001b[0;32mIn[26], line 1\u001b[0m\n\u001b[0;32m----> 1\u001b[0m \u001b[38;5;124;43m\"\u001b[39;49m\u001b[38;5;124;43mTotal: \u001b[39;49m\u001b[38;5;124;43m\"\u001b[39;49m\u001b[43m \u001b[49m\u001b[38;5;241;43m+\u001b[39;49m\u001b[43m \u001b[49m\u001b[38;5;241;43m10\u001b[39;49m\n",
      "\u001b[0;31mTypeError\u001b[0m: can only concatenate str (not \"int\") to str"
     ]
    }
   ],
   "source": [
    "\"Total: \" + 10"
   ]
  },
  {
   "cell_type": "code",
   "execution_count": 27,
   "id": "aa752f9e-b9e3-48be-95f4-c8afc9331e61",
   "metadata": {},
   "outputs": [
    {
     "data": {
      "text/plain": [
       "'Alô? Alô? Alô? '"
      ]
     },
     "execution_count": 27,
     "metadata": {},
     "output_type": "execute_result"
    }
   ],
   "source": [
    "\"Alô? \" * 3"
   ]
  },
  {
   "cell_type": "code",
   "execution_count": 30,
   "id": "f57d7a2c-d59e-43d4-a16d-49e1e950cad1",
   "metadata": {},
   "outputs": [
    {
     "data": {
      "text/plain": [
       "'----------------------------------------------------------------------------------------------------'"
      ]
     },
     "execution_count": 30,
     "metadata": {},
     "output_type": "execute_result"
    }
   ],
   "source": [
    "\"-\" * 100"
   ]
  },
  {
   "cell_type": "code",
   "execution_count": 34,
   "id": "16d5be4d-95e9-44c4-ae1e-991a4f0d1293",
   "metadata": {},
   "outputs": [
    {
     "data": {
      "text/plain": [
       "7"
      ]
     },
     "execution_count": 34,
     "metadata": {},
     "output_type": "execute_result"
    }
   ],
   "source": [
    "len(\"Impacta\")"
   ]
  },
  {
   "cell_type": "markdown",
   "id": "62dcf50f-c56b-44a6-8a3c-a3c73e6ffcad",
   "metadata": {},
   "source": [
    "# Valores e Tipos"
   ]
  },
  {
   "cell_type": "code",
   "execution_count": 1,
   "id": "ee7cefaf-3979-48fb-bdb5-09000653d1c6",
   "metadata": {},
   "outputs": [
    {
     "data": {
      "text/plain": [
       "int"
      ]
     },
     "execution_count": 1,
     "metadata": {},
     "output_type": "execute_result"
    }
   ],
   "source": [
    "type(2)"
   ]
  },
  {
   "cell_type": "code",
   "execution_count": 2,
   "id": "ac361054-87f0-42bb-b020-6473c030783c",
   "metadata": {},
   "outputs": [
    {
     "data": {
      "text/plain": [
       "float"
      ]
     },
     "execution_count": 2,
     "metadata": {},
     "output_type": "execute_result"
    }
   ],
   "source": [
    "type(10.5)"
   ]
  },
  {
   "cell_type": "code",
   "execution_count": 3,
   "id": "9701b977-c630-45e0-9d88-13f622b7a918",
   "metadata": {},
   "outputs": [
    {
     "data": {
      "text/plain": [
       "str"
      ]
     },
     "execution_count": 3,
     "metadata": {},
     "output_type": "execute_result"
    }
   ],
   "source": [
    "type(\"Impacta\")"
   ]
  },
  {
   "cell_type": "code",
   "execution_count": 4,
   "id": "c4faa752-64a2-48a2-9cb9-c5aadf101d8b",
   "metadata": {},
   "outputs": [
    {
     "ename": "TypeError",
     "evalue": "can only concatenate str (not \"int\") to str",
     "output_type": "error",
     "traceback": [
      "\u001b[0;31m---------------------------------------------------------------------------\u001b[0m",
      "\u001b[0;31mTypeError\u001b[0m                                 Traceback (most recent call last)",
      "Cell \u001b[0;32mIn[4], line 1\u001b[0m\n\u001b[0;32m----> 1\u001b[0m \u001b[38;5;28mprint\u001b[39m(\u001b[38;5;124;43m\"\u001b[39;49m\u001b[38;5;124;43mOlá Mundo\u001b[39;49m\u001b[38;5;124;43m\"\u001b[39;49m\u001b[43m \u001b[49m\u001b[38;5;241;43m+\u001b[39;49m\u001b[43m \u001b[49m\u001b[38;5;241;43m2\u001b[39;49m)\n",
      "\u001b[0;31mTypeError\u001b[0m: can only concatenate str (not \"int\") to str"
     ]
    }
   ],
   "source": [
    "print(\"Olá Mundo\" + 2)"
   ]
  },
  {
   "cell_type": "code",
   "execution_count": 5,
   "id": "589e292e-5507-4e10-99fa-094ee280789f",
   "metadata": {},
   "outputs": [
    {
     "data": {
      "text/plain": [
       "int"
      ]
     },
     "execution_count": 5,
     "metadata": {},
     "output_type": "execute_result"
    }
   ],
   "source": [
    "type(2)"
   ]
  },
  {
   "cell_type": "code",
   "execution_count": 6,
   "id": "4d014340-082d-4664-9dfc-0c871e58c650",
   "metadata": {},
   "outputs": [
    {
     "data": {
      "text/plain": [
       "str"
      ]
     },
     "execution_count": 6,
     "metadata": {},
     "output_type": "execute_result"
    }
   ],
   "source": [
    "type(str(2))"
   ]
  },
  {
   "cell_type": "code",
   "execution_count": 7,
   "id": "3c96f8f2-3cb2-4848-8ec5-bd2ede32d1cf",
   "metadata": {},
   "outputs": [
    {
     "data": {
      "text/plain": [
       "'2'"
      ]
     },
     "execution_count": 7,
     "metadata": {},
     "output_type": "execute_result"
    }
   ],
   "source": [
    "str(2)"
   ]
  },
  {
   "cell_type": "code",
   "execution_count": 10,
   "id": "264b4687-968f-4e77-92de-6ee02576cfff",
   "metadata": {},
   "outputs": [
    {
     "name": "stdout",
     "output_type": "stream",
     "text": [
      "Olá Mundo 2\n"
     ]
    }
   ],
   "source": [
    "print(\"Olá Mundo \" + str(2))"
   ]
  },
  {
   "cell_type": "code",
   "execution_count": 12,
   "id": "9d09475f-562f-4252-8a46-92024279a964",
   "metadata": {},
   "outputs": [
    {
     "data": {
      "text/plain": [
       "str"
      ]
     },
     "execution_count": 12,
     "metadata": {},
     "output_type": "execute_result"
    }
   ],
   "source": [
    "type('30.5')"
   ]
  },
  {
   "cell_type": "code",
   "execution_count": 14,
   "id": "1796ce74-a2f1-4329-9456-80fcd56227dd",
   "metadata": {},
   "outputs": [
    {
     "data": {
      "text/plain": [
       "float"
      ]
     },
     "execution_count": 14,
     "metadata": {},
     "output_type": "execute_result"
    }
   ],
   "source": [
    "type(float('30.5'))"
   ]
  },
  {
   "cell_type": "code",
   "execution_count": 15,
   "id": "a7379a7c-fc50-4ed9-bd60-f52dab1040f8",
   "metadata": {},
   "outputs": [
    {
     "data": {
      "text/plain": [
       "'2'"
      ]
     },
     "execution_count": 15,
     "metadata": {},
     "output_type": "execute_result"
    }
   ],
   "source": [
    "\"2\""
   ]
  },
  {
   "cell_type": "code",
   "execution_count": 16,
   "id": "dab6af99-f80c-45d2-9f32-20d37dfef1d0",
   "metadata": {},
   "outputs": [
    {
     "data": {
      "text/plain": [
       "2"
      ]
     },
     "execution_count": 16,
     "metadata": {},
     "output_type": "execute_result"
    }
   ],
   "source": [
    "int(\"2\")"
   ]
  },
  {
   "cell_type": "code",
   "execution_count": 17,
   "id": "9787b632-f08c-4e4f-9233-dea4da1213c3",
   "metadata": {},
   "outputs": [
    {
     "data": {
      "text/plain": [
       "2.0"
      ]
     },
     "execution_count": 17,
     "metadata": {},
     "output_type": "execute_result"
    }
   ],
   "source": [
    "float(\"2\")"
   ]
  }
 ],
 "metadata": {
  "kernelspec": {
   "display_name": "anaconda-2024.02-py310",
   "language": "python",
   "name": "conda-env-anaconda-2024.02-py310-py"
  },
  "language_info": {
   "codemirror_mode": {
    "name": "ipython",
    "version": 3
   },
   "file_extension": ".py",
   "mimetype": "text/x-python",
   "name": "python",
   "nbconvert_exporter": "python",
   "pygments_lexer": "ipython3",
   "version": "3.10.14"
  }
 },
 "nbformat": 4,
 "nbformat_minor": 5
}
