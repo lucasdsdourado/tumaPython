{
 "cells": [
  {
   "cell_type": "markdown",
   "id": "e9f0068e-2e92-404a-ba4c-a8c24d3bc072",
   "metadata": {},
   "source": [
    "# Variaveis"
   ]
  },
  {
   "cell_type": "code",
   "execution_count": 1,
   "id": "a2a25f9b-0bbc-42b1-a478-d750fc3b22e6",
   "metadata": {},
   "outputs": [],
   "source": [
    "numero = 20"
   ]
  },
  {
   "cell_type": "code",
   "execution_count": 2,
   "id": "93cfd611-8659-4a86-8282-53fe77a6cedf",
   "metadata": {},
   "outputs": [
    {
     "data": {
      "text/plain": [
       "20"
      ]
     },
     "execution_count": 2,
     "metadata": {},
     "output_type": "execute_result"
    }
   ],
   "source": [
    "numero"
   ]
  },
  {
   "cell_type": "code",
   "execution_count": 3,
   "id": "0a150fd1-ff8a-4de8-a487-1dfdf9f9065a",
   "metadata": {},
   "outputs": [
    {
     "data": {
      "text/plain": [
       "40"
      ]
     },
     "execution_count": 3,
     "metadata": {},
     "output_type": "execute_result"
    }
   ],
   "source": [
    "numero * 2"
   ]
  },
  {
   "cell_type": "code",
   "execution_count": 4,
   "id": "4215b58c-0f96-4716-8d5c-01401a09e14f",
   "metadata": {},
   "outputs": [],
   "source": [
    "pi =  3.14"
   ]
  },
  {
   "cell_type": "code",
   "execution_count": 5,
   "id": "de5737b2-aba9-49b7-879e-6496b7dcf7e4",
   "metadata": {},
   "outputs": [
    {
     "data": {
      "text/plain": [
       "3.14"
      ]
     },
     "execution_count": 5,
     "metadata": {},
     "output_type": "execute_result"
    }
   ],
   "source": [
    "pi"
   ]
  },
  {
   "cell_type": "code",
   "execution_count": 6,
   "id": "cd139d0b-e284-4b11-89ac-bafbd099b873",
   "metadata": {},
   "outputs": [],
   "source": [
    "mensagem = \"Estamos no curso de python\""
   ]
  },
  {
   "cell_type": "code",
   "execution_count": 7,
   "id": "7fb42c45-c5bb-4e6d-83b8-5dca5962c89c",
   "metadata": {},
   "outputs": [
    {
     "data": {
      "text/plain": [
       "'Estamos no curso de python'"
      ]
     },
     "execution_count": 7,
     "metadata": {},
     "output_type": "execute_result"
    }
   ],
   "source": [
    "mensagem"
   ]
  },
  {
   "cell_type": "code",
   "execution_count": 8,
   "id": "bd690291-0822-41f7-82f3-22e0f8a16a56",
   "metadata": {},
   "outputs": [
    {
     "data": {
      "text/plain": [
       "3"
      ]
     },
     "execution_count": 8,
     "metadata": {},
     "output_type": "execute_result"
    }
   ],
   "source": [
    "int(pi)"
   ]
  },
  {
   "cell_type": "code",
   "execution_count": 9,
   "id": "b735ab0f-37fd-406a-b519-822268d9359d",
   "metadata": {},
   "outputs": [
    {
     "data": {
      "text/plain": [
       "26"
      ]
     },
     "execution_count": 9,
     "metadata": {},
     "output_type": "execute_result"
    }
   ],
   "source": [
    "len(mensagem)"
   ]
  },
  {
   "cell_type": "code",
   "execution_count": 10,
   "id": "562a54c8-7b85-4fea-b1ae-5fa99939c30f",
   "metadata": {},
   "outputs": [
    {
     "ename": "SyntaxError",
     "evalue": "invalid syntax (1996714619.py, line 1)",
     "output_type": "error",
     "traceback": [
      "\u001b[0;36m  Cell \u001b[0;32mIn[10], line 1\u001b[0;36m\u001b[0m\n\u001b[0;31m    texto! = \"olá mundo\"\u001b[0m\n\u001b[0m         ^\u001b[0m\n\u001b[0;31mSyntaxError\u001b[0m\u001b[0;31m:\u001b[0m invalid syntax\n"
     ]
    }
   ],
   "source": [
    "texto! = \"olá mundo\""
   ]
  },
  {
   "cell_type": "code",
   "execution_count": 11,
   "id": "9b7a969e-bc2e-4a85-983a-a3cfe9f4d3d2",
   "metadata": {},
   "outputs": [
    {
     "ename": "SyntaxError",
     "evalue": "invalid syntax (1493977113.py, line 1)",
     "output_type": "error",
     "traceback": [
      "\u001b[0;36m  Cell \u001b[0;32mIn[11], line 1\u001b[0;36m\u001b[0m\n\u001b[0;31m    texto. = \"olá mundo\"\u001b[0m\n\u001b[0m           ^\u001b[0m\n\u001b[0;31mSyntaxError\u001b[0m\u001b[0;31m:\u001b[0m invalid syntax\n"
     ]
    }
   ],
   "source": [
    "texto. = \"olá mundo\""
   ]
  },
  {
   "cell_type": "code",
   "execution_count": 12,
   "id": "d9f6efb2-cf93-44df-a676-234e37dca7c7",
   "metadata": {},
   "outputs": [],
   "source": [
    "texto_ = \"olá mundo\""
   ]
  },
  {
   "cell_type": "code",
   "execution_count": 13,
   "id": "71a69e0c-9210-489b-b09d-3f8650781351",
   "metadata": {},
   "outputs": [
    {
     "data": {
      "text/plain": [
       "'olá mundo'"
      ]
     },
     "execution_count": 13,
     "metadata": {},
     "output_type": "execute_result"
    }
   ],
   "source": [
    "texto_"
   ]
  },
  {
   "cell_type": "code",
   "execution_count": 14,
   "id": "bd400ddb-d179-4cf1-89b8-13eeda32c962",
   "metadata": {},
   "outputs": [
    {
     "ename": "SyntaxError",
     "evalue": "invalid decimal literal (3454864875.py, line 1)",
     "output_type": "error",
     "traceback": [
      "\u001b[0;36m  Cell \u001b[0;32mIn[14], line 1\u001b[0;36m\u001b[0m\n\u001b[0;31m    70centavos = \"saldo\"\u001b[0m\n\u001b[0m     ^\u001b[0m\n\u001b[0;31mSyntaxError\u001b[0m\u001b[0;31m:\u001b[0m invalid decimal literal\n"
     ]
    }
   ],
   "source": [
    "70centavos = \"saldo\""
   ]
  },
  {
   "cell_type": "code",
   "execution_count": 15,
   "id": "c4d83e49-e741-4632-85f6-e28fa4d5bbce",
   "metadata": {},
   "outputs": [],
   "source": [
    "centavos70 = \"saldo\""
   ]
  },
  {
   "cell_type": "code",
   "execution_count": 16,
   "id": "4b3a314b-5178-4e59-9968-d57bbb4493c5",
   "metadata": {},
   "outputs": [
    {
     "data": {
      "text/plain": [
       "'saldo'"
      ]
     },
     "execution_count": 16,
     "metadata": {},
     "output_type": "execute_result"
    }
   ],
   "source": [
    "centavos70"
   ]
  },
  {
   "cell_type": "code",
   "execution_count": 17,
   "id": "060271b6-1ac0-4d7f-a1e5-0506250ddda7",
   "metadata": {},
   "outputs": [
    {
     "ename": "SyntaxError",
     "evalue": "invalid syntax (3481019817.py, line 1)",
     "output_type": "error",
     "traceback": [
      "\u001b[0;36m  Cell \u001b[0;32mIn[17], line 1\u001b[0;36m\u001b[0m\n\u001b[0;31m    class = \"Turma Python\"\u001b[0m\n\u001b[0m          ^\u001b[0m\n\u001b[0;31mSyntaxError\u001b[0m\u001b[0;31m:\u001b[0m invalid syntax\n"
     ]
    }
   ],
   "source": [
    "class = \"Turma Python\""
   ]
  },
  {
   "cell_type": "code",
   "execution_count": 18,
   "id": "ea9de56f-892e-4ce5-a5f3-5b1ee484a73f",
   "metadata": {},
   "outputs": [
    {
     "ename": "SyntaxError",
     "evalue": "cannot assign to False (3360649259.py, line 1)",
     "output_type": "error",
     "traceback": [
      "\u001b[0;36m  Cell \u001b[0;32mIn[18], line 1\u001b[0;36m\u001b[0m\n\u001b[0;31m    False  =  \"TESTE\"\u001b[0m\n\u001b[0m    ^\u001b[0m\n\u001b[0;31mSyntaxError\u001b[0m\u001b[0;31m:\u001b[0m cannot assign to False\n"
     ]
    }
   ],
   "source": [
    "False  =  \"TESTE\""
   ]
  },
  {
   "cell_type": "code",
   "execution_count": 19,
   "id": "ca8497e7-0ab8-4f31-83b2-ee2542955a04",
   "metadata": {},
   "outputs": [],
   "source": [
    "Class = \"Turma de Python\""
   ]
  },
  {
   "cell_type": "code",
   "execution_count": 20,
   "id": "ff379e0f-3024-4723-b3d9-6c475053bf48",
   "metadata": {},
   "outputs": [
    {
     "data": {
      "text/plain": [
       "'Turma de Python'"
      ]
     },
     "execution_count": 20,
     "metadata": {},
     "output_type": "execute_result"
    }
   ],
   "source": [
    "Class"
   ]
  },
  {
   "cell_type": "code",
   "execution_count": 21,
   "id": "e6670001-b617-4470-b218-8f92cf00f28d",
   "metadata": {},
   "outputs": [],
   "source": [
    "nomeSobrenome = \"Lucas Dourado\""
   ]
  },
  {
   "cell_type": "code",
   "execution_count": 22,
   "id": "bd44bb85-776a-494c-8617-d5f2231b6e6e",
   "metadata": {},
   "outputs": [
    {
     "ename": "SyntaxError",
     "evalue": "invalid syntax (1366324452.py, line 1)",
     "output_type": "error",
     "traceback": [
      "\u001b[0;36m  Cell \u001b[0;32mIn[22], line 1\u001b[0;36m\u001b[0m\n\u001b[0;31m    nome Sobrenome = \"Lucas Dourado\"\u001b[0m\n\u001b[0m         ^\u001b[0m\n\u001b[0;31mSyntaxError\u001b[0m\u001b[0;31m:\u001b[0m invalid syntax\n"
     ]
    }
   ],
   "source": [
    "nome Sobrenome = \"Lucas Dourado\""
   ]
  },
  {
   "cell_type": "code",
   "execution_count": 32,
   "id": "23b777bf-47db-4617-b0f3-9b19baa77b1d",
   "metadata": {},
   "outputs": [],
   "source": [
    "del len"
   ]
  },
  {
   "cell_type": "code",
   "execution_count": 33,
   "id": "01176ddc-877a-4c93-b757-73005db235fe",
   "metadata": {},
   "outputs": [
    {
     "data": {
      "text/plain": [
       "1"
      ]
     },
     "execution_count": 33,
     "metadata": {},
     "output_type": "execute_result"
    }
   ],
   "source": [
    "len(\"a\")"
   ]
  },
  {
   "cell_type": "markdown",
   "id": "dbf71152-3ba9-4686-b6f3-5e691d60bda8",
   "metadata": {},
   "source": [
    "# Declaração Import"
   ]
  },
  {
   "cell_type": "code",
   "execution_count": 34,
   "id": "1c3b2eb3-ac4e-4c24-ba9b-d2b8f3f63a6f",
   "metadata": {},
   "outputs": [],
   "source": [
    "import math"
   ]
  },
  {
   "cell_type": "code",
   "execution_count": 37,
   "id": "0f65babf-ae6b-4887-8f92-e4e858e3b064",
   "metadata": {},
   "outputs": [],
   "source": [
    "valor_do_pi = math.pi"
   ]
  },
  {
   "cell_type": "code",
   "execution_count": 38,
   "id": "ef097c6f-f825-4904-abdb-d21197a6b209",
   "metadata": {},
   "outputs": [
    {
     "data": {
      "text/plain": [
       "3.141592653589793"
      ]
     },
     "execution_count": 38,
     "metadata": {},
     "output_type": "execute_result"
    }
   ],
   "source": [
    "valor_do_pi"
   ]
  },
  {
   "cell_type": "code",
   "execution_count": 39,
   "id": "5d631f25-3446-4f78-b6f3-fce6c517b6e0",
   "metadata": {},
   "outputs": [
    {
     "data": {
      "text/plain": [
       "5.0"
      ]
     },
     "execution_count": 39,
     "metadata": {},
     "output_type": "execute_result"
    }
   ],
   "source": [
    "math.sqrt(25)"
   ]
  },
  {
   "cell_type": "code",
   "execution_count": 40,
   "id": "6594d195-6843-4293-9819-8e217fe4e205",
   "metadata": {},
   "outputs": [
    {
     "data": {
      "text/plain": [
       "25.0"
      ]
     },
     "execution_count": 40,
     "metadata": {},
     "output_type": "execute_result"
    }
   ],
   "source": [
    "math.pow(5,2)"
   ]
  },
  {
   "cell_type": "code",
   "execution_count": 41,
   "id": "fb89b7a3-af72-4bc1-9030-f04e5ec25e96",
   "metadata": {},
   "outputs": [],
   "source": [
    "import pandas"
   ]
  },
  {
   "cell_type": "code",
   "execution_count": 42,
   "id": "857c85bd-fdc9-45c0-a7da-92ba60bbeea6",
   "metadata": {},
   "outputs": [
    {
     "name": "stdout",
     "output_type": "stream",
     "text": [
      "Defaulting to user installation because normal site-packages is not writeable\n",
      "Looking in links: /usr/share/pip-wheels\n",
      "Requirement already satisfied: pandas in /opt/conda/envs/anaconda-2024.02-py310/lib/python3.10/site-packages (2.1.4)\n",
      "Requirement already satisfied: numpy<2,>=1.22.4 in /opt/conda/envs/anaconda-2024.02-py310/lib/python3.10/site-packages (from pandas) (1.26.4)\n",
      "Requirement already satisfied: python-dateutil>=2.8.2 in /opt/conda/envs/anaconda-2024.02-py310/lib/python3.10/site-packages (from pandas) (2.8.2)\n",
      "Requirement already satisfied: pytz>=2020.1 in /opt/conda/envs/anaconda-2024.02-py310/lib/python3.10/site-packages (from pandas) (2023.3.post1)\n",
      "Requirement already satisfied: tzdata>=2022.1 in /opt/conda/envs/anaconda-2024.02-py310/lib/python3.10/site-packages (from pandas) (2023.3)\n",
      "Requirement already satisfied: six>=1.5 in /opt/conda/envs/anaconda-2024.02-py310/lib/python3.10/site-packages (from python-dateutil>=2.8.2->pandas) (1.16.0)\n",
      "Note: you may need to restart the kernel to use updated packages.\n"
     ]
    }
   ],
   "source": [
    "pip install pandas"
   ]
  },
  {
   "cell_type": "markdown",
   "id": "29d22203-820c-449c-8cab-98bd603dad99",
   "metadata": {},
   "source": [
    "# Expressoes e declarações"
   ]
  },
  {
   "cell_type": "code",
   "execution_count": 45,
   "id": "b8459372-fd53-4ae8-bf25-25133173e840",
   "metadata": {},
   "outputs": [
    {
     "data": {
      "text/plain": [
       "76.2831853071796"
      ]
     },
     "execution_count": 45,
     "metadata": {},
     "output_type": "execute_result"
    }
   ],
   "source": [
    "50 + numero + math.pi * 2"
   ]
  },
  {
   "cell_type": "markdown",
   "id": "4b3792ca-97d7-4c81-b7f7-4e6162c351b0",
   "metadata": {},
   "source": [
    "# Função print"
   ]
  },
  {
   "cell_type": "code",
   "execution_count": 46,
   "id": "63ced606-28ed-4410-81cf-5c7a8fea2ca1",
   "metadata": {},
   "outputs": [
    {
     "name": "stdout",
     "output_type": "stream",
     "text": [
      "20\n"
     ]
    }
   ],
   "source": [
    "print(numero)"
   ]
  },
  {
   "cell_type": "code",
   "execution_count": 47,
   "id": "12bcb800-e817-4507-a52b-d533a279aca0",
   "metadata": {},
   "outputs": [
    {
     "data": {
      "text/plain": [
       "20"
      ]
     },
     "execution_count": 47,
     "metadata": {},
     "output_type": "execute_result"
    }
   ],
   "source": [
    "numero"
   ]
  },
  {
   "cell_type": "code",
   "execution_count": 48,
   "id": "65adca2f-6ebc-4fb6-8055-e7153cd2b605",
   "metadata": {},
   "outputs": [],
   "source": [
    "aluno1 = \"Victor\""
   ]
  },
  {
   "cell_type": "code",
   "execution_count": 49,
   "id": "1bd91de2-b7d7-4931-9870-88f601677a5f",
   "metadata": {},
   "outputs": [],
   "source": [
    "aluno2 = \"Nicolas\""
   ]
  },
  {
   "cell_type": "code",
   "execution_count": 50,
   "id": "58da9d36-db64-4ce3-b248-754e480edd07",
   "metadata": {},
   "outputs": [],
   "source": [
    "aluno3 = \"Brasil\""
   ]
  },
  {
   "cell_type": "code",
   "execution_count": 59,
   "id": "a89f53fb-cae6-432e-83b0-582e71e946b8",
   "metadata": {},
   "outputs": [
    {
     "name": "stdout",
     "output_type": "stream",
     "text": [
      "Victor|Nicolas|Brasil\n",
      "Victor, Nicolas, Brasil\n"
     ]
    }
   ],
   "source": [
    "print(aluno1, aluno2, aluno3, sep=\"|\")\n",
    "print(aluno1, aluno2, aluno3, sep=\", \")"
   ]
  },
  {
   "cell_type": "code",
   "execution_count": 65,
   "id": "c2adbb72-1b0b-40f5-8e09-afd37136f57b",
   "metadata": {},
   "outputs": [
    {
     "name": "stdout",
     "output_type": "stream",
     "text": [
      "Márcio|Nicolas|Brasil---Márcio, Nicolas, Brasil\n"
     ]
    }
   ],
   "source": [
    "print(aluno1, aluno2, aluno3, sep=\"|\",end=\"---\")\n",
    "print(aluno1, aluno2, aluno3, sep=\", \")"
   ]
  },
  {
   "cell_type": "code",
   "execution_count": 61,
   "id": "a55b3693-0f7d-4f33-8591-ff59ee7e25f2",
   "metadata": {},
   "outputs": [
    {
     "name": "stdout",
     "output_type": "stream",
     "text": [
      "Aluno matricula 1: Victor\n",
      "Aluno matricula 2: Nicolas\n"
     ]
    }
   ],
   "source": [
    "print(\"Aluno matricula 1:\", aluno1)\n",
    "print(\"Aluno matricula 2:\", aluno2)"
   ]
  },
  {
   "cell_type": "code",
   "execution_count": 62,
   "id": "3802aac6-f7f2-4875-b4f2-e912fb6b5b7e",
   "metadata": {},
   "outputs": [],
   "source": [
    "aluno1  =  \"Márcio\""
   ]
  },
  {
   "cell_type": "code",
   "execution_count": 63,
   "id": "29d3e4ac-d811-4858-8fd7-df77ad01fdf5",
   "metadata": {},
   "outputs": [
    {
     "name": "stdout",
     "output_type": "stream",
     "text": [
      "Aluno matricula 1: Márcio\n",
      "Aluno matricula 2: Nicolas\n"
     ]
    }
   ],
   "source": [
    "print(\"Aluno matricula 1:\", aluno1)\n",
    "print(\"Aluno matricula 2:\", aluno2)"
   ]
  },
  {
   "cell_type": "code",
   "execution_count": 66,
   "id": "edace60c-6e7c-4141-9502-6e54dffd8741",
   "metadata": {},
   "outputs": [
    {
     "name": "stdout",
     "output_type": "stream",
     "text": [
      "Márcio\n",
      "Nicolas\n",
      "Brasil\n"
     ]
    }
   ],
   "source": [
    "print(aluno1, aluno2, aluno3, sep=\"\\n\")"
   ]
  },
  {
   "cell_type": "code",
   "execution_count": 68,
   "id": "b3036c18-1f27-44a0-a713-a14ae5276cad",
   "metadata": {},
   "outputs": [
    {
     "ename": "TypeError",
     "evalue": "abs() takes exactly one argument (0 given)",
     "output_type": "error",
     "traceback": [
      "\u001b[0;31m---------------------------------------------------------------------------\u001b[0m",
      "\u001b[0;31mTypeError\u001b[0m                                 Traceback (most recent call last)",
      "Cell \u001b[0;32mIn[68], line 1\u001b[0m\n\u001b[0;32m----> 1\u001b[0m \u001b[38;5;28;43mabs\u001b[39;49m\u001b[43m(\u001b[49m\u001b[43m)\u001b[49m\n",
      "\u001b[0;31mTypeError\u001b[0m: abs() takes exactly one argument (0 given)"
     ]
    }
   ],
   "source": [
    "abs()"
   ]
  },
  {
   "cell_type": "code",
   "execution_count": 69,
   "id": "6436bbab-1696-4d7f-bc7e-47ecb1edee3d",
   "metadata": {},
   "outputs": [
    {
     "name": "stdout",
     "output_type": "stream",
     "text": [
      "Variable               Type        Data/Info\n",
      "--------------------------------------------\n",
      "Class                  str         Turma de Python\n",
      "aluno1                 str         Márcio\n",
      "aluno2                 str         Nicolas\n",
      "aluno3                 str         Brasil\n",
      "centavos70             str         saldo\n",
      "dataframe_columns      function    <function dataframe_columns at 0x77f9bebcaa70>\n",
      "dataframe_hash         function    <function dataframe_hash at 0x77f9bebc8310>\n",
      "dtypes_str             function    <function dtypes_str at 0x77f9bebc80d0>\n",
      "get_dataframes         function    <function get_dataframes at 0x77f9bebcab00>\n",
      "getpass                module      <module 'getpass' from '/<...>b/python3.10/getpass.py'>\n",
      "hashlib                module      <module 'hashlib' from '/<...>b/python3.10/hashlib.py'>\n",
      "import_pandas_safely   function    <function import_pandas_safely at 0x77f9bebc8040>\n",
      "is_data_frame          function    <function is_data_frame at 0x77f9bebc96c0>\n",
      "json                   module      <module 'json' from '/opt<...>on3.10/json/__init__.py'>\n",
      "math                   module      <module 'math' from '/opt<...>310-x86_64-linux-gnu.so'>\n",
      "mensagem               str         Estamos no curso de python\n",
      "nomeSobrenome          str         Lucas Dourado\n",
      "numero                 int         20\n",
      "pandas                 module      <module 'pandas' from '/o<...>ages/pandas/__init__.py'>\n",
      "pi                     float       3.14\n",
      "texto_                 str         olá mundo\n",
      "valor_do_pi            float       3.141592653589793\n"
     ]
    }
   ],
   "source": [
    "%whos"
   ]
  }
 ],
 "metadata": {
  "kernelspec": {
   "display_name": "anaconda-2024.02-py310",
   "language": "python",
   "name": "conda-env-anaconda-2024.02-py310-py"
  },
  "language_info": {
   "codemirror_mode": {
    "name": "ipython",
    "version": 3
   },
   "file_extension": ".py",
   "mimetype": "text/x-python",
   "name": "python",
   "nbconvert_exporter": "python",
   "pygments_lexer": "ipython3",
   "version": "3.10.14"
  }
 },
 "nbformat": 4,
 "nbformat_minor": 5
}
