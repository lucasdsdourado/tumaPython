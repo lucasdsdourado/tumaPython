{
 "cells": [
  {
   "cell_type": "markdown",
   "id": "b02a3500-65f3-40d7-9305-227675092708",
   "metadata": {},
   "source": [
    "# Polimorfismo"
   ]
  },
  {
   "cell_type": "code",
   "execution_count": 1,
   "id": "787f6b45-e1a6-4814-86ef-2182def6b87c",
   "metadata": {},
   "outputs": [],
   "source": [
    "class Operacao:\n",
    "    def __init__(self, x, y):\n",
    "        self.x = x\n",
    "        self.y = y\n",
    "\n",
    "    def calcular(self):\n",
    "        return None"
   ]
  },
  {
   "cell_type": "code",
   "execution_count": 2,
   "id": "2c20b839-dffb-4ed4-a403-0be60f1b33fd",
   "metadata": {},
   "outputs": [],
   "source": [
    "class Soma(Operacao):\n",
    "    def calcular(self):\n",
    "        return self.x + self.y"
   ]
  },
  {
   "cell_type": "code",
   "execution_count": 3,
   "id": "0ce0f777-a69a-440f-99c3-589c44766dc4",
   "metadata": {},
   "outputs": [],
   "source": [
    "total = Soma(10, 20)"
   ]
  },
  {
   "cell_type": "code",
   "execution_count": 4,
   "id": "1504b8d3-668e-469b-a8fc-041b959a173b",
   "metadata": {},
   "outputs": [
    {
     "data": {
      "text/plain": [
       "__main__.Soma"
      ]
     },
     "execution_count": 4,
     "metadata": {},
     "output_type": "execute_result"
    }
   ],
   "source": [
    "type(total)"
   ]
  },
  {
   "cell_type": "code",
   "execution_count": 5,
   "id": "d2c9d3dd-d7e4-47f3-81c5-843ddb33162f",
   "metadata": {},
   "outputs": [
    {
     "data": {
      "text/plain": [
       "30"
      ]
     },
     "execution_count": 5,
     "metadata": {},
     "output_type": "execute_result"
    }
   ],
   "source": [
    "total.calcular()"
   ]
  },
  {
   "cell_type": "code",
   "execution_count": 6,
   "id": "c8eada7e-8c6a-426c-b7d9-054be76fe075",
   "metadata": {},
   "outputs": [],
   "source": [
    "class Multiplicacao(Operacao):\n",
    "    def calcular(self):\n",
    "        return self.x * self.y"
   ]
  },
  {
   "cell_type": "code",
   "execution_count": 7,
   "id": "4c9e9b9a-9681-47a1-8659-c0f4fd7b7ac0",
   "metadata": {},
   "outputs": [
    {
     "data": {
      "text/plain": [
       "200"
      ]
     },
     "execution_count": 7,
     "metadata": {},
     "output_type": "execute_result"
    }
   ],
   "source": [
    "total2 = Multiplicacao(10, 20)\n",
    "total2.calcular()"
   ]
  }
 ],
 "metadata": {
  "kernelspec": {
   "display_name": "anaconda-2024.02-py310",
   "language": "python",
   "name": "conda-env-anaconda-2024.02-py310-py"
  },
  "language_info": {
   "codemirror_mode": {
    "name": "ipython",
    "version": 3
   },
   "file_extension": ".py",
   "mimetype": "text/x-python",
   "name": "python",
   "nbconvert_exporter": "python",
   "pygments_lexer": "ipython3",
   "version": "3.10.14"
  }
 },
 "nbformat": 4,
 "nbformat_minor": 5
}
