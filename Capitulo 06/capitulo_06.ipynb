{
 "cells": [
  {
   "cell_type": "markdown",
   "id": "6ad3e591-5735-4dcd-bb55-53412a74d4e5",
   "metadata": {},
   "source": [
    "# Valores de Retorno (return)"
   ]
  },
  {
   "cell_type": "code",
   "execution_count": 2,
   "id": "cba0568d-b631-45a0-94fd-9861c0dd89dd",
   "metadata": {},
   "outputs": [],
   "source": [
    "def repetir(texto, n):\n",
    "    print(texto * n)"
   ]
  },
  {
   "cell_type": "code",
   "execution_count": 9,
   "id": "40794eb5-522a-4bc2-8c16-2c48009ac9d3",
   "metadata": {},
   "outputs": [
    {
     "name": "stdout",
     "output_type": "stream",
     "text": [
      "==========\n"
     ]
    }
   ],
   "source": [
    "repetir(\"=\",10)"
   ]
  },
  {
   "cell_type": "code",
   "execution_count": 6,
   "id": "aff327dd-1ae8-4f08-a585-a8a3244f6fea",
   "metadata": {},
   "outputs": [
    {
     "name": "stdout",
     "output_type": "stream",
     "text": [
      "==========\n"
     ]
    }
   ],
   "source": [
    "sinais = repetir(\"=\",10)"
   ]
  },
  {
   "cell_type": "code",
   "execution_count": 8,
   "id": "455d64ff-b268-4276-ba57-c3386d92ae9b",
   "metadata": {},
   "outputs": [
    {
     "name": "stdout",
     "output_type": "stream",
     "text": [
      "None\n"
     ]
    }
   ],
   "source": [
    "print(sinais)"
   ]
  },
  {
   "cell_type": "code",
   "execution_count": 10,
   "id": "ed293727-74f1-497b-9d64-5e049f37c095",
   "metadata": {},
   "outputs": [],
   "source": [
    "def repetir(texto, n):\n",
    "    return texto * n"
   ]
  },
  {
   "cell_type": "code",
   "execution_count": 12,
   "id": "52a21494-b5df-42d8-bb66-b82803663da2",
   "metadata": {},
   "outputs": [
    {
     "data": {
      "text/plain": [
       "'=========='"
      ]
     },
     "execution_count": 12,
     "metadata": {},
     "output_type": "execute_result"
    }
   ],
   "source": [
    "repetir(\"=\",10)"
   ]
  },
  {
   "cell_type": "code",
   "execution_count": 13,
   "id": "2e3c471b-d613-496e-86be-de8f9a61c20a",
   "metadata": {},
   "outputs": [],
   "source": [
    "sinais = repetir(\"=\", 10)"
   ]
  },
  {
   "cell_type": "code",
   "execution_count": 15,
   "id": "8684e51f-cf67-4698-96c2-a0eb6b22e576",
   "metadata": {},
   "outputs": [
    {
     "data": {
      "text/plain": [
       "'==========/////////'"
      ]
     },
     "execution_count": 15,
     "metadata": {},
     "output_type": "execute_result"
    }
   ],
   "source": [
    "sinais + \"/////////\""
   ]
  },
  {
   "cell_type": "code",
   "execution_count": 17,
   "id": "9596b054-d61e-4ef8-a83a-0f877c67d3a3",
   "metadata": {},
   "outputs": [],
   "source": [
    "def minha_abs(x):\n",
    "    if x < 0:\n",
    "        return -x\n",
    "    else:\n",
    "        return x"
   ]
  },
  {
   "cell_type": "code",
   "execution_count": 20,
   "id": "066c5b27-989b-4dfd-bc8c-a9755912a52e",
   "metadata": {},
   "outputs": [],
   "source": [
    "numero  = minha_abs(-10)"
   ]
  },
  {
   "cell_type": "code",
   "execution_count": 21,
   "id": "2c666cc9-e5c8-4311-b5d4-e30cab9b9a05",
   "metadata": {},
   "outputs": [
    {
     "data": {
      "text/plain": [
       "500"
      ]
     },
     "execution_count": 21,
     "metadata": {},
     "output_type": "execute_result"
    }
   ],
   "source": [
    "numero *   50"
   ]
  },
  {
   "cell_type": "code",
   "execution_count": 23,
   "id": "562d091c-fc66-4167-87e4-71897e0ba137",
   "metadata": {},
   "outputs": [],
   "source": [
    "import math\n",
    "def calcDistancia(x1, y1, x2,  y2):\n",
    "    dx  = x2 - x1\n",
    "    dy = y2 - y1\n",
    "    calculo = dx ** 2 + dy ** 2\n",
    "    resultado = math.sqrt(calculo)\n",
    "    return resultado"
   ]
  },
  {
   "cell_type": "code",
   "execution_count": 25,
   "id": "3ed014f5-7dfb-4b72-8acb-289b225ad412",
   "metadata": {},
   "outputs": [],
   "source": [
    "distancia = calcDistancia(1,2,4,6)"
   ]
  },
  {
   "cell_type": "code",
   "execution_count": 26,
   "id": "5d8fff41-b53a-464c-a48a-3be4995eb5a5",
   "metadata": {},
   "outputs": [
    {
     "name": "stdout",
     "output_type": "stream",
     "text": [
      "A distancia é: 5.0\n"
     ]
    }
   ],
   "source": [
    "print(\"A distancia é:\", distancia)"
   ]
  },
  {
   "cell_type": "code",
   "execution_count": 27,
   "id": "19b9dd75-75ba-41fe-8c7a-f11a5e49395b",
   "metadata": {},
   "outputs": [],
   "source": [
    "def fatorial(n):\n",
    "    if n == 0:\n",
    "        return 1\n",
    "    else:\n",
    "        valor2 = fatorial(n-1)\n",
    "        return n  * valor2"
   ]
  },
  {
   "cell_type": "code",
   "execution_count": 30,
   "id": "f0bdf18e-a1ef-4625-a833-eeca95b356fb",
   "metadata": {},
   "outputs": [
    {
     "name": "stdout",
     "output_type": "stream",
     "text": [
      "120\n",
      "120\n"
     ]
    }
   ],
   "source": [
    "print(fatorial(5))\n",
    "print(math.factorial(5))"
   ]
  }
 ],
 "metadata": {
  "kernelspec": {
   "display_name": "anaconda-2024.02-py310",
   "language": "python",
   "name": "conda-env-anaconda-2024.02-py310-py"
  },
  "language_info": {
   "codemirror_mode": {
    "name": "ipython",
    "version": 3
   },
   "file_extension": ".py",
   "mimetype": "text/x-python",
   "name": "python",
   "nbconvert_exporter": "python",
   "pygments_lexer": "ipython3",
   "version": "3.10.14"
  }
 },
 "nbformat": 4,
 "nbformat_minor": 5
}
