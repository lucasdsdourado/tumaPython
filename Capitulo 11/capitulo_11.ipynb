{
 "cells": [
  {
   "cell_type": "markdown",
   "id": "93ce9127-7e46-4660-b498-0ef3e84c671a",
   "metadata": {},
   "source": [
    "# Tuplas são como listas"
   ]
  },
  {
   "cell_type": "code",
   "execution_count": 1,
   "id": "cf533245-fcd8-471e-95d4-45e7c78394d9",
   "metadata": {},
   "outputs": [],
   "source": [
    "tupla = ()"
   ]
  },
  {
   "cell_type": "code",
   "execution_count": 2,
   "id": "41c82eff-90fe-4c47-9138-d5a937bbc952",
   "metadata": {},
   "outputs": [
    {
     "data": {
      "text/plain": [
       "tuple"
      ]
     },
     "execution_count": 2,
     "metadata": {},
     "output_type": "execute_result"
    }
   ],
   "source": [
    "type(tupla)"
   ]
  },
  {
   "cell_type": "code",
   "execution_count": 3,
   "id": "fdb6e3fb-de5f-40a1-a1cf-c7c373a8ae9e",
   "metadata": {},
   "outputs": [],
   "source": [
    "nome = ('N','i','c','o','l','a','s')"
   ]
  },
  {
   "cell_type": "code",
   "execution_count": 4,
   "id": "7dc908c7-f542-40d3-abdf-bd067687742b",
   "metadata": {},
   "outputs": [
    {
     "data": {
      "text/plain": [
       "('N', 'i', 'c', 'o', 'l', 'a', 's')"
      ]
     },
     "execution_count": 4,
     "metadata": {},
     "output_type": "execute_result"
    }
   ],
   "source": [
    "nome"
   ]
  },
  {
   "cell_type": "code",
   "execution_count": 5,
   "id": "e0a1fa14-1793-404e-af4d-896c976af9ca",
   "metadata": {},
   "outputs": [
    {
     "data": {
      "text/plain": [
       "tuple"
      ]
     },
     "execution_count": 5,
     "metadata": {},
     "output_type": "execute_result"
    }
   ],
   "source": [
    "type(nome)"
   ]
  },
  {
   "cell_type": "code",
   "execution_count": 7,
   "id": "8c791c17-ea72-436b-bd33-9a291193951c",
   "metadata": {},
   "outputs": [
    {
     "data": {
      "text/plain": [
       "('N', 'i', 'c', 'o')"
      ]
     },
     "execution_count": 7,
     "metadata": {},
     "output_type": "execute_result"
    }
   ],
   "source": [
    "nome[0:4]"
   ]
  },
  {
   "cell_type": "code",
   "execution_count": 8,
   "id": "8dbf8f39-6c6d-4892-bdec-818c6b9b71ed",
   "metadata": {},
   "outputs": [
    {
     "data": {
      "text/plain": [
       "('N', 'i', 'c', 'o', 'l', 'a', 's', '!', '!')"
      ]
     },
     "execution_count": 8,
     "metadata": {},
     "output_type": "execute_result"
    }
   ],
   "source": [
    "nome + ('!','!')"
   ]
  },
  {
   "cell_type": "code",
   "execution_count": 9,
   "id": "c5a9adbd-79d5-494e-9d22-bd7847db53df",
   "metadata": {},
   "outputs": [
    {
     "data": {
      "text/plain": [
       "['N', 'a', 'c', 'i', 'l', 'o', 's']"
      ]
     },
     "execution_count": 9,
     "metadata": {},
     "output_type": "execute_result"
    }
   ],
   "source": [
    "sorted(nome)"
   ]
  },
  {
   "cell_type": "code",
   "execution_count": 11,
   "id": "e97a790a-ba8b-4a68-85e6-0a9fc67cbf6b",
   "metadata": {},
   "outputs": [
    {
     "data": {
      "text/plain": [
       "('s', 'a', 'l', 'o', 'c', 'i', 'N')"
      ]
     },
     "execution_count": 11,
     "metadata": {},
     "output_type": "execute_result"
    }
   ],
   "source": [
    "tuple(reversed(nome))"
   ]
  },
  {
   "cell_type": "code",
   "execution_count": 12,
   "id": "8e0f9bdc-930b-4f1f-b3d1-105a722d60f7",
   "metadata": {},
   "outputs": [
    {
     "data": {
      "text/plain": [
       "('N', 'i', 'c', 'o', 'l', 'a', 's')"
      ]
     },
     "execution_count": 12,
     "metadata": {},
     "output_type": "execute_result"
    }
   ],
   "source": [
    "nome"
   ]
  },
  {
   "cell_type": "code",
   "execution_count": 14,
   "id": "1a0394cb-0c86-48b4-8308-e575a3f272a3",
   "metadata": {},
   "outputs": [
    {
     "ename": "TypeError",
     "evalue": "'tuple' object does not support item assignment",
     "output_type": "error",
     "traceback": [
      "\u001b[0;31m---------------------------------------------------------------------------\u001b[0m",
      "\u001b[0;31mTypeError\u001b[0m                                 Traceback (most recent call last)",
      "Cell \u001b[0;32mIn[14], line 1\u001b[0m\n\u001b[0;32m----> 1\u001b[0m nome[\u001b[38;5;241m6\u001b[39m] \u001b[38;5;241m=\u001b[39m \u001b[38;5;124m'\u001b[39m\u001b[38;5;124mS\u001b[39m\u001b[38;5;124m'\u001b[39m\n",
      "\u001b[0;31mTypeError\u001b[0m: 'tuple' object does not support item assignment"
     ]
    }
   ],
   "source": [
    "nome[6] = 'S'"
   ]
  },
  {
   "cell_type": "code",
   "execution_count": 15,
   "id": "65a7eb0e-5a7a-44c0-a174-8a3a478787f7",
   "metadata": {},
   "outputs": [],
   "source": [
    "dicionario = {}"
   ]
  },
  {
   "cell_type": "code",
   "execution_count": 17,
   "id": "f2ef8570-d852-4472-97ad-0947e9c90f7c",
   "metadata": {},
   "outputs": [],
   "source": [
    "dicionario['chave'] = ('a','b','c')"
   ]
  },
  {
   "cell_type": "code",
   "execution_count": 20,
   "id": "1b1276df-e2e8-4daa-84c2-db3201acfbc9",
   "metadata": {},
   "outputs": [
    {
     "data": {
      "text/plain": [
       "('a', 'b', 'c')"
      ]
     },
     "execution_count": 20,
     "metadata": {},
     "output_type": "execute_result"
    }
   ],
   "source": [
    "dicionario['chave']"
   ]
  },
  {
   "cell_type": "code",
   "execution_count": 21,
   "id": "b73dfe3c-1fb4-4659-b13c-a95dcaf031ed",
   "metadata": {},
   "outputs": [
    {
     "data": {
      "text/plain": [
       "tuple"
      ]
     },
     "execution_count": 21,
     "metadata": {},
     "output_type": "execute_result"
    }
   ],
   "source": [
    "type(dicionario['chave'])"
   ]
  },
  {
   "cell_type": "code",
   "execution_count": 22,
   "id": "448f7c84-8139-4cc2-a18c-e1a4da91c321",
   "metadata": {},
   "outputs": [],
   "source": [
    "dicionario[('JOAO','20/10/1990')] = '30 ANOS'"
   ]
  },
  {
   "cell_type": "code",
   "execution_count": 23,
   "id": "13e8ea34-0033-4021-b671-da9dc78eb88c",
   "metadata": {},
   "outputs": [
    {
     "data": {
      "text/plain": [
       "{'chave': ('a', 'b', 'c'), ('JOAO', '20/10/1990'): '30 ANOS'}"
      ]
     },
     "execution_count": 23,
     "metadata": {},
     "output_type": "execute_result"
    }
   ],
   "source": [
    "dicionario"
   ]
  },
  {
   "cell_type": "code",
   "execution_count": 24,
   "id": "085e7477-bd95-4ee3-bc32-bc5a54575a0c",
   "metadata": {},
   "outputs": [
    {
     "data": {
      "text/plain": [
       "'30 ANOS'"
      ]
     },
     "execution_count": 24,
     "metadata": {},
     "output_type": "execute_result"
    }
   ],
   "source": [
    "dicionario[('JOAO','20/10/1990')]"
   ]
  },
  {
   "cell_type": "code",
   "execution_count": 25,
   "id": "b2969c1b-b3dd-4e30-a717-95b2a142eb16",
   "metadata": {},
   "outputs": [],
   "source": [
    "x, y  = 10, 20"
   ]
  },
  {
   "cell_type": "code",
   "execution_count": 26,
   "id": "64157751-4beb-438c-ab1f-2557b7689385",
   "metadata": {},
   "outputs": [
    {
     "data": {
      "text/plain": [
       "10"
      ]
     },
     "execution_count": 26,
     "metadata": {},
     "output_type": "execute_result"
    }
   ],
   "source": [
    "x"
   ]
  },
  {
   "cell_type": "code",
   "execution_count": 27,
   "id": "30dfd8d6-3524-4e79-a6d9-d1f64d05363f",
   "metadata": {},
   "outputs": [
    {
     "data": {
      "text/plain": [
       "20"
      ]
     },
     "execution_count": 27,
     "metadata": {},
     "output_type": "execute_result"
    }
   ],
   "source": [
    "y"
   ]
  },
  {
   "cell_type": "code",
   "execution_count": 28,
   "id": "0c779a39-c6c5-4b63-8c2a-a38d15b415f5",
   "metadata": {},
   "outputs": [
    {
     "data": {
      "text/plain": [
       "(10, 20)"
      ]
     },
     "execution_count": 28,
     "metadata": {},
     "output_type": "execute_result"
    }
   ],
   "source": [
    "x,y"
   ]
  },
  {
   "cell_type": "code",
   "execution_count": 29,
   "id": "27bee9c5-11ac-40ff-9a62-a3b7ae572ecf",
   "metadata": {},
   "outputs": [],
   "source": [
    "email  = 'victorbruno@impacta.com.br'"
   ]
  },
  {
   "cell_type": "code",
   "execution_count": 32,
   "id": "b876713c-5d81-48fb-9c5d-14aeac5c7e3f",
   "metadata": {},
   "outputs": [],
   "source": [
    "nome, dominio = email.split('@')"
   ]
  },
  {
   "cell_type": "code",
   "execution_count": 33,
   "id": "9fd49e18-85eb-4ec9-9782-3eff353d80f0",
   "metadata": {},
   "outputs": [
    {
     "data": {
      "text/plain": [
       "'victorbruno'"
      ]
     },
     "execution_count": 33,
     "metadata": {},
     "output_type": "execute_result"
    }
   ],
   "source": [
    "nome"
   ]
  },
  {
   "cell_type": "code",
   "execution_count": 34,
   "id": "913b692d-85f2-4294-9fe7-a4b7dfcc3bc9",
   "metadata": {},
   "outputs": [
    {
     "data": {
      "text/plain": [
       "'impacta.com.br'"
      ]
     },
     "execution_count": 34,
     "metadata": {},
     "output_type": "execute_result"
    }
   ],
   "source": [
    "dominio"
   ]
  },
  {
   "cell_type": "code",
   "execution_count": 35,
   "id": "f02665ae-a470-4cad-b42f-cf1ecab78620",
   "metadata": {},
   "outputs": [
    {
     "data": {
      "text/plain": [
       "('victorbruno', 'impacta.com.br')"
      ]
     },
     "execution_count": 35,
     "metadata": {},
     "output_type": "execute_result"
    }
   ],
   "source": [
    "nome, dominio"
   ]
  },
  {
   "cell_type": "code",
   "execution_count": 36,
   "id": "0b022b52-31a1-48d4-810f-a78fb97d77c7",
   "metadata": {},
   "outputs": [
    {
     "ename": "ValueError",
     "evalue": "too many values to unpack (expected 2)",
     "output_type": "error",
     "traceback": [
      "\u001b[0;31m---------------------------------------------------------------------------\u001b[0m",
      "\u001b[0;31mValueError\u001b[0m                                Traceback (most recent call last)",
      "Cell \u001b[0;32mIn[36], line 1\u001b[0m\n\u001b[0;32m----> 1\u001b[0m a, b \u001b[38;5;241m=\u001b[39m \u001b[38;5;241m1\u001b[39m,  \u001b[38;5;241m2\u001b[39m, \u001b[38;5;241m3\u001b[39m\n",
      "\u001b[0;31mValueError\u001b[0m: too many values to unpack (expected 2)"
     ]
    }
   ],
   "source": [
    "a, b = 1,  2, 3"
   ]
  },
  {
   "cell_type": "code",
   "execution_count": 37,
   "id": "1d80c7d1-4f07-482c-b34a-f4b611fbb9a0",
   "metadata": {},
   "outputs": [],
   "source": [
    "d = {'um': 1, 'dois': 2}"
   ]
  },
  {
   "cell_type": "code",
   "execution_count": 38,
   "id": "27231304-0315-44a7-8204-74652efc9048",
   "metadata": {},
   "outputs": [
    {
     "data": {
      "text/plain": [
       "{'um': 1, 'dois': 2}"
      ]
     },
     "execution_count": 38,
     "metadata": {},
     "output_type": "execute_result"
    }
   ],
   "source": [
    "d"
   ]
  },
  {
   "cell_type": "code",
   "execution_count": 40,
   "id": "3c7db05e-7da2-4838-aed6-ae52ec0e5f85",
   "metadata": {},
   "outputs": [
    {
     "data": {
      "text/plain": [
       "dict_items([('um', 1), ('dois', 2)])"
      ]
     },
     "execution_count": 40,
     "metadata": {},
     "output_type": "execute_result"
    }
   ],
   "source": [
    "d.items()"
   ]
  },
  {
   "cell_type": "code",
   "execution_count": 45,
   "id": "13116c90-e38d-4f3c-b419-3ef890fcd6ba",
   "metadata": {},
   "outputs": [
    {
     "data": {
      "text/plain": [
       "dict_items"
      ]
     },
     "execution_count": 45,
     "metadata": {},
     "output_type": "execute_result"
    }
   ],
   "source": [
    "type(d.items())"
   ]
  },
  {
   "cell_type": "code",
   "execution_count": 57,
   "id": "8cee8973-0d1d-46d2-b3ed-9802ec9fc39e",
   "metadata": {},
   "outputs": [
    {
     "name": "stdout",
     "output_type": "stream",
     "text": [
      "Chave: um | Valor: 1\n",
      "Chave: dois | Valor: 2\n"
     ]
    }
   ],
   "source": [
    "for i in d.items():\n",
    "    chave, valor = i\n",
    "    print('Chave:',chave,'| Valor:',valor)"
   ]
  },
  {
   "cell_type": "code",
   "execution_count": 58,
   "id": "c9de7ccc-e83d-4920-917a-e4a94a2a28bb",
   "metadata": {},
   "outputs": [],
   "source": [
    "def min_max(conjunto):\n",
    "    return min(conjunto), max(conjunto)"
   ]
  },
  {
   "cell_type": "code",
   "execution_count": 60,
   "id": "382fb6bb-d823-4d5e-a07a-d41317ea36e5",
   "metadata": {},
   "outputs": [
    {
     "data": {
      "text/plain": [
       "(1, 9)"
      ]
     },
     "execution_count": 60,
     "metadata": {},
     "output_type": "execute_result"
    }
   ],
   "source": [
    "min_max([1,5,9,8,7,2])"
   ]
  },
  {
   "cell_type": "code",
   "execution_count": 63,
   "id": "dbeb19e0-2066-4902-b67c-197f3b19e8ad",
   "metadata": {},
   "outputs": [
    {
     "data": {
      "text/plain": [
       "(1, 5)"
      ]
     },
     "execution_count": 63,
     "metadata": {},
     "output_type": "execute_result"
    }
   ],
   "source": [
    "min_max((1,5,3,4))"
   ]
  },
  {
   "cell_type": "code",
   "execution_count": 69,
   "id": "59326e16-6f12-4cc4-a16e-5eae6900aedd",
   "metadata": {},
   "outputs": [],
   "source": [
    "def media(*args):\n",
    "    print(type(args))\n",
    "    return sum(args) / len(args)"
   ]
  },
  {
   "cell_type": "code",
   "execution_count": 70,
   "id": "086ec2bf-2f35-4783-a784-f6bc7eb0e352",
   "metadata": {},
   "outputs": [
    {
     "name": "stdout",
     "output_type": "stream",
     "text": [
      "<class 'tuple'>\n"
     ]
    },
    {
     "data": {
      "text/plain": [
       "10.0"
      ]
     },
     "execution_count": 70,
     "metadata": {},
     "output_type": "execute_result"
    }
   ],
   "source": [
    "media(10,10)"
   ]
  },
  {
   "cell_type": "code",
   "execution_count": 71,
   "id": "6165c547-e9e1-45b9-9581-f78490295a48",
   "metadata": {},
   "outputs": [
    {
     "name": "stdout",
     "output_type": "stream",
     "text": [
      "<class 'tuple'>\n"
     ]
    },
    {
     "data": {
      "text/plain": [
       "9.0"
      ]
     },
     "execution_count": 71,
     "metadata": {},
     "output_type": "execute_result"
    }
   ],
   "source": [
    "media(10,8)"
   ]
  },
  {
   "cell_type": "code",
   "execution_count": 72,
   "id": "1a00c69e-83c1-44e7-920e-e62cb54ec1d6",
   "metadata": {},
   "outputs": [
    {
     "name": "stdout",
     "output_type": "stream",
     "text": [
      "X v a\n"
     ]
    }
   ],
   "source": [
    "print(\"X\",\"v\",\"a\")"
   ]
  },
  {
   "cell_type": "markdown",
   "id": "b92fbe46-12b5-4c3a-bc60-26395d7a02fe",
   "metadata": {},
   "source": [
    "# Comparando Tuplas"
   ]
  },
  {
   "cell_type": "code",
   "execution_count": 80,
   "id": "cb709ca3-053c-4900-b7e9-8e9b4fc1aa7b",
   "metadata": {},
   "outputs": [],
   "source": [
    "time1 = [1, 2, 4, 5, 1, 5, 2]\n",
    "time2 = [5, 5, 2, 2, 5, 2, 3]"
   ]
  },
  {
   "cell_type": "code",
   "execution_count": 75,
   "id": "d88f5574-48d8-4765-af53-e7c7114d2ef7",
   "metadata": {},
   "outputs": [
    {
     "data": {
      "text/plain": [
       "<zip at 0x797f3b1f9100>"
      ]
     },
     "execution_count": 75,
     "metadata": {},
     "output_type": "execute_result"
    }
   ],
   "source": [
    "zip(time1, time2)"
   ]
  },
  {
   "cell_type": "code",
   "execution_count": 76,
   "id": "85680c7e-6568-4d0d-a73f-d38d14c8653d",
   "metadata": {},
   "outputs": [
    {
     "name": "stdout",
     "output_type": "stream",
     "text": [
      "(1, 5)\n",
      "(2, 5)\n",
      "(4, 2)\n",
      "(5, 2)\n",
      "(1, 5)\n",
      "(5, 2)\n",
      "(2, 3)\n"
     ]
    }
   ],
   "source": [
    "for par in zip(time1, time2):\n",
    "    print(par)"
   ]
  },
  {
   "cell_type": "code",
   "execution_count": 77,
   "id": "a0a381d6-7ba9-4407-88c3-29d019189ea8",
   "metadata": {},
   "outputs": [
    {
     "data": {
      "text/plain": [
       "3"
      ]
     },
     "execution_count": 77,
     "metadata": {},
     "output_type": "execute_result"
    }
   ],
   "source": [
    "vitorias =  0\n",
    "\n",
    "for time1, time2 in zip(time1, time2):\n",
    "    if time1 > time2:\n",
    "        vitorias += 1\n",
    "\n",
    "vitorias"
   ]
  },
  {
   "cell_type": "code",
   "execution_count": 82,
   "id": "9ceea411-d8d1-443e-b23f-cc51029a0089",
   "metadata": {},
   "outputs": [],
   "source": [
    "time1 = [1, 2, 4, 5, 1, 5, 2]\n",
    "time2 = [5, 5, 2, 2, 5, 2, 3]\n",
    "\n",
    "pontos = list(zip(time1, time2))"
   ]
  },
  {
   "cell_type": "code",
   "execution_count": 83,
   "id": "c74e417b-b384-4172-a3a0-7ccb4ed02f61",
   "metadata": {},
   "outputs": [
    {
     "data": {
      "text/plain": [
       "[(1, 5), (2, 5), (4, 2), (5, 2), (1, 5), (5, 2), (2, 3)]"
      ]
     },
     "execution_count": 83,
     "metadata": {},
     "output_type": "execute_result"
    }
   ],
   "source": [
    "pontos"
   ]
  },
  {
   "cell_type": "markdown",
   "id": "5e392ec5-0065-4c2c-b6f0-8bb72b41a1a9",
   "metadata": {},
   "source": [
    "# Comparando e Classificando"
   ]
  },
  {
   "cell_type": "code",
   "execution_count": 84,
   "id": "f4d090b3-f1b6-4681-adf9-ad62959288d2",
   "metadata": {},
   "outputs": [
    {
     "data": {
      "text/plain": [
       "True"
      ]
     },
     "execution_count": 84,
     "metadata": {},
     "output_type": "execute_result"
    }
   ],
   "source": [
    "(0, 1, 2) <  (0, 3, 4)"
   ]
  },
  {
   "cell_type": "code",
   "execution_count": 86,
   "id": "4f3a35d6-402b-459d-b2e9-59d047715ad1",
   "metadata": {},
   "outputs": [
    {
     "data": {
      "text/plain": [
       "True"
      ]
     },
     "execution_count": 86,
     "metadata": {},
     "output_type": "execute_result"
    }
   ],
   "source": [
    "(0, 1, 2) <  (0, 1, 4)"
   ]
  },
  {
   "cell_type": "code",
   "execution_count": 87,
   "id": "a386f946-fe26-4153-b470-0a6d0f919b04",
   "metadata": {},
   "outputs": [
    {
     "data": {
      "text/plain": [
       "False"
      ]
     },
     "execution_count": 87,
     "metadata": {},
     "output_type": "execute_result"
    }
   ],
   "source": [
    "(0, 1, 5) <  (0, 1, 4)"
   ]
  },
  {
   "cell_type": "code",
   "execution_count": 88,
   "id": "b102c45d-f1c2-41ba-b291-2e33275d6a53",
   "metadata": {},
   "outputs": [
    {
     "data": {
      "text/plain": [
       "True"
      ]
     },
     "execution_count": 88,
     "metadata": {},
     "output_type": "execute_result"
    }
   ],
   "source": [
    "(0, 1, 20000) <  (0, 2, 4)"
   ]
  },
  {
   "cell_type": "code",
   "execution_count": 96,
   "id": "12b8f0e0-9f1b-49b5-8afd-1ed29e3f1aeb",
   "metadata": {},
   "outputs": [],
   "source": [
    "def conta_elementos(conjunto):\n",
    "    contagem = {}\n",
    "    for elemento in conjunto:\n",
    "        if elemento not in contagem:\n",
    "            contagem[elemento] = 1\n",
    "        else:\n",
    "            contagem[elemento] += 1\n",
    "    return contagem"
   ]
  },
  {
   "cell_type": "code",
   "execution_count": 97,
   "id": "036b2e5b-20a5-4ac9-8ef5-49fe6c277763",
   "metadata": {},
   "outputs": [],
   "source": [
    "contagem = conta_elementos('banana')"
   ]
  },
  {
   "cell_type": "code",
   "execution_count": 98,
   "id": "30c06794-4c97-483d-aab4-db43631046b8",
   "metadata": {},
   "outputs": [
    {
     "data": {
      "text/plain": [
       "{'b': 1, 'a': 3, 'n': 2}"
      ]
     },
     "execution_count": 98,
     "metadata": {},
     "output_type": "execute_result"
    }
   ],
   "source": [
    "contagem"
   ]
  },
  {
   "cell_type": "code",
   "execution_count": 101,
   "id": "6568e22c-72d4-417d-a7ef-f793214b1747",
   "metadata": {},
   "outputs": [
    {
     "data": {
      "text/plain": [
       "dict_items([('b', 1), ('a', 3), ('n', 2)])"
      ]
     },
     "execution_count": 101,
     "metadata": {},
     "output_type": "execute_result"
    }
   ],
   "source": [
    "itens = contagem.items()\n",
    "itens"
   ]
  },
  {
   "cell_type": "code",
   "execution_count": 102,
   "id": "ae901f84-e31b-4928-a2bb-b6abd8a386d0",
   "metadata": {},
   "outputs": [
    {
     "data": {
      "text/plain": [
       "[('a', 3), ('b', 1), ('n', 2)]"
      ]
     },
     "execution_count": 102,
     "metadata": {},
     "output_type": "execute_result"
    }
   ],
   "source": [
    "sorted(itens)"
   ]
  },
  {
   "cell_type": "code",
   "execution_count": 105,
   "id": "336f32c5-8a5b-4048-b5eb-f6911d3542c5",
   "metadata": {},
   "outputs": [],
   "source": [
    "def segundo_elemento(tupla):\n",
    "    return tupla[1]"
   ]
  },
  {
   "cell_type": "code",
   "execution_count": 106,
   "id": "fd8bc0fc-5778-423e-82b8-8749322a33fc",
   "metadata": {},
   "outputs": [
    {
     "data": {
      "text/plain": [
       "'y'"
      ]
     },
     "execution_count": 106,
     "metadata": {},
     "output_type": "execute_result"
    }
   ],
   "source": [
    "segundo_elemento(('x','y'))"
   ]
  },
  {
   "cell_type": "code",
   "execution_count": 109,
   "id": "f82b99d3-a4ef-46b5-a50d-5b8d1d50e9a0",
   "metadata": {},
   "outputs": [
    {
     "data": {
      "text/plain": [
       "[('b', 1), ('n', 2), ('a', 3)]"
      ]
     },
     "execution_count": 109,
     "metadata": {},
     "output_type": "execute_result"
    }
   ],
   "source": [
    "classificacao = sorted(itens, key=segundo_elemento, reverse=False)\n",
    "classificacao"
   ]
  },
  {
   "cell_type": "code",
   "execution_count": 110,
   "id": "c1f972f0-c428-4622-9e9c-523cb2a960da",
   "metadata": {},
   "outputs": [
    {
     "data": {
      "text/plain": [
       "[('a', 3), ('n', 2), ('b', 1)]"
      ]
     },
     "execution_count": 110,
     "metadata": {},
     "output_type": "execute_result"
    }
   ],
   "source": [
    "classificacao = sorted(itens, key=segundo_elemento, reverse=True)\n",
    "classificacao"
   ]
  },
  {
   "cell_type": "code",
   "execution_count": 118,
   "id": "d35d3683-54ce-4750-b491-7629e5f7adb4",
   "metadata": {},
   "outputs": [],
   "source": [
    "def invert_dict(dicionario):\n",
    "    contagem = {}\n",
    "    for chave,valor in dicionario.items():\n",
    "        if valor not in contagem:\n",
    "            contagem[valor] = [chave]\n",
    "        else:\n",
    "            contagem[valor].append(chave)\n",
    "    return contagem"
   ]
  },
  {
   "cell_type": "code",
   "execution_count": 113,
   "id": "fc90d058-9c57-4a29-b1e6-499a2aab5862",
   "metadata": {},
   "outputs": [],
   "source": [
    "exemplo = conta_elementos('Impacta Treinamentos')"
   ]
  },
  {
   "cell_type": "code",
   "execution_count": 114,
   "id": "9e44ef30-0635-41bc-8e1b-815b45f5f45f",
   "metadata": {},
   "outputs": [
    {
     "data": {
      "text/plain": [
       "{'I': 1,\n",
       " 'm': 2,\n",
       " 'p': 1,\n",
       " 'a': 3,\n",
       " 'c': 1,\n",
       " 't': 2,\n",
       " ' ': 1,\n",
       " 'T': 1,\n",
       " 'r': 1,\n",
       " 'e': 2,\n",
       " 'i': 1,\n",
       " 'n': 2,\n",
       " 'o': 1,\n",
       " 's': 1}"
      ]
     },
     "execution_count": 114,
     "metadata": {},
     "output_type": "execute_result"
    }
   ],
   "source": [
    "exemplo"
   ]
  },
  {
   "cell_type": "code",
   "execution_count": 119,
   "id": "3eb2ce0b-de81-4454-b52d-9daf0496e7ce",
   "metadata": {},
   "outputs": [
    {
     "data": {
      "text/plain": [
       "{1: ['I', 'p', 'c', ' ', 'T', 'r', 'i', 'o', 's'],\n",
       " 2: ['m', 't', 'e', 'n'],\n",
       " 3: ['a']}"
      ]
     },
     "execution_count": 119,
     "metadata": {},
     "output_type": "execute_result"
    }
   ],
   "source": [
    "invert_dict(exemplo)"
   ]
  }
 ],
 "metadata": {
  "kernelspec": {
   "display_name": "anaconda-2024.02-py310",
   "language": "python",
   "name": "conda-env-anaconda-2024.02-py310-py"
  },
  "language_info": {
   "codemirror_mode": {
    "name": "ipython",
    "version": 3
   },
   "file_extension": ".py",
   "mimetype": "text/x-python",
   "name": "python",
   "nbconvert_exporter": "python",
   "pygments_lexer": "ipython3",
   "version": "3.10.14"
  }
 },
 "nbformat": 4,
 "nbformat_minor": 5
}
