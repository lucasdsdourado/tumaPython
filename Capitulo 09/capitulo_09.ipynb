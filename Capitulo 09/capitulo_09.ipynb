{
 "cells": [
  {
   "cell_type": "markdown",
   "id": "fbed205f-e545-4bbc-bdb2-0ad135583d64",
   "metadata": {},
   "source": [
    "# Lista é uma sequência"
   ]
  },
  {
   "cell_type": "code",
   "execution_count": 5,
   "id": "67af5953-bb6d-489d-b645-5eafde9cead6",
   "metadata": {},
   "outputs": [],
   "source": [
    "# numeros = list()\n",
    "# numeros = []\n",
    "numeros = [50 , 20]"
   ]
  },
  {
   "cell_type": "code",
   "execution_count": 6,
   "id": "586ee60c-2bcd-4480-b110-9943680a3038",
   "metadata": {},
   "outputs": [
    {
     "data": {
      "text/plain": [
       "list"
      ]
     },
     "execution_count": 6,
     "metadata": {},
     "output_type": "execute_result"
    }
   ],
   "source": [
    "type(numeros)"
   ]
  },
  {
   "cell_type": "code",
   "execution_count": 7,
   "id": "2f97f7be-16fd-49e9-a584-4972d9bd5759",
   "metadata": {},
   "outputs": [],
   "source": [
    "frutas = ['Maça', 'Banana', 'Melão']"
   ]
  },
  {
   "cell_type": "code",
   "execution_count": 8,
   "id": "ced14429-cad0-483e-b16f-dfa96e2f08e4",
   "metadata": {},
   "outputs": [],
   "source": [
    "lista = ['Olá', 2.50, 5, [20, 40]]"
   ]
  },
  {
   "cell_type": "code",
   "execution_count": 9,
   "id": "ac958abd-5d0f-41b1-afb4-d9c533ffbe73",
   "metadata": {},
   "outputs": [
    {
     "data": {
      "text/plain": [
       "3"
      ]
     },
     "execution_count": 9,
     "metadata": {},
     "output_type": "execute_result"
    }
   ],
   "source": [
    "len(frutas)"
   ]
  },
  {
   "cell_type": "code",
   "execution_count": 11,
   "id": "16530dc7-4e5b-4688-b584-313640d2e16b",
   "metadata": {},
   "outputs": [
    {
     "data": {
      "text/plain": [
       "2"
      ]
     },
     "execution_count": 11,
     "metadata": {},
     "output_type": "execute_result"
    }
   ],
   "source": [
    "len(lista[3])"
   ]
  },
  {
   "cell_type": "code",
   "execution_count": 12,
   "id": "8682870b-ead2-4481-a487-53683078176c",
   "metadata": {},
   "outputs": [
    {
     "data": {
      "text/plain": [
       "['Maça', 'Banana', 'Melão']"
      ]
     },
     "execution_count": 12,
     "metadata": {},
     "output_type": "execute_result"
    }
   ],
   "source": [
    "frutas"
   ]
  },
  {
   "cell_type": "code",
   "execution_count": 14,
   "id": "5175037c-c0b0-43ae-8a8d-64a7c765d9aa",
   "metadata": {},
   "outputs": [],
   "source": [
    "frutas[1] = 'Morango'"
   ]
  },
  {
   "cell_type": "code",
   "execution_count": 15,
   "id": "55fa182d-fb2d-48c2-86f2-d6bb103999fd",
   "metadata": {},
   "outputs": [
    {
     "data": {
      "text/plain": [
       "['Maça', 'Morango', 'Melão']"
      ]
     },
     "execution_count": 15,
     "metadata": {},
     "output_type": "execute_result"
    }
   ],
   "source": [
    "frutas"
   ]
  },
  {
   "cell_type": "code",
   "execution_count": 16,
   "id": "f5214246-0e71-4ee3-83ff-7e1803e57c4d",
   "metadata": {},
   "outputs": [
    {
     "data": {
      "text/plain": [
       "[50, 20]"
      ]
     },
     "execution_count": 16,
     "metadata": {},
     "output_type": "execute_result"
    }
   ],
   "source": [
    "numeros"
   ]
  },
  {
   "cell_type": "code",
   "execution_count": 17,
   "id": "93a4ad92-31e1-4878-8674-7d6b6a9bb694",
   "metadata": {},
   "outputs": [
    {
     "data": {
      "text/plain": [
       "False"
      ]
     },
     "execution_count": 17,
     "metadata": {},
     "output_type": "execute_result"
    }
   ],
   "source": [
    "10  in numeros"
   ]
  },
  {
   "cell_type": "code",
   "execution_count": 18,
   "id": "58983438-cf47-4e73-9b3b-7f5fb1231939",
   "metadata": {},
   "outputs": [
    {
     "data": {
      "text/plain": [
       "True"
      ]
     },
     "execution_count": 18,
     "metadata": {},
     "output_type": "execute_result"
    }
   ],
   "source": [
    "20 in numeros"
   ]
  },
  {
   "cell_type": "code",
   "execution_count": 19,
   "id": "a396229b-3648-45d4-a4f9-58fbf5d8514b",
   "metadata": {},
   "outputs": [
    {
     "data": {
      "text/plain": [
       "['Olá', 2.5, 5, [20, 40]]"
      ]
     },
     "execution_count": 19,
     "metadata": {},
     "output_type": "execute_result"
    }
   ],
   "source": [
    "lista"
   ]
  },
  {
   "cell_type": "code",
   "execution_count": 20,
   "id": "32c3bab4-ce29-496a-a1bf-5597b46000e2",
   "metadata": {},
   "outputs": [
    {
     "data": {
      "text/plain": [
       "['Olá', 2.5, 5]"
      ]
     },
     "execution_count": 20,
     "metadata": {},
     "output_type": "execute_result"
    }
   ],
   "source": [
    "lista[:3]"
   ]
  },
  {
   "cell_type": "code",
   "execution_count": 21,
   "id": "f75c1fd4-197c-46e8-9667-63cd7e20cd1a",
   "metadata": {},
   "outputs": [
    {
     "data": {
      "text/plain": [
       "[2.5, 5]"
      ]
     },
     "execution_count": 21,
     "metadata": {},
     "output_type": "execute_result"
    }
   ],
   "source": [
    "lista[1:3]"
   ]
  },
  {
   "cell_type": "code",
   "execution_count": 22,
   "id": "44d2f0fb-ef64-4c78-b07f-408bfe0a51e8",
   "metadata": {},
   "outputs": [
    {
     "data": {
      "text/plain": [
       "[20, 40]"
      ]
     },
     "execution_count": 22,
     "metadata": {},
     "output_type": "execute_result"
    }
   ],
   "source": [
    "lista[3]"
   ]
  },
  {
   "cell_type": "code",
   "execution_count": 23,
   "id": "61e7304b-c0a0-4fb4-be3e-c71359ad6b97",
   "metadata": {},
   "outputs": [
    {
     "data": {
      "text/plain": [
       "['Olá', 2.5, 5, [20, 40]]"
      ]
     },
     "execution_count": 23,
     "metadata": {},
     "output_type": "execute_result"
    }
   ],
   "source": [
    "lista[:]"
   ]
  },
  {
   "cell_type": "code",
   "execution_count": 24,
   "id": "02d53e7d-43af-4577-b77d-6ac46ac027f5",
   "metadata": {},
   "outputs": [
    {
     "data": {
      "text/plain": [
       "['Olá', 2.5, 5, [20, 40]]"
      ]
     },
     "execution_count": 24,
     "metadata": {},
     "output_type": "execute_result"
    }
   ],
   "source": [
    "lista"
   ]
  },
  {
   "cell_type": "markdown",
   "id": "bdae4abf-c030-405b-8e27-e020f80d5e59",
   "metadata": {},
   "source": [
    "# Métodos da Lista"
   ]
  },
  {
   "cell_type": "code",
   "execution_count": 3,
   "id": "1f3d0c28-6024-4fe9-8718-e8df32a8a9b1",
   "metadata": {},
   "outputs": [],
   "source": [
    "letras  = ['a', 'b', 'c', 'd']"
   ]
  },
  {
   "cell_type": "code",
   "execution_count": 5,
   "id": "1a0d142d-097f-418f-b992-48c88dd2700f",
   "metadata": {},
   "outputs": [],
   "source": [
    "letras.append('e')"
   ]
  },
  {
   "cell_type": "code",
   "execution_count": 6,
   "id": "8645b51d-a7c3-44e9-bd78-a3d7584be938",
   "metadata": {},
   "outputs": [
    {
     "data": {
      "text/plain": [
       "['a', 'b', 'c', 'd', 'e']"
      ]
     },
     "execution_count": 6,
     "metadata": {},
     "output_type": "execute_result"
    }
   ],
   "source": [
    "letras"
   ]
  },
  {
   "cell_type": "code",
   "execution_count": 7,
   "id": "44814a14-822d-4683-8521-ccb0b087a7ec",
   "metadata": {},
   "outputs": [],
   "source": [
    "letras.extend(['f','g'])"
   ]
  },
  {
   "cell_type": "code",
   "execution_count": 8,
   "id": "e5cec254-f28e-498b-a400-33cdd3df2289",
   "metadata": {},
   "outputs": [
    {
     "data": {
      "text/plain": [
       "['a', 'b', 'c', 'd', 'e', 'f', 'g']"
      ]
     },
     "execution_count": 8,
     "metadata": {},
     "output_type": "execute_result"
    }
   ],
   "source": [
    "letras"
   ]
  },
  {
   "cell_type": "code",
   "execution_count": 9,
   "id": "e1c11ebe-3a4a-4baa-a333-7b9475640c9a",
   "metadata": {},
   "outputs": [],
   "source": [
    "letras.extend('fg')"
   ]
  },
  {
   "cell_type": "code",
   "execution_count": 10,
   "id": "78af7d32-31fd-4569-b9d5-66c86a48ef12",
   "metadata": {},
   "outputs": [
    {
     "data": {
      "text/plain": [
       "['a', 'b', 'c', 'd', 'e', 'f', 'g', 'f', 'g']"
      ]
     },
     "execution_count": 10,
     "metadata": {},
     "output_type": "execute_result"
    }
   ],
   "source": [
    "letras"
   ]
  },
  {
   "cell_type": "code",
   "execution_count": 11,
   "id": "3ab730e7-a555-446b-af65-885211c6ed9b",
   "metadata": {},
   "outputs": [
    {
     "data": {
      "text/plain": [
       "'f'"
      ]
     },
     "execution_count": 11,
     "metadata": {},
     "output_type": "execute_result"
    }
   ],
   "source": [
    "letras.pop(5)"
   ]
  },
  {
   "cell_type": "code",
   "execution_count": 12,
   "id": "bad26fc6-17ca-479b-ad79-9fd6dcab1da6",
   "metadata": {},
   "outputs": [
    {
     "data": {
      "text/plain": [
       "['a', 'b', 'c', 'd', 'e', 'g', 'f', 'g']"
      ]
     },
     "execution_count": 12,
     "metadata": {},
     "output_type": "execute_result"
    }
   ],
   "source": [
    "letras"
   ]
  },
  {
   "cell_type": "code",
   "execution_count": 13,
   "id": "058a999f-c702-4146-a47e-101324c089ad",
   "metadata": {},
   "outputs": [],
   "source": [
    "letras.remove('g')"
   ]
  },
  {
   "cell_type": "code",
   "execution_count": 14,
   "id": "639b5384-c80b-4048-bd46-ae79b68e1f6c",
   "metadata": {},
   "outputs": [
    {
     "data": {
      "text/plain": [
       "['a', 'b', 'c', 'd', 'e', 'f', 'g']"
      ]
     },
     "execution_count": 14,
     "metadata": {},
     "output_type": "execute_result"
    }
   ],
   "source": [
    "letras"
   ]
  },
  {
   "cell_type": "code",
   "execution_count": 15,
   "id": "fd4f6c4c-50d6-4151-a7f6-c54b209f65dd",
   "metadata": {},
   "outputs": [
    {
     "ename": "ValueError",
     "evalue": "list.remove(x): x not in list",
     "output_type": "error",
     "traceback": [
      "\u001b[0;31m---------------------------------------------------------------------------\u001b[0m",
      "\u001b[0;31mValueError\u001b[0m                                Traceback (most recent call last)",
      "Cell \u001b[0;32mIn[15], line 1\u001b[0m\n\u001b[0;32m----> 1\u001b[0m \u001b[43mletras\u001b[49m\u001b[38;5;241;43m.\u001b[39;49m\u001b[43mremove\u001b[49m\u001b[43m(\u001b[49m\u001b[38;5;124;43m'\u001b[39;49m\u001b[38;5;124;43mx\u001b[39;49m\u001b[38;5;124;43m'\u001b[39;49m\u001b[43m)\u001b[49m\n",
      "\u001b[0;31mValueError\u001b[0m: list.remove(x): x not in list"
     ]
    }
   ],
   "source": [
    "letras.remove('x')"
   ]
  },
  {
   "cell_type": "code",
   "execution_count": 16,
   "id": "7355f7d9-b708-4151-a997-c1e24bcecbcb",
   "metadata": {},
   "outputs": [
    {
     "ename": "IndexError",
     "evalue": "pop index out of range",
     "output_type": "error",
     "traceback": [
      "\u001b[0;31m---------------------------------------------------------------------------\u001b[0m",
      "\u001b[0;31mIndexError\u001b[0m                                Traceback (most recent call last)",
      "Cell \u001b[0;32mIn[16], line 1\u001b[0m\n\u001b[0;32m----> 1\u001b[0m \u001b[43mletras\u001b[49m\u001b[38;5;241;43m.\u001b[39;49m\u001b[43mpop\u001b[49m\u001b[43m(\u001b[49m\u001b[38;5;241;43m7\u001b[39;49m\u001b[43m)\u001b[49m\n",
      "\u001b[0;31mIndexError\u001b[0m: pop index out of range"
     ]
    }
   ],
   "source": [
    "letras.pop(7)"
   ]
  },
  {
   "cell_type": "code",
   "execution_count": 19,
   "id": "aa6f7352-ff95-4183-88a4-fe131f376090",
   "metadata": {},
   "outputs": [
    {
     "name": "stdout",
     "output_type": "stream",
     "text": [
      "invalido\n"
     ]
    }
   ],
   "source": [
    "try:\n",
    "    letras.remove('x')\n",
    "except:\n",
    "    print(\"invalido\")"
   ]
  },
  {
   "cell_type": "code",
   "execution_count": 22,
   "id": "66604f62-90df-4706-aac9-6025c6139d5a",
   "metadata": {},
   "outputs": [
    {
     "name": "stdout",
     "output_type": "stream",
     "text": [
      "invalido\n"
     ]
    }
   ],
   "source": [
    "if 'x' in letras:\n",
    "    letras.remove('x')\n",
    "else:\n",
    "    print('invalido')"
   ]
  },
  {
   "cell_type": "code",
   "execution_count": 24,
   "id": "92bc0f79-fc05-49bb-b5d5-5c8677364d3d",
   "metadata": {},
   "outputs": [
    {
     "data": {
      "text/plain": [
       "['a', 'b', 'c', 'd', 'e', 'f', 'g']"
      ]
     },
     "execution_count": 24,
     "metadata": {},
     "output_type": "execute_result"
    }
   ],
   "source": [
    "letras"
   ]
  },
  {
   "cell_type": "code",
   "execution_count": 25,
   "id": "0345b15a-eff3-4410-85f8-0591840873a8",
   "metadata": {},
   "outputs": [],
   "source": [
    "letras.append('i')"
   ]
  },
  {
   "cell_type": "code",
   "execution_count": 26,
   "id": "d8fef53a-ad48-43fc-8425-34f00159bf59",
   "metadata": {},
   "outputs": [
    {
     "data": {
      "text/plain": [
       "['a', 'b', 'c', 'd', 'e', 'f', 'g', 'i']"
      ]
     },
     "execution_count": 26,
     "metadata": {},
     "output_type": "execute_result"
    }
   ],
   "source": [
    "letras"
   ]
  },
  {
   "cell_type": "code",
   "execution_count": 27,
   "id": "3dc62254-3c71-4e2c-ad31-c968829a8e6d",
   "metadata": {},
   "outputs": [],
   "source": [
    "letras.insert(7,'h')"
   ]
  },
  {
   "cell_type": "code",
   "execution_count": 28,
   "id": "e922dcff-fcfa-4e52-bf98-41fe2f016d93",
   "metadata": {},
   "outputs": [
    {
     "data": {
      "text/plain": [
       "['a', 'b', 'c', 'd', 'e', 'f', 'g', 'h', 'i']"
      ]
     },
     "execution_count": 28,
     "metadata": {},
     "output_type": "execute_result"
    }
   ],
   "source": [
    "letras"
   ]
  },
  {
   "cell_type": "markdown",
   "id": "3bb60e35-7d61-4384-a0e7-efed60c11c31",
   "metadata": {},
   "source": [
    "# STR em Lista"
   ]
  },
  {
   "cell_type": "code",
   "execution_count": 29,
   "id": "ffec1c94-bcaa-4e8b-9719-00a34e3e37c2",
   "metadata": {},
   "outputs": [],
   "source": [
    "texto = 'Olá'"
   ]
  },
  {
   "cell_type": "code",
   "execution_count": 30,
   "id": "2d71cbe0-4348-4e1a-8a7d-8843b53b068c",
   "metadata": {},
   "outputs": [
    {
     "data": {
      "text/plain": [
       "str"
      ]
     },
     "execution_count": 30,
     "metadata": {},
     "output_type": "execute_result"
    }
   ],
   "source": [
    "type(texto)"
   ]
  },
  {
   "cell_type": "code",
   "execution_count": 31,
   "id": "2a9488ab-6865-4dab-9f92-8cc622f1a50d",
   "metadata": {},
   "outputs": [],
   "source": [
    "texto =  list(texto)"
   ]
  },
  {
   "cell_type": "code",
   "execution_count": 32,
   "id": "28934753-3d1b-453a-9890-0df7ee05f1d8",
   "metadata": {},
   "outputs": [
    {
     "data": {
      "text/plain": [
       "['O', 'l', 'á']"
      ]
     },
     "execution_count": 32,
     "metadata": {},
     "output_type": "execute_result"
    }
   ],
   "source": [
    "texto"
   ]
  },
  {
   "cell_type": "code",
   "execution_count": 33,
   "id": "bd8aedac-5105-4dea-aabb-d6a2c93fe9f3",
   "metadata": {},
   "outputs": [
    {
     "data": {
      "text/plain": [
       "list"
      ]
     },
     "execution_count": 33,
     "metadata": {},
     "output_type": "execute_result"
    }
   ],
   "source": [
    "type(texto)"
   ]
  },
  {
   "cell_type": "code",
   "execution_count": 34,
   "id": "62805b6f-43e3-469a-aa85-b3707e8c0a30",
   "metadata": {},
   "outputs": [],
   "source": [
    "frase = 'Estamos no curso de python'"
   ]
  },
  {
   "cell_type": "code",
   "execution_count": 35,
   "id": "a3965ee9-12d9-4244-8e62-95b3f849f2c7",
   "metadata": {},
   "outputs": [],
   "source": [
    "frase2 = list(frase)"
   ]
  },
  {
   "cell_type": "code",
   "execution_count": 36,
   "id": "9298b4f8-2890-4eb6-a6b1-9323eac66309",
   "metadata": {},
   "outputs": [
    {
     "data": {
      "text/plain": [
       "['E',\n",
       " 's',\n",
       " 't',\n",
       " 'a',\n",
       " 'm',\n",
       " 'o',\n",
       " 's',\n",
       " ' ',\n",
       " 'n',\n",
       " 'o',\n",
       " ' ',\n",
       " 'c',\n",
       " 'u',\n",
       " 'r',\n",
       " 's',\n",
       " 'o',\n",
       " ' ',\n",
       " 'd',\n",
       " 'e',\n",
       " ' ',\n",
       " 'p',\n",
       " 'y',\n",
       " 't',\n",
       " 'h',\n",
       " 'o',\n",
       " 'n']"
      ]
     },
     "execution_count": 36,
     "metadata": {},
     "output_type": "execute_result"
    }
   ],
   "source": [
    "frase2"
   ]
  },
  {
   "cell_type": "code",
   "execution_count": 38,
   "id": "f5c8d82e-f31e-452a-84ef-339ea856be72",
   "metadata": {},
   "outputs": [
    {
     "data": {
      "text/plain": [
       "str"
      ]
     },
     "execution_count": 38,
     "metadata": {},
     "output_type": "execute_result"
    }
   ],
   "source": [
    "type(frase)"
   ]
  },
  {
   "cell_type": "code",
   "execution_count": 39,
   "id": "afbbb9f6-0d56-48a1-a509-cf57ccbe1b39",
   "metadata": {},
   "outputs": [
    {
     "data": {
      "text/plain": [
       "'Estamos no curso de python'"
      ]
     },
     "execution_count": 39,
     "metadata": {},
     "output_type": "execute_result"
    }
   ],
   "source": [
    "frase"
   ]
  },
  {
   "cell_type": "code",
   "execution_count": 40,
   "id": "5832e107-2494-4512-9055-db0432ba4134",
   "metadata": {},
   "outputs": [],
   "source": [
    "frase_lista = frase.split()"
   ]
  },
  {
   "cell_type": "code",
   "execution_count": 41,
   "id": "1de6812c-d71f-40ab-b05f-a2cd7e3e8ee3",
   "metadata": {},
   "outputs": [
    {
     "data": {
      "text/plain": [
       "['Estamos', 'no', 'curso', 'de', 'python']"
      ]
     },
     "execution_count": 41,
     "metadata": {},
     "output_type": "execute_result"
    }
   ],
   "source": [
    "frase_lista"
   ]
  },
  {
   "cell_type": "code",
   "execution_count": 42,
   "id": "9fbb5d7d-b9fd-4a0d-b0a4-1e75681fa15d",
   "metadata": {},
   "outputs": [],
   "source": [
    "bloco = 'F100|1250,00|NOTA FISCAL X|FORNECEDOR Y'"
   ]
  },
  {
   "cell_type": "code",
   "execution_count": 43,
   "id": "6d52161b-8916-4f53-a863-83b2a1c9c3db",
   "metadata": {},
   "outputs": [
    {
     "data": {
      "text/plain": [
       "'F100|1250,00|NOTA FISCAL X|FORNECEDOR Y'"
      ]
     },
     "execution_count": 43,
     "metadata": {},
     "output_type": "execute_result"
    }
   ],
   "source": [
    "bloco"
   ]
  },
  {
   "cell_type": "code",
   "execution_count": 44,
   "id": "35bcae07-4b86-4938-9359-810c904e8b7d",
   "metadata": {},
   "outputs": [],
   "source": [
    "linha =  bloco.split('|')"
   ]
  },
  {
   "cell_type": "code",
   "execution_count": 45,
   "id": "8620152a-b18b-4cc0-b1bf-d71cbe98931e",
   "metadata": {},
   "outputs": [
    {
     "data": {
      "text/plain": [
       "['F100', '1250,00', 'NOTA FISCAL X', 'FORNECEDOR Y']"
      ]
     },
     "execution_count": 45,
     "metadata": {},
     "output_type": "execute_result"
    }
   ],
   "source": [
    "linha"
   ]
  },
  {
   "cell_type": "code",
   "execution_count": 46,
   "id": "200e743a-b9d3-474c-a1ae-a8c5baf1ad80",
   "metadata": {},
   "outputs": [
    {
     "data": {
      "text/plain": [
       "list"
      ]
     },
     "execution_count": 46,
     "metadata": {},
     "output_type": "execute_result"
    }
   ],
   "source": [
    "type(linha)"
   ]
  },
  {
   "cell_type": "code",
   "execution_count": 47,
   "id": "9778e2c3-3179-4751-9551-ee83c9df70a1",
   "metadata": {},
   "outputs": [],
   "source": [
    "bloco2 = '|'.join(linha)"
   ]
  },
  {
   "cell_type": "code",
   "execution_count": 48,
   "id": "0765da05-19bc-4b61-acf6-9a9476d111ea",
   "metadata": {},
   "outputs": [
    {
     "data": {
      "text/plain": [
       "'F100|1250,00|NOTA FISCAL X|FORNECEDOR Y'"
      ]
     },
     "execution_count": 48,
     "metadata": {},
     "output_type": "execute_result"
    }
   ],
   "source": [
    "bloco2"
   ]
  },
  {
   "cell_type": "code",
   "execution_count": 51,
   "id": "dd5931ae-262d-44cc-918d-cf1ca6808ef1",
   "metadata": {},
   "outputs": [
    {
     "data": {
      "text/plain": [
       "['F100', '1250,00', 'NOTA FISCAL X', 'FORNECEDOR Y']"
      ]
     },
     "execution_count": 51,
     "metadata": {},
     "output_type": "execute_result"
    }
   ],
   "source": [
    "linha"
   ]
  },
  {
   "cell_type": "code",
   "execution_count": 52,
   "id": "0d5f095c-dac0-413e-84b0-24554b581c02",
   "metadata": {},
   "outputs": [
    {
     "name": "stdout",
     "output_type": "stream",
     "text": [
      "F100\n",
      "1250,00\n",
      "NOTA FISCAL X\n",
      "FORNECEDOR Y\n"
     ]
    }
   ],
   "source": [
    "for i  in linha:\n",
    "    print(i)"
   ]
  },
  {
   "cell_type": "code",
   "execution_count": 54,
   "id": "08437d84-f51e-4122-a682-94cd0d4e7d12",
   "metadata": {},
   "outputs": [],
   "source": [
    "texto  = \"Faculdade Impacta\""
   ]
  },
  {
   "cell_type": "code",
   "execution_count": 55,
   "id": "deab2ded-c5d1-4bac-b653-38194e6c08bb",
   "metadata": {},
   "outputs": [
    {
     "data": {
      "text/plain": [
       "'Faculdade Impacta'"
      ]
     },
     "execution_count": 55,
     "metadata": {},
     "output_type": "execute_result"
    }
   ],
   "source": [
    "texto"
   ]
  },
  {
   "cell_type": "code",
   "execution_count": 56,
   "id": "9ee2ad83-0299-432f-aa2e-206f3c6dcfbf",
   "metadata": {},
   "outputs": [
    {
     "name": "stdout",
     "output_type": "stream",
     "text": [
      "Faculdade\n",
      "Impacta\n"
     ]
    }
   ],
   "source": [
    "for palavra in texto.split():\n",
    "    print(palavra)"
   ]
  },
  {
   "cell_type": "markdown",
   "id": "c339bdbb-a3ff-4413-9ce9-fb3e9a4c4d15",
   "metadata": {},
   "source": [
    "# Classificação de Listas"
   ]
  },
  {
   "cell_type": "code",
   "execution_count": 57,
   "id": "1ff65187-5ad5-46af-8f62-dc359afae944",
   "metadata": {},
   "outputs": [
    {
     "data": {
      "text/plain": [
       "['a', 'b', 'c', 'd', 'e', 'f', 'g', 'h', 'i']"
      ]
     },
     "execution_count": 57,
     "metadata": {},
     "output_type": "execute_result"
    }
   ],
   "source": [
    "letras"
   ]
  },
  {
   "cell_type": "code",
   "execution_count": 58,
   "id": "87fcbfda-43c3-4cf0-9368-d642b19d8443",
   "metadata": {},
   "outputs": [],
   "source": [
    "letras.insert(2,'z')"
   ]
  },
  {
   "cell_type": "code",
   "execution_count": 59,
   "id": "802a5a84-2032-4f64-a4b8-2f8ecbfe8cee",
   "metadata": {},
   "outputs": [
    {
     "data": {
      "text/plain": [
       "['a', 'b', 'z', 'c', 'd', 'e', 'f', 'g', 'h', 'i']"
      ]
     },
     "execution_count": 59,
     "metadata": {},
     "output_type": "execute_result"
    }
   ],
   "source": [
    "letras"
   ]
  },
  {
   "cell_type": "code",
   "execution_count": 60,
   "id": "cee095e9-2b94-4cc0-b4ff-a9f965a8c05f",
   "metadata": {},
   "outputs": [
    {
     "data": {
      "text/plain": [
       "['a', 'b', 'c', 'd', 'e', 'f', 'g', 'h', 'i', 'z']"
      ]
     },
     "execution_count": 60,
     "metadata": {},
     "output_type": "execute_result"
    }
   ],
   "source": [
    "sorted(letras)"
   ]
  },
  {
   "cell_type": "code",
   "execution_count": 61,
   "id": "6a8086e3-1710-465c-929c-b68b2ced8982",
   "metadata": {},
   "outputs": [
    {
     "data": {
      "text/plain": [
       "['a', 'b', 'z', 'c', 'd', 'e', 'f', 'g', 'h', 'i']"
      ]
     },
     "execution_count": 61,
     "metadata": {},
     "output_type": "execute_result"
    }
   ],
   "source": [
    "letras"
   ]
  },
  {
   "cell_type": "code",
   "execution_count": 62,
   "id": "0c8643e7-aa6f-4dc8-aa91-d1f6a4712a8e",
   "metadata": {},
   "outputs": [],
   "source": [
    "letras = sorted(letras)"
   ]
  },
  {
   "cell_type": "code",
   "execution_count": 63,
   "id": "a0d116b3-7b31-40f0-9fc5-75f7fd9dba93",
   "metadata": {},
   "outputs": [
    {
     "data": {
      "text/plain": [
       "['a', 'b', 'c', 'd', 'e', 'f', 'g', 'h', 'i', 'z']"
      ]
     },
     "execution_count": 63,
     "metadata": {},
     "output_type": "execute_result"
    }
   ],
   "source": [
    "letras"
   ]
  },
  {
   "cell_type": "code",
   "execution_count": 64,
   "id": "5137e0aa-7364-4496-b1e3-dec7fe65af11",
   "metadata": {},
   "outputs": [],
   "source": [
    "letras.insert(1,'x')"
   ]
  },
  {
   "cell_type": "code",
   "execution_count": 65,
   "id": "d638b909-d641-4eb1-abce-39662a1d7912",
   "metadata": {},
   "outputs": [],
   "source": [
    "letras.sort()"
   ]
  },
  {
   "cell_type": "code",
   "execution_count": 66,
   "id": "6757b74d-0514-4b85-84be-a0102743d35d",
   "metadata": {},
   "outputs": [
    {
     "data": {
      "text/plain": [
       "['a', 'b', 'c', 'd', 'e', 'f', 'g', 'h', 'i', 'x', 'z']"
      ]
     },
     "execution_count": 66,
     "metadata": {},
     "output_type": "execute_result"
    }
   ],
   "source": [
    "letras"
   ]
  },
  {
   "cell_type": "code",
   "execution_count": 67,
   "id": "970db765-d342-44ee-b244-f35cbfab4df8",
   "metadata": {},
   "outputs": [],
   "source": [
    "letras.insert(1,'y')"
   ]
  },
  {
   "cell_type": "code",
   "execution_count": 68,
   "id": "138e4425-d456-4493-a222-4922258ccacf",
   "metadata": {},
   "outputs": [
    {
     "data": {
      "text/plain": [
       "['a', 'y', 'b', 'c', 'd', 'e', 'f', 'g', 'h', 'i', 'x', 'z']"
      ]
     },
     "execution_count": 68,
     "metadata": {},
     "output_type": "execute_result"
    }
   ],
   "source": [
    "letras"
   ]
  },
  {
   "cell_type": "code",
   "execution_count": 69,
   "id": "af245663-b06b-43a7-92f0-658dcf787714",
   "metadata": {},
   "outputs": [],
   "source": [
    "letras.sort()"
   ]
  },
  {
   "cell_type": "code",
   "execution_count": 70,
   "id": "653ea959-c1b0-43ba-8c1d-c39f213d2160",
   "metadata": {},
   "outputs": [
    {
     "data": {
      "text/plain": [
       "['a', 'b', 'c', 'd', 'e', 'f', 'g', 'h', 'i', 'x', 'y', 'z']"
      ]
     },
     "execution_count": 70,
     "metadata": {},
     "output_type": "execute_result"
    }
   ],
   "source": [
    "letras"
   ]
  },
  {
   "cell_type": "code",
   "execution_count": 71,
   "id": "716a8452-f985-48cf-a480-62518f827555",
   "metadata": {},
   "outputs": [],
   "source": [
    "letras = 'rfabhgc'"
   ]
  },
  {
   "cell_type": "code",
   "execution_count": 72,
   "id": "91be1b56-0ef6-45fc-89ae-3034f7a9b747",
   "metadata": {},
   "outputs": [],
   "source": [
    "letras  = sorted(letras)"
   ]
  },
  {
   "cell_type": "code",
   "execution_count": 73,
   "id": "75c99c25-41ab-4ee8-b7d8-dbd405f0b16c",
   "metadata": {},
   "outputs": [
    {
     "data": {
      "text/plain": [
       "['a', 'b', 'c', 'f', 'g', 'h', 'r']"
      ]
     },
     "execution_count": 73,
     "metadata": {},
     "output_type": "execute_result"
    }
   ],
   "source": [
    "letras"
   ]
  },
  {
   "cell_type": "code",
   "execution_count": 74,
   "id": "a69f7bb2-5b6e-45db-ac14-e64b61a6cd23",
   "metadata": {},
   "outputs": [],
   "source": [
    "letras = ''.join(letras)"
   ]
  },
  {
   "cell_type": "code",
   "execution_count": 75,
   "id": "65ac9eee-9015-4297-9190-12858705ef3b",
   "metadata": {},
   "outputs": [
    {
     "data": {
      "text/plain": [
       "'abcfghr'"
      ]
     },
     "execution_count": 75,
     "metadata": {},
     "output_type": "execute_result"
    }
   ],
   "source": [
    "letras"
   ]
  },
  {
   "cell_type": "code",
   "execution_count": 76,
   "id": "cbf48e17-3a9c-4846-bf27-d9b7428ad4bf",
   "metadata": {},
   "outputs": [],
   "source": [
    "letras = 'rfabhgc'"
   ]
  },
  {
   "cell_type": "code",
   "execution_count": 78,
   "id": "9cd81350-c41c-4e12-884b-a199b28546ab",
   "metadata": {},
   "outputs": [
    {
     "data": {
      "text/plain": [
       "'abcfghr'"
      ]
     },
     "execution_count": 78,
     "metadata": {},
     "output_type": "execute_result"
    }
   ],
   "source": [
    "letras = ''.join(sorted(letras))\n",
    "letras"
   ]
  }
 ],
 "metadata": {
  "kernelspec": {
   "display_name": "anaconda-2024.02-py310",
   "language": "python",
   "name": "conda-env-anaconda-2024.02-py310-py"
  },
  "language_info": {
   "codemirror_mode": {
    "name": "ipython",
    "version": 3
   },
   "file_extension": ".py",
   "mimetype": "text/x-python",
   "name": "python",
   "nbconvert_exporter": "python",
   "pygments_lexer": "ipython3",
   "version": "3.10.14"
  }
 },
 "nbformat": 4,
 "nbformat_minor": 5
}
