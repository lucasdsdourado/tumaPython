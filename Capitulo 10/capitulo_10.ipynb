{
 "cells": [
  {
   "cell_type": "markdown",
   "id": "5ce906ff-f7f9-4754-b362-4277dd7be4f2",
   "metadata": {},
   "source": [
    "# Dicionário é um mapeamento"
   ]
  },
  {
   "cell_type": "code",
   "execution_count": 3,
   "id": "80cfd0da-d37e-4223-a978-25d147e34fbb",
   "metadata": {},
   "outputs": [],
   "source": [
    "numeros = {}"
   ]
  },
  {
   "cell_type": "code",
   "execution_count": 4,
   "id": "ac0153cd-2f78-43d9-9d0e-51e7aa29d307",
   "metadata": {},
   "outputs": [
    {
     "data": {
      "text/plain": [
       "dict"
      ]
     },
     "execution_count": 4,
     "metadata": {},
     "output_type": "execute_result"
    }
   ],
   "source": [
    "type(numeros)"
   ]
  },
  {
   "cell_type": "code",
   "execution_count": 5,
   "id": "adc96a17-7da5-45c8-b30d-2a72f2dc52bf",
   "metadata": {},
   "outputs": [],
   "source": [
    "numeros['zero'] = 0"
   ]
  },
  {
   "cell_type": "code",
   "execution_count": 6,
   "id": "10da46da-b569-4a0b-834b-c3e6ad496e8e",
   "metadata": {},
   "outputs": [
    {
     "data": {
      "text/plain": [
       "{'zero': 0}"
      ]
     },
     "execution_count": 6,
     "metadata": {},
     "output_type": "execute_result"
    }
   ],
   "source": [
    "numeros"
   ]
  },
  {
   "cell_type": "code",
   "execution_count": 7,
   "id": "91a477bd-c43b-49f1-a603-c69e5f6f71e2",
   "metadata": {},
   "outputs": [],
   "source": [
    "numeros['dois'] = 2\n",
    "numeros['três'] = 3"
   ]
  },
  {
   "cell_type": "code",
   "execution_count": 8,
   "id": "2e57a844-9de6-4ae9-ae43-c19b301a1006",
   "metadata": {},
   "outputs": [
    {
     "data": {
      "text/plain": [
       "{'zero': 0, 'dois': 2, 'três': 3}"
      ]
     },
     "execution_count": 8,
     "metadata": {},
     "output_type": "execute_result"
    }
   ],
   "source": [
    "numeros"
   ]
  },
  {
   "cell_type": "code",
   "execution_count": 10,
   "id": "751569e5-49d6-4cfd-bb79-27e117bab031",
   "metadata": {},
   "outputs": [
    {
     "data": {
      "text/plain": [
       "3"
      ]
     },
     "execution_count": 10,
     "metadata": {},
     "output_type": "execute_result"
    }
   ],
   "source": [
    "numeros['três']"
   ]
  },
  {
   "cell_type": "code",
   "execution_count": 11,
   "id": "226ff392-dea2-4873-a36f-358ba99c3ef2",
   "metadata": {},
   "outputs": [
    {
     "data": {
      "text/plain": [
       "3"
      ]
     },
     "execution_count": 11,
     "metadata": {},
     "output_type": "execute_result"
    }
   ],
   "source": [
    "len(numeros)"
   ]
  },
  {
   "cell_type": "code",
   "execution_count": 12,
   "id": "d8ec3ac6-cf5d-4efb-b17a-4e716f0f1afd",
   "metadata": {},
   "outputs": [
    {
     "ename": "KeyError",
     "evalue": "'quatro'",
     "output_type": "error",
     "traceback": [
      "\u001b[0;31m---------------------------------------------------------------------------\u001b[0m",
      "\u001b[0;31mKeyError\u001b[0m                                  Traceback (most recent call last)",
      "Cell \u001b[0;32mIn[12], line 1\u001b[0m\n\u001b[0;32m----> 1\u001b[0m \u001b[43mnumeros\u001b[49m\u001b[43m[\u001b[49m\u001b[38;5;124;43m'\u001b[39;49m\u001b[38;5;124;43mquatro\u001b[39;49m\u001b[38;5;124;43m'\u001b[39;49m\u001b[43m]\u001b[49m\n",
      "\u001b[0;31mKeyError\u001b[0m: 'quatro'"
     ]
    }
   ],
   "source": [
    "numeros['quatro']"
   ]
  },
  {
   "cell_type": "code",
   "execution_count": 13,
   "id": "651721d1-0fe9-443a-a510-d4ea501b8bf5",
   "metadata": {},
   "outputs": [
    {
     "data": {
      "text/plain": [
       "False"
      ]
     },
     "execution_count": 13,
     "metadata": {},
     "output_type": "execute_result"
    }
   ],
   "source": [
    "'quatro' in numeros"
   ]
  },
  {
   "cell_type": "code",
   "execution_count": 14,
   "id": "b3fa6feb-fc88-417a-957c-e2ec3375dd86",
   "metadata": {},
   "outputs": [
    {
     "data": {
      "text/plain": [
       "True"
      ]
     },
     "execution_count": 14,
     "metadata": {},
     "output_type": "execute_result"
    }
   ],
   "source": [
    "'três' in numeros"
   ]
  },
  {
   "cell_type": "code",
   "execution_count": 15,
   "id": "09ac176a-fe25-4655-b8b1-0607809437ca",
   "metadata": {},
   "outputs": [],
   "source": [
    "numeros = {'zero': 0, 'um':1, 'dois':2, 'três':3}"
   ]
  },
  {
   "cell_type": "code",
   "execution_count": 16,
   "id": "ec6943e3-534d-42ef-8b1e-f9bcc9bcd95c",
   "metadata": {},
   "outputs": [
    {
     "data": {
      "text/plain": [
       "{'zero': 0, 'um': 1, 'dois': 2, 'três': 3}"
      ]
     },
     "execution_count": 16,
     "metadata": {},
     "output_type": "execute_result"
    }
   ],
   "source": [
    "numeros"
   ]
  },
  {
   "cell_type": "code",
   "execution_count": 17,
   "id": "50588fe3-0f2f-40a8-8681-ee95731be867",
   "metadata": {},
   "outputs": [],
   "source": [
    "exemplo_dict = dict()"
   ]
  },
  {
   "cell_type": "code",
   "execution_count": 18,
   "id": "22d081be-125a-40a3-9a75-f0af3ca49a47",
   "metadata": {},
   "outputs": [
    {
     "data": {
      "text/plain": [
       "{}"
      ]
     },
     "execution_count": 18,
     "metadata": {},
     "output_type": "execute_result"
    }
   ],
   "source": [
    "exemplo_dict"
   ]
  },
  {
   "cell_type": "markdown",
   "id": "b6ff01ce-c509-4ab0-953b-c15acf47d905",
   "metadata": {},
   "source": [
    "# Reversed com Dict"
   ]
  },
  {
   "cell_type": "code",
   "execution_count": 19,
   "id": "c1410fb0-ce04-4f3d-a021-821bed2fc5e3",
   "metadata": {},
   "outputs": [],
   "source": [
    "palavra = 'Impacta'"
   ]
  },
  {
   "cell_type": "code",
   "execution_count": 22,
   "id": "5acf7471-6805-40b1-a34c-280e6bd3f970",
   "metadata": {},
   "outputs": [],
   "source": [
    "revertido  = reversed(palavra)"
   ]
  },
  {
   "cell_type": "code",
   "execution_count": 24,
   "id": "31f76437-0713-462f-af8d-c9e7dad77184",
   "metadata": {},
   "outputs": [
    {
     "data": {
      "text/plain": [
       "'atcapmI'"
      ]
     },
     "execution_count": 24,
     "metadata": {},
     "output_type": "execute_result"
    }
   ],
   "source": [
    "''.join(revertido)"
   ]
  },
  {
   "cell_type": "code",
   "execution_count": 28,
   "id": "b5b9fc0b-60ae-47bb-af0e-1aec50abb18f",
   "metadata": {},
   "outputs": [],
   "source": [
    "lista_palavra = open('words.txt').read().split()"
   ]
  },
  {
   "cell_type": "code",
   "execution_count": 29,
   "id": "bd7362e5-e181-4d86-8c1e-2f736b4fd8f3",
   "metadata": {},
   "outputs": [
    {
     "data": {
      "text/plain": [
       "113783"
      ]
     },
     "execution_count": 29,
     "metadata": {},
     "output_type": "execute_result"
    }
   ],
   "source": [
    "len(lista_palavra)"
   ]
  },
  {
   "cell_type": "code",
   "execution_count": 30,
   "id": "99e4f42b-e8c2-41cc-b7fd-e8f6eedc69e5",
   "metadata": {},
   "outputs": [
    {
     "data": {
      "text/plain": [
       "list"
      ]
     },
     "execution_count": 30,
     "metadata": {},
     "output_type": "execute_result"
    }
   ],
   "source": [
    "type(lista_palavra)"
   ]
  },
  {
   "cell_type": "code",
   "execution_count": 31,
   "id": "0f879d6c-bfff-4326-8904-cae60b932b73",
   "metadata": {},
   "outputs": [],
   "source": [
    "def retorna_reverse(palavra):\n",
    "    return ''.join(reversed(palavra))"
   ]
  },
  {
   "cell_type": "code",
   "execution_count": 32,
   "id": "a6a6c5e7-e164-4c97-855d-d57d82756348",
   "metadata": {},
   "outputs": [
    {
     "data": {
      "text/plain": [
       "'ovatsuG'"
      ]
     },
     "execution_count": 32,
     "metadata": {},
     "output_type": "execute_result"
    }
   ],
   "source": [
    "retorna_reverse('Gustavo')"
   ]
  },
  {
   "cell_type": "code",
   "execution_count": 33,
   "id": "f2e6c1be-e192-4470-a2bc-71daea87c83d",
   "metadata": {},
   "outputs": [],
   "source": [
    "def metodo_lento():\n",
    "    total = 0\n",
    "    for palavra in lista_palavra:\n",
    "        if retorna_reverse(palavra) in lista_palavra:\n",
    "            total += 1\n",
    "    return total"
   ]
  },
  {
   "cell_type": "code",
   "execution_count": 34,
   "id": "2cbabe5c-6386-4a7d-86fd-26face3603a5",
   "metadata": {},
   "outputs": [
    {
     "ename": "KeyboardInterrupt",
     "evalue": "",
     "output_type": "error",
     "traceback": [
      "\u001b[0;31m---------------------------------------------------------------------------\u001b[0m",
      "\u001b[0;31mKeyboardInterrupt\u001b[0m                         Traceback (most recent call last)",
      "Cell \u001b[0;32mIn[34], line 1\u001b[0m\n\u001b[0;32m----> 1\u001b[0m \u001b[43mmetodo_lento\u001b[49m\u001b[43m(\u001b[49m\u001b[43m)\u001b[49m\n",
      "Cell \u001b[0;32mIn[33], line 4\u001b[0m, in \u001b[0;36mmetodo_lento\u001b[0;34m()\u001b[0m\n\u001b[1;32m      2\u001b[0m total \u001b[38;5;241m=\u001b[39m \u001b[38;5;241m0\u001b[39m\n\u001b[1;32m      3\u001b[0m \u001b[38;5;28;01mfor\u001b[39;00m palavra \u001b[38;5;129;01min\u001b[39;00m lista_palavra:\n\u001b[0;32m----> 4\u001b[0m     \u001b[38;5;28;01mif\u001b[39;00m retorna_reverse(palavra) \u001b[38;5;129;01min\u001b[39;00m lista_palavra:\n\u001b[1;32m      5\u001b[0m         total \u001b[38;5;241m+\u001b[39m\u001b[38;5;241m=\u001b[39m \u001b[38;5;241m1\u001b[39m\n\u001b[1;32m      6\u001b[0m \u001b[38;5;28;01mreturn\u001b[39;00m total\n",
      "\u001b[0;31mKeyboardInterrupt\u001b[0m: "
     ]
    }
   ],
   "source": [
    "metodo_lento()"
   ]
  },
  {
   "cell_type": "code",
   "execution_count": 36,
   "id": "190dcc4f-dac2-4d3b-aa1c-bc27459ba6fd",
   "metadata": {},
   "outputs": [
    {
     "data": {
      "text/plain": [
       "12946571089"
      ]
     },
     "execution_count": 36,
     "metadata": {},
     "output_type": "execute_result"
    }
   ],
   "source": [
    "len(lista_palavra)**2"
   ]
  },
  {
   "cell_type": "code",
   "execution_count": 37,
   "id": "55f27a30-4c35-411e-ad5f-77391710ef86",
   "metadata": {},
   "outputs": [],
   "source": [
    "dicionario_palavras = {}"
   ]
  },
  {
   "cell_type": "code",
   "execution_count": 39,
   "id": "090bde2a-56d6-4ba8-95ee-fab51f60c1f2",
   "metadata": {},
   "outputs": [],
   "source": [
    "for palavra in lista_palavra:\n",
    "    dicionario_palavras[palavra]=1"
   ]
  },
  {
   "cell_type": "code",
   "execution_count": 41,
   "id": "5674777d-3cec-434f-a7bc-2dc48d284dd9",
   "metadata": {},
   "outputs": [
    {
     "data": {
      "text/plain": [
       "113783"
      ]
     },
     "execution_count": 41,
     "metadata": {},
     "output_type": "execute_result"
    }
   ],
   "source": [
    "len(dicionario_palavras)"
   ]
  },
  {
   "cell_type": "code",
   "execution_count": 44,
   "id": "aab5ffc9-b800-48bb-9e30-8d3b79d5bf44",
   "metadata": {},
   "outputs": [],
   "source": [
    "def metodo_rapido():\n",
    "    total = 0\n",
    "    for palavra in dicionario_palavras:\n",
    "        if retorna_reverse(palavra) in dicionario_palavras:\n",
    "            total += 1\n",
    "            print(palavra)\n",
    "    return total"
   ]
  },
  {
   "cell_type": "code",
   "execution_count": 45,
   "id": "9648014f-bab1-4b7f-a7e5-42c497f5e0bd",
   "metadata": {},
   "outputs": [
    {
     "name": "stdout",
     "output_type": "stream",
     "text": [
      "aa\n",
      "aba\n",
      "abut\n",
      "ad\n",
      "ados\n",
      "aga\n",
      "agar\n",
      "agas\n",
      "agenes\n",
      "ah\n",
      "aha\n",
      "aider\n",
      "airts\n",
      "ajar\n",
      "ala\n",
      "alif\n",
      "alula\n",
      "am\n",
      "ama\n",
      "amen\n",
      "amis\n",
      "an\n",
      "ana\n",
      "anger\n",
      "animal\n",
      "animes\n",
      "anna\n",
      "anon\n",
      "ante\n",
      "are\n",
      "ares\n",
      "aril\n",
      "arris\n",
      "arum\n",
      "at\n",
      "ate\n",
      "ates\n",
      "auks\n",
      "ava\n",
      "avid\n",
      "avo\n",
      "awa\n",
      "ay\n",
      "bad\n",
      "bag\n",
      "bal\n",
      "bals\n",
      "ban\n",
      "bard\n",
      "bas\n",
      "bat\n",
      "bats\n",
      "bed\n",
      "ben\n",
      "bib\n",
      "bid\n",
      "big\n",
      "bin\n",
      "bins\n",
      "bird\n",
      "bis\n",
      "bob\n",
      "bog\n",
      "boob\n",
      "bos\n",
      "bots\n",
      "bows\n",
      "brad\n",
      "brag\n",
      "bub\n",
      "bud\n",
      "bun\n",
      "buns\n",
      "bur\n",
      "burd\n",
      "burg\n",
      "bus\n",
      "but\n",
      "buts\n",
      "cam\n",
      "cap\n",
      "cares\n",
      "civic\n",
      "cod\n",
      "cram\n",
      "cud\n",
      "da\n",
      "dab\n",
      "dad\n",
      "dag\n",
      "dah\n",
      "dahs\n",
      "dam\n",
      "dap\n",
      "darb\n",
      "dart\n",
      "daw\n",
      "deb\n",
      "debut\n",
      "decal\n",
      "dedal\n",
      "deed\n",
      "deem\n",
      "deep\n",
      "deeps\n",
      "deer\n",
      "dees\n",
      "defer\n",
      "degami\n",
      "deified\n",
      "deifier\n",
      "deil\n",
      "deke\n",
      "deked\n",
      "del\n",
      "deled\n",
      "delf\n",
      "deliver\n",
      "dels\n",
      "demit\n",
      "denier\n",
      "denies\n",
      "denim\n",
      "denned\n",
      "dens\n",
      "depot\n",
      "depots\n",
      "derat\n",
      "derats\n",
      "dessert\n",
      "desserts\n",
      "devas\n",
      "devil\n",
      "dew\n",
      "dewans\n",
      "dewed\n",
      "dexes\n",
      "dial\n",
      "dialer\n",
      "diaper\n",
      "dib\n",
      "did\n",
      "dig\n",
      "dim\n",
      "dinar\n",
      "diols\n",
      "dirts\n",
      "diva\n",
      "do\n",
      "doc\n",
      "dog\n",
      "dom\n",
      "don\n",
      "doom\n",
      "door\n",
      "dor\n",
      "dormin\n",
      "dorp\n",
      "dos\n",
      "dot\n",
      "drab\n",
      "drail\n",
      "draw\n",
      "drawer\n",
      "draws\n",
      "dray\n",
      "drib\n",
      "drub\n",
      "dual\n",
      "dub\n",
      "duc\n",
      "ducs\n",
      "dud\n",
      "duel\n",
      "duo\n",
      "dup\n",
      "dups\n",
      "eat\n",
      "edile\n",
      "edit\n",
      "eel\n",
      "eh\n",
      "eke\n",
      "eked\n",
      "elide\n",
      "elides\n",
      "em\n",
      "eme\n",
      "emes\n",
      "emir\n",
      "emit\n",
      "emits\n",
      "enol\n",
      "er\n",
      "era\n",
      "ere\n",
      "ergo\n",
      "eros\n",
      "ervil\n",
      "eta\n",
      "etas\n",
      "etna\n",
      "eve\n",
      "even\n",
      "evil\n",
      "eviler\n",
      "ewe\n",
      "eye\n",
      "fer\n",
      "fila\n",
      "fires\n",
      "fled\n",
      "flog\n",
      "flow\n",
      "fool\n",
      "gab\n",
      "gad\n",
      "gag\n",
      "gal\n",
      "gals\n",
      "gam\n",
      "gan\n",
      "gar\n",
      "garb\n",
      "gas\n",
      "gat\n",
      "gats\n",
      "gel\n",
      "gelder\n",
      "get\n",
      "gib\n",
      "gid\n",
      "gig\n",
      "gip\n",
      "girt\n",
      "gnar\n",
      "gnat\n",
      "gnats\n",
      "gnaws\n",
      "gnus\n",
      "gob\n",
      "god\n",
      "golf\n",
      "got\n",
      "grub\n",
      "gul\n",
      "gulp\n",
      "guls\n",
      "gum\n",
      "gums\n",
      "guns\n",
      "gut\n",
      "ha\n",
      "habus\n",
      "had\n",
      "hah\n",
      "hahs\n",
      "halalah\n",
      "hales\n",
      "hallah\n",
      "hap\n",
      "hay\n",
      "he\n",
      "hey\n",
      "ho\n",
      "hoop\n",
      "hop\n",
      "huh\n",
      "imaged\n",
      "is\n",
      "it\n",
      "jar\n",
      "kaiak\n",
      "kay\n",
      "kayak\n",
      "keek\n",
      "keel\n",
      "keels\n",
      "keep\n",
      "keets\n",
      "kips\n",
      "knaps\n",
      "knar\n",
      "knits\n",
      "kook\n",
      "lab\n",
      "laced\n",
      "laded\n",
      "lag\n",
      "lager\n",
      "laid\n",
      "lair\n",
      "lamina\n",
      "lap\n",
      "lares\n",
      "larum\n",
      "las\n",
      "laud\n",
      "led\n",
      "lee\n",
      "leek\n",
      "leer\n",
      "lees\n",
      "leets\n",
      "leg\n",
      "leper\n",
      "leud\n",
      "level\n",
      "lever\n",
      "levins\n",
      "liar\n",
      "liard\n",
      "lied\n",
      "lin\n",
      "lion\n",
      "lira\n",
      "lit\n",
      "live\n",
      "lived\n",
      "livre\n",
      "lobo\n",
      "lone\n",
      "loof\n",
      "loom\n",
      "loons\n",
      "loop\n",
      "loops\n",
      "loot\n",
      "looter\n",
      "loots\n",
      "lop\n",
      "lotos\n",
      "lug\n",
      "ma\n",
      "mac\n",
      "macs\n",
      "mad\n",
      "madam\n",
      "maes\n",
      "mag\n",
      "map\n",
      "mar\n",
      "marc\n",
      "marcs\n",
      "marram\n",
      "mart\n",
      "mat\n",
      "maws\n",
      "may\n",
      "me\n",
      "meed\n",
      "meet\n",
      "mem\n",
      "meter\n",
      "mho\n",
      "mid\n",
      "mils\n",
      "mim\n",
      "mined\n",
      "minim\n",
      "mir\n",
      "mis\n",
      "mod\n",
      "mom\n",
      "mon\n",
      "mood\n",
      "mool\n",
      "moor\n",
      "moot\n",
      "mot\n",
      "mug\n",
      "mum\n",
      "mura\n",
      "mural\n",
      "mures\n",
      "mus\n",
      "muts\n",
      "na\n",
      "nab\n",
      "nag\n",
      "namer\n",
      "nap\n",
      "naps\n",
      "neb\n",
      "neep\n",
      "nema\n",
      "net\n",
      "neve\n",
      "neves\n",
      "new\n",
      "nib\n",
      "nil\n",
      "nimrod\n",
      "nip\n",
      "nips\n",
      "nit\n",
      "no\n",
      "nod\n",
      "noil\n",
      "nolos\n",
      "nom\n",
      "nona\n",
      "noon\n",
      "nos\n",
      "not\n",
      "notes\n",
      "now\n",
      "nu\n",
      "nub\n",
      "nun\n",
      "nus\n",
      "nut\n",
      "nuts\n",
      "oat\n",
      "obol\n",
      "od\n",
      "ogre\n",
      "oh\n",
      "ohm\n",
      "oho\n",
      "on\n",
      "oohs\n",
      "oot\n",
      "os\n",
      "otto\n",
      "oud\n",
      "ova\n",
      "ow\n",
      "pac\n",
      "pacer\n",
      "pad\n",
      "pah\n",
      "pal\n",
      "pals\n",
      "pam\n",
      "pan\n",
      "pans\n",
      "pap\n",
      "par\n",
      "part\n",
      "parts\n",
      "pas\n",
      "pat\n",
      "paw\n",
      "paws\n",
      "pay\n",
      "peed\n",
      "peek\n",
      "peels\n",
      "peen\n",
      "peep\n",
      "pees\n",
      "pep\n",
      "per\n",
      "pets\n",
      "pig\n",
      "pin\n",
      "pins\n",
      "pip\n",
      "pis\n",
      "pit\n",
      "plug\n",
      "poh\n",
      "pol\n",
      "pols\n",
      "pooh\n",
      "pool\n",
      "pools\n",
      "poons\n",
      "poop\n",
      "pop\n",
      "port\n",
      "ports\n",
      "pot\n",
      "pots\n",
      "pow\n",
      "pows\n",
      "prat\n",
      "prod\n",
      "pud\n",
      "pup\n",
      "pupils\n",
      "puris\n",
      "pus\n",
      "put\n",
      "radar\n",
      "rag\n",
      "raga\n",
      "rail\n",
      "raj\n",
      "raja\n",
      "ram\n",
      "rang\n",
      "ranid\n",
      "rank\n",
      "rap\n",
      "raps\n",
      "rat\n",
      "rats\n",
      "raw\n",
      "ray\n",
      "re\n",
      "rebus\n",
      "rebut\n",
      "recap\n",
      "recaps\n",
      "redder\n",
      "redes\n",
      "redia\n",
      "redips\n",
      "redleg\n",
      "redraw\n",
      "redrawer\n",
      "reed\n",
      "reel\n",
      "rees\n",
      "ref\n",
      "refed\n",
      "refer\n",
      "reflet\n",
      "reflow\n",
      "regal\n",
      "regna\n",
      "reified\n",
      "reifier\n",
      "reined\n",
      "reknit\n",
      "reknits\n",
      "relaid\n",
      "relit\n",
      "relive\n",
      "reman\n",
      "remeet\n",
      "remit\n",
      "rennet\n",
      "rep\n",
      "repaid\n",
      "repaper\n",
      "repel\n",
      "repins\n",
      "res\n",
      "retem\n",
      "retool\n",
      "revel\n",
      "reviled\n",
      "reviver\n",
      "reward\n",
      "rewarder\n",
      "rial\n",
      "rim\n",
      "rime\n",
      "rod\n",
      "rood\n",
      "room\n",
      "rot\n",
      "rotator\n",
      "rotor\n",
      "rub\n",
      "sab\n",
      "sag\n",
      "saga\n",
      "sagas\n",
      "sal\n",
      "sallets\n",
      "sap\n",
      "saps\n",
      "sat\n",
      "sate\n",
      "saved\n",
      "saw\n",
      "scam\n",
      "scares\n",
      "scram\n",
      "scud\n",
      "seam\n",
      "secret\n",
      "seder\n",
      "sedile\n",
      "seed\n",
      "seeks\n",
      "seel\n",
      "seep\n",
      "seer\n",
      "sees\n",
      "seined\n",
      "selah\n",
      "selahs\n",
      "selles\n",
      "seme\n",
      "sememes\n",
      "semes\n",
      "semina\n",
      "senega\n",
      "ser\n",
      "sera\n",
      "serac\n",
      "seracs\n",
      "seral\n",
      "seres\n",
      "serif\n",
      "serum\n",
      "seta\n",
      "seton\n",
      "seven\n",
      "sexed\n",
      "sexes\n",
      "shad\n",
      "shah\n",
      "shahs\n",
      "shales\n",
      "shoo\n",
      "si\n",
      "sib\n",
      "sim\n",
      "sima\n",
      "sip\n",
      "sirra\n",
      "sirs\n",
      "sirup\n",
      "sis\n",
      "sit\n",
      "six\n",
      "skees\n",
      "skeets\n",
      "skips\n",
      "skua\n",
      "slab\n",
      "slag\n",
      "slap\n",
      "sled\n",
      "sleek\n",
      "sleep\n",
      "sleeps\n",
      "sleets\n",
      "slim\n",
      "slipup\n",
      "slit\n",
      "sloid\n",
      "sloop\n",
      "sloops\n",
      "slop\n",
      "slug\n",
      "smart\n",
      "smug\n",
      "smuts\n",
      "snap\n",
      "snaps\n",
      "snaw\n",
      "snawed\n",
      "snaws\n",
      "sned\n",
      "snib\n",
      "snip\n",
      "sniper\n",
      "snips\n",
      "snit\n",
      "snivel\n",
      "snool\n",
      "snoop\n",
      "snoops\n",
      "snoot\n",
      "snot\n",
      "snow\n",
      "snub\n",
      "snug\n",
      "so\n",
      "sob\n",
      "sod\n",
      "soda\n",
      "solon\n",
      "solos\n",
      "son\n",
      "sore\n",
      "sos\n",
      "sotol\n",
      "sow\n",
      "spacer\n",
      "span\n",
      "spank\n",
      "spans\n",
      "spar\n",
      "spas\n",
      "spat\n",
      "spay\n",
      "speed\n",
      "speels\n",
      "spider\n",
      "spik\n",
      "spiks\n",
      "spin\n",
      "spins\n",
      "spirt\n",
      "spirts\n",
      "spit\n",
      "spool\n",
      "spools\n",
      "spoons\n",
      "sports\n",
      "spot\n",
      "spots\n",
      "sprat\n",
      "sprits\n",
      "spud\n",
      "sris\n",
      "stab\n",
      "stag\n",
      "stang\n",
      "star\n",
      "stared\n",
      "staw\n",
      "steek\n",
      "steeks\n",
      "steel\n",
      "steels\n",
      "stellas\n",
      "step\n",
      "stets\n",
      "stew\n",
      "stime\n",
      "stink\n",
      "stinker\n",
      "stirps\n",
      "stob\n",
      "stool\n",
      "stop\n",
      "stoped\n",
      "stops\n",
      "stow\n",
      "stows\n",
      "strap\n",
      "straw\n",
      "stressed\n",
      "stria\n",
      "strid\n",
      "strips\n",
      "strop\n",
      "strops\n",
      "strow\n",
      "struts\n",
      "stub\n",
      "stum\n",
      "stums\n",
      "stun\n",
      "sturts\n",
      "sub\n",
      "subah\n",
      "suber\n",
      "sum\n",
      "sun\n",
      "sung\n",
      "sup\n",
      "swam\n",
      "swang\n",
      "swans\n",
      "swap\n",
      "sward\n",
      "swat\n",
      "sway\n",
      "swob\n",
      "swop\n",
      "swot\n",
      "swots\n",
      "ta\n",
      "tab\n",
      "tae\n",
      "tag\n",
      "tam\n",
      "tang\n",
      "tao\n",
      "tap\n",
      "taps\n",
      "tar\n",
      "tared\n",
      "tarp\n",
      "tarps\n",
      "tas\n",
      "tat\n",
      "tav\n",
      "taw\n",
      "taws\n",
      "teem\n",
      "teemer\n",
      "teg\n",
      "telfer\n",
      "ten\n",
      "tenet\n",
      "tenner\n",
      "terces\n",
      "terret\n",
      "tew\n",
      "ti\n",
      "tide\n",
      "til\n",
      "tiler\n",
      "tils\n",
      "time\n",
      "timed\n",
      "timer\n",
      "tin\n",
      "tinker\n",
      "tins\n",
      "tip\n",
      "tips\n",
      "tis\n",
      "tit\n",
      "tod\n",
      "tog\n",
      "tom\n",
      "ton\n",
      "tons\n",
      "too\n",
      "tool\n",
      "toom\n",
      "toons\n",
      "toot\n",
      "top\n",
      "toped\n",
      "tops\n",
      "tor\n",
      "tort\n",
      "tot\n",
      "tow\n",
      "tows\n",
      "trad\n",
      "tram\n",
      "trams\n",
      "trap\n",
      "tressed\n",
      "trig\n",
      "trips\n",
      "trop\n",
      "trot\n",
      "trow\n",
      "tub\n",
      "tuba\n",
      "tubed\n",
      "tuber\n",
      "tug\n",
      "tun\n",
      "tup\n",
      "tut\n",
      "un\n",
      "vat\n",
      "vav\n",
      "wad\n",
      "wans\n",
      "wap\n",
      "war\n",
      "ward\n",
      "warder\n",
      "warts\n",
      "was\n",
      "wat\n",
      "wats\n",
      "waw\n",
      "way\n",
      "wed\n",
      "wen\n",
      "wet\n",
      "wets\n",
      "wo\n",
      "wolf\n",
      "wolfer\n",
      "won\n",
      "wons\n",
      "wop\n",
      "wort\n",
      "worts\n",
      "wos\n",
      "wot\n",
      "wots\n",
      "wow\n",
      "xis\n",
      "ya\n",
      "yah\n",
      "yak\n",
      "yam\n",
      "yap\n",
      "yaps\n",
      "yar\n",
      "yard\n",
      "yaw\n",
      "yaws\n",
      "yay\n",
      "yeh\n"
     ]
    },
    {
     "data": {
      "text/plain": [
       "885"
      ]
     },
     "execution_count": 45,
     "metadata": {},
     "output_type": "execute_result"
    }
   ],
   "source": [
    "metodo_rapido()"
   ]
  },
  {
   "cell_type": "code",
   "execution_count": 46,
   "id": "774db2ab-48f5-45dc-8943-7dc96eb45790",
   "metadata": {},
   "outputs": [],
   "source": [
    "def eh_palindromo(palavra):\n",
    "    return retorna_reverse(palavra) == palavra"
   ]
  },
  {
   "cell_type": "code",
   "execution_count": 47,
   "id": "6721fe30-f0e4-4ca4-8a22-49852ef0a60e",
   "metadata": {},
   "outputs": [
    {
     "data": {
      "text/plain": [
       "True"
      ]
     },
     "execution_count": 47,
     "metadata": {},
     "output_type": "execute_result"
    }
   ],
   "source": [
    "eh_palindromo('ana')"
   ]
  },
  {
   "cell_type": "code",
   "execution_count": 48,
   "id": "24876eb8-835d-4f7f-88cb-b348e4e137fb",
   "metadata": {},
   "outputs": [
    {
     "data": {
      "text/plain": [
       "False"
      ]
     },
     "execution_count": 48,
     "metadata": {},
     "output_type": "execute_result"
    }
   ],
   "source": [
    "eh_palindromo('leo')"
   ]
  },
  {
   "cell_type": "code",
   "execution_count": 49,
   "id": "3d375467-b6ff-4a9e-91ba-8f0d7fbda1a1",
   "metadata": {},
   "outputs": [
    {
     "data": {
      "text/plain": [
       "91"
      ]
     },
     "execution_count": 49,
     "metadata": {},
     "output_type": "execute_result"
    }
   ],
   "source": [
    "total = 0\n",
    "\n",
    "for palavra in dicionario_palavras:\n",
    "    if eh_palindromo(palavra):\n",
    "        total += 1\n",
    "\n",
    "total"
   ]
  },
  {
   "cell_type": "code",
   "execution_count": 50,
   "id": "d41ecd79-8b92-4365-a93d-aadeb6fba74e",
   "metadata": {},
   "outputs": [
    {
     "data": {
      "text/plain": [
       "91"
      ]
     },
     "execution_count": 50,
     "metadata": {},
     "output_type": "execute_result"
    }
   ],
   "source": [
    "lista_palindromos = []\n",
    "\n",
    "for palavra in dicionario_palavras:\n",
    "    if eh_palindromo(palavra):\n",
    "        lista_palindromos.append(palavra)\n",
    "\n",
    "len(lista_palindromos)"
   ]
  },
  {
   "cell_type": "code",
   "execution_count": 53,
   "id": "b7b31ed3-9475-400d-a956-aead593c5926",
   "metadata": {},
   "outputs": [
    {
     "data": {
      "text/plain": [
       "['aa', 'aba', 'aga', 'aha', 'ala', 'alula', 'ama', 'ana', 'anna', 'ava']"
      ]
     },
     "execution_count": 53,
     "metadata": {},
     "output_type": "execute_result"
    }
   ],
   "source": [
    "lista_palindromos[:10]"
   ]
  },
  {
   "cell_type": "code",
   "execution_count": 64,
   "id": "93cfdc6b-8f56-4472-8aba-d2996a431725",
   "metadata": {},
   "outputs": [
    {
     "data": {
      "text/plain": [
       "['deified', 'halalah', 'reifier', 'repaper', 'reviver', 'rotator', 'sememes']"
      ]
     },
     "execution_count": 64,
     "metadata": {},
     "output_type": "execute_result"
    }
   ],
   "source": [
    "grandes_palindromos  = []\n",
    "\n",
    "for palindromo in lista_palindromos:\n",
    "    if len(palindromo) >= 7:\n",
    "        grandes_palindromos.append(palindromo)\n",
    "\n",
    "grandes_palindromos"
   ]
  }
 ],
 "metadata": {
  "kernelspec": {
   "display_name": "anaconda-2024.02-py310",
   "language": "python",
   "name": "conda-env-anaconda-2024.02-py310-py"
  },
  "language_info": {
   "codemirror_mode": {
    "name": "ipython",
    "version": 3
   },
   "file_extension": ".py",
   "mimetype": "text/x-python",
   "name": "python",
   "nbconvert_exporter": "python",
   "pygments_lexer": "ipython3",
   "version": "3.10.14"
  }
 },
 "nbformat": 4,
 "nbformat_minor": 5
}
