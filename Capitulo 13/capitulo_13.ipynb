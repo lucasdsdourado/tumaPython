{
 "cells": [
  {
   "cell_type": "markdown",
   "id": "b083bdb2-94da-4288-ac82-674c48a42ae7",
   "metadata": {},
   "source": [
    "# Arquivos e Banco de Dados (Arquivo)"
   ]
  },
  {
   "cell_type": "code",
   "execution_count": 1,
   "id": "175d773d-1943-4d8b-97ef-ed6e62e9e056",
   "metadata": {},
   "outputs": [],
   "source": [
    "from os.path import basename, exists\n",
    "def download(url):\n",
    "    filename = basename(url)\n",
    "    if not exists(filename):\n",
    "        from urllib.request import urlretrieve\n",
    "        local, _ = urlretrieve(url, filename)\n",
    "        print(\"Downloaded \" + str(local))\n",
    "    return filename"
   ]
  },
  {
   "cell_type": "code",
   "execution_count": 2,
   "id": "3d197b54-a36d-45d8-a5a3-3c0238f37cc8",
   "metadata": {},
   "outputs": [
    {
     "name": "stdout",
     "output_type": "stream",
     "text": [
      "Downloaded photos.zip\n"
     ]
    }
   ],
   "source": [
    "download('https://github.com/AllenDowney/ThinkPython/raw/v3/photos.zip');"
   ]
  },
  {
   "cell_type": "code",
   "execution_count": 3,
   "id": "69265371-b667-4fb1-9522-038be3559aad",
   "metadata": {},
   "outputs": [
    {
     "name": "stdout",
     "output_type": "stream",
     "text": [
      "Archive:  photos.zip\n",
      "   creating: photos/\n",
      "  inflating: photos/notes.txt        \n",
      "   creating: photos/mar-2023/\n",
      "  inflating: photos/mar-2023/photo2.jpg  \n",
      "  inflating: photos/mar-2023/photo1.jpg  \n",
      "   creating: photos/jan-2023/\n",
      "  inflating: photos/jan-2023/photo3.jpg  \n",
      "  inflating: photos/jan-2023/photo2.jpg  \n",
      "  inflating: photos/jan-2023/photo1.jpg  \n",
      "   creating: photos/feb-2023/\n",
      "  inflating: photos/feb-2023/photo2.jpg  \n",
      "  inflating: photos/feb-2023/photo1.jpg  \n"
     ]
    }
   ],
   "source": [
    "!unzip -o photos.zip"
   ]
  },
  {
   "cell_type": "code",
   "execution_count": 4,
   "id": "c3b660df-93a2-40c8-b421-1b0f5bf91fcf",
   "metadata": {},
   "outputs": [],
   "source": [
    "import os"
   ]
  },
  {
   "cell_type": "code",
   "execution_count": 5,
   "id": "1e139dfb-8834-4911-9044-44fe5b7850a1",
   "metadata": {},
   "outputs": [
    {
     "data": {
      "text/plain": [
       "'/home/c9af5883-4fd3-4090-b088-b74c8a86d5bc/Capitulo 13'"
      ]
     },
     "execution_count": 5,
     "metadata": {},
     "output_type": "execute_result"
    }
   ],
   "source": [
    "os.getcwd()"
   ]
  },
  {
   "cell_type": "code",
   "execution_count": 7,
   "id": "83c2cd42-0a43-4008-8da7-fb9cb798624d",
   "metadata": {},
   "outputs": [
    {
     "data": {
      "text/plain": [
       "'/home/c9af5883-4fd3-4090-b088-b74c8a86d5bc/Capitulo 13/photo1.jpg'"
      ]
     },
     "execution_count": 7,
     "metadata": {},
     "output_type": "execute_result"
    }
   ],
   "source": [
    "os.path.abspath('photo1.jpg')"
   ]
  },
  {
   "cell_type": "code",
   "execution_count": 8,
   "id": "5156238e-1eb2-454b-a272-1b7a068960ca",
   "metadata": {},
   "outputs": [
    {
     "data": {
      "text/plain": [
       "['feb-2023', 'jan-2023', 'mar-2023', 'notes.txt']"
      ]
     },
     "execution_count": 8,
     "metadata": {},
     "output_type": "execute_result"
    }
   ],
   "source": [
    "os.listdir('photos')"
   ]
  },
  {
   "cell_type": "code",
   "execution_count": 15,
   "id": "472222db-8980-40c8-9105-7a115c8f43d7",
   "metadata": {},
   "outputs": [
    {
     "name": "stdout",
     "output_type": "stream",
     "text": [
      "feb-2023 é arquivo? False\n",
      "feb-2023 é pasta? True\n",
      "------------------------------\n",
      "jan-2023 é arquivo? False\n",
      "jan-2023 é pasta? True\n",
      "------------------------------\n",
      "mar-2023 é arquivo? False\n",
      "mar-2023 é pasta? True\n",
      "------------------------------\n",
      "notes.txt é arquivo? True\n",
      "notes.txt é pasta? False\n",
      "------------------------------\n"
     ]
    }
   ],
   "source": [
    "for i in os.listdir('photos'):\n",
    "    print(i, \"é arquivo?\", os.path.isfile('photos/' + i))\n",
    "    print(i, \"é pasta?\", os.path.isdir('photos/' + i))\n",
    "    print('-'*30)"
   ]
  },
  {
   "cell_type": "code",
   "execution_count": 16,
   "id": "cd50b9f2-443a-4ed4-8540-0c9abac70246",
   "metadata": {},
   "outputs": [
    {
     "data": {
      "text/plain": [
       "True"
      ]
     },
     "execution_count": 16,
     "metadata": {},
     "output_type": "execute_result"
    }
   ],
   "source": [
    "os.path.exists('photos/mar-2023')"
   ]
  },
  {
   "cell_type": "code",
   "execution_count": 17,
   "id": "a7458b8b-51af-4191-8da7-fe9e9392c4ed",
   "metadata": {},
   "outputs": [
    {
     "data": {
      "text/plain": [
       "True"
      ]
     },
     "execution_count": 17,
     "metadata": {},
     "output_type": "execute_result"
    }
   ],
   "source": [
    "os.path.exists('photos/notes.txt')"
   ]
  },
  {
   "cell_type": "code",
   "execution_count": 18,
   "id": "f615358c-585c-446a-87e0-0940bc503cda",
   "metadata": {},
   "outputs": [
    {
     "data": {
      "text/plain": [
       "False"
      ]
     },
     "execution_count": 18,
     "metadata": {},
     "output_type": "execute_result"
    }
   ],
   "source": [
    "os.path.exists('photos/notes2.txt')"
   ]
  },
  {
   "cell_type": "code",
   "execution_count": 19,
   "id": "bc07ef9a-62df-4a92-8a27-7ee8716fe7ac",
   "metadata": {},
   "outputs": [
    {
     "data": {
      "text/plain": [
       "'photos/jan-2023'"
      ]
     },
     "execution_count": 19,
     "metadata": {},
     "output_type": "execute_result"
    }
   ],
   "source": [
    "os.path.join('photos','jan-2023')"
   ]
  },
  {
   "cell_type": "code",
   "execution_count": 24,
   "id": "e12df2c2-731f-444f-bbcb-7ad07bd9baf7",
   "metadata": {},
   "outputs": [
    {
     "data": {
      "text/plain": [
       "'photos/jan-2023'"
      ]
     },
     "execution_count": 24,
     "metadata": {},
     "output_type": "execute_result"
    }
   ],
   "source": [
    "'/'.join(['photos','jan-2023'])"
   ]
  },
  {
   "cell_type": "code",
   "execution_count": 25,
   "id": "73ee6101-76a0-45b9-8b31-784e7a12338c",
   "metadata": {},
   "outputs": [],
   "source": [
    "frase = \"O aluno x está no curso y na faculdade z\""
   ]
  },
  {
   "cell_type": "code",
   "execution_count": 28,
   "id": "37cb7df3-a271-48c6-9e7f-acbbb91a4fe7",
   "metadata": {},
   "outputs": [],
   "source": [
    "aluno = \"Talita\"\n",
    "curso = \"Python\"\n",
    "faculdade = \"Impacta\""
   ]
  },
  {
   "cell_type": "code",
   "execution_count": 31,
   "id": "f05fcde0-53a1-40a7-8f5f-26f540783501",
   "metadata": {},
   "outputs": [],
   "source": [
    "frase = \"O aluno \" + aluno + \" está no curso \"  + curso + \" na faculdade \" + faculdade"
   ]
  },
  {
   "cell_type": "code",
   "execution_count": 32,
   "id": "c822d2c3-5564-4cbe-b79c-0c190dbe1bde",
   "metadata": {},
   "outputs": [
    {
     "data": {
      "text/plain": [
       "'O aluno Talita está no curso Python na faculdade Impacta'"
      ]
     },
     "execution_count": 32,
     "metadata": {},
     "output_type": "execute_result"
    }
   ],
   "source": [
    "frase"
   ]
  },
  {
   "cell_type": "code",
   "execution_count": 33,
   "id": "3419d77f-32cb-41bf-976b-15d114dd1f5a",
   "metadata": {},
   "outputs": [],
   "source": [
    "frase = f\"O aluno {aluno} está no curso {curso} na faculdade {faculdade}\""
   ]
  },
  {
   "cell_type": "code",
   "execution_count": 34,
   "id": "b550ca3c-f24a-4f1b-904e-9ef2cc262783",
   "metadata": {},
   "outputs": [
    {
     "data": {
      "text/plain": [
       "'O aluno Talita está no curso Python na faculdade Impacta'"
      ]
     },
     "execution_count": 34,
     "metadata": {},
     "output_type": "execute_result"
    }
   ],
   "source": [
    "frase"
   ]
  },
  {
   "cell_type": "code",
   "execution_count": 35,
   "id": "9ba673c1-faee-468a-bec1-0f52585267dd",
   "metadata": {},
   "outputs": [],
   "source": [
    "periodo = 1.5\n",
    "num_camelos = 23"
   ]
  },
  {
   "cell_type": "code",
   "execution_count": 36,
   "id": "de1d799c-3b96-40af-a26d-c352c7dd7595",
   "metadata": {},
   "outputs": [],
   "source": [
    "arquivo = open('camelos_visualizados.txt','w')\n",
    "arquivo.write(str(periodo))\n",
    "arquivo.write(str(num_camelos))\n",
    "arquivo.close()"
   ]
  },
  {
   "cell_type": "code",
   "execution_count": 37,
   "id": "beb59c30-0ae1-4e77-83e3-42c9a3383222",
   "metadata": {},
   "outputs": [],
   "source": [
    "arquivo = open('camelos_visualizados.txt','w')\n",
    "arquivo.write(f\"Total de anos visualização: {periodo}\\n\")\n",
    "arquivo.write(f\"Total camelos visualizados: {num_camelos}\\n\")\n",
    "arquivo.close()"
   ]
  },
  {
   "cell_type": "code",
   "execution_count": 39,
   "id": "ce1ead82-31c1-41b2-aba4-e488c1d9a8e0",
   "metadata": {},
   "outputs": [
    {
     "name": "stdout",
     "output_type": "stream",
     "text": [
      "Total de anos visualização: 1.5\n",
      "Total camelos visualizados: 23\n",
      "\n"
     ]
    }
   ],
   "source": [
    "dados = open('camelos_visualizados.txt').read()\n",
    "print(dados)"
   ]
  },
  {
   "cell_type": "code",
   "execution_count": 41,
   "id": "c3e841b3-8d29-46da-a682-f03df3703dec",
   "metadata": {},
   "outputs": [
    {
     "data": {
      "text/plain": [
       "\"Isso é uma lista: [1, 2, 3] e isso é um dicionário: {'fruta': 'banana'}\""
      ]
     },
     "execution_count": 41,
     "metadata": {},
     "output_type": "execute_result"
    }
   ],
   "source": [
    "lista = [1, 2, 3]\n",
    "dicionario= {'fruta': 'banana'}\n",
    "f\"Isso é uma lista: {lista} e isso é um dicionário: {dicionario}\""
   ]
  },
  {
   "cell_type": "markdown",
   "id": "883899f7-c896-4846-9afc-340ac6409b22",
   "metadata": {},
   "source": [
    "# YAML"
   ]
  },
  {
   "cell_type": "code",
   "execution_count": 42,
   "id": "5251bcbb-32d3-43c2-8701-1c800055e557",
   "metadata": {},
   "outputs": [],
   "source": [
    "config = {\n",
    "    'photo_dir': 'photos',\n",
    "    'data_dir': 'photo_info',\n",
    "    'extensions': ['jpg','jpeg']\n",
    "}"
   ]
  },
  {
   "cell_type": "code",
   "execution_count": 43,
   "id": "93410bb5-8488-4973-befb-443e4d9b0b90",
   "metadata": {},
   "outputs": [],
   "source": [
    "import yaml"
   ]
  },
  {
   "cell_type": "code",
   "execution_count": 44,
   "id": "1a18eaf0-4c23-49da-a24b-ef5029cd4a02",
   "metadata": {},
   "outputs": [],
   "source": [
    "nomearquivo = 'config.yaml'\n",
    "escritor = open(nomearquivo,'w')\n",
    "yaml.dump(config, escritor)"
   ]
  },
  {
   "cell_type": "code",
   "execution_count": 45,
   "id": "e6bd23c7-b6db-4cd7-8737-586928bc707e",
   "metadata": {},
   "outputs": [],
   "source": [
    "escritor.close()"
   ]
  },
  {
   "cell_type": "code",
   "execution_count": 46,
   "id": "af9c0d97-dc27-4dce-b1af-a06bd256fbbe",
   "metadata": {},
   "outputs": [
    {
     "data": {
      "text/plain": [
       "{'data_dir': 'photo_info',\n",
       " 'extensions': ['jpg', 'jpeg'],\n",
       " 'photo_dir': 'photos'}"
      ]
     },
     "execution_count": 46,
     "metadata": {},
     "output_type": "execute_result"
    }
   ],
   "source": [
    "arquivo = open(nomearquivo)\n",
    "leitura_config = yaml.safe_load(arquivo)\n",
    "leitura_config"
   ]
  },
  {
   "cell_type": "code",
   "execution_count": 47,
   "id": "c9e59720-2113-4fdc-be37-79dedaf5cbd8",
   "metadata": {},
   "outputs": [
    {
     "data": {
      "text/plain": [
       "dict"
      ]
     },
     "execution_count": 47,
     "metadata": {},
     "output_type": "execute_result"
    }
   ],
   "source": [
    "type(leitura_config)"
   ]
  },
  {
   "cell_type": "code",
   "execution_count": 49,
   "id": "e88c088d-c9da-4a12-ba2c-c0ff6375b0a3",
   "metadata": {},
   "outputs": [
    {
     "data": {
      "text/plain": [
       "['jpg', 'jpeg']"
      ]
     },
     "execution_count": 49,
     "metadata": {},
     "output_type": "execute_result"
    }
   ],
   "source": [
    "leitura_config['extensions']"
   ]
  },
  {
   "cell_type": "markdown",
   "id": "a3ee0f31-9d0d-47ee-ae8e-43d8093ec966",
   "metadata": {},
   "source": [
    "# Shelve"
   ]
  },
  {
   "cell_type": "code",
   "execution_count": 50,
   "id": "96a43dc6-179d-4b91-a19a-ef69c263a69b",
   "metadata": {},
   "outputs": [
    {
     "data": {
      "text/plain": [
       "'photo_info'"
      ]
     },
     "execution_count": 50,
     "metadata": {},
     "output_type": "execute_result"
    }
   ],
   "source": [
    "config['data_dir']"
   ]
  },
  {
   "cell_type": "code",
   "execution_count": 51,
   "id": "8612445f-0c7a-4b1a-8995-ef5c9f7c2b3b",
   "metadata": {},
   "outputs": [],
   "source": [
    "os.makedirs(config['data_dir'], exist_ok=True)"
   ]
  },
  {
   "cell_type": "code",
   "execution_count": 52,
   "id": "a3ec4b09-8dda-40f9-9b38-ea11b53d9ad1",
   "metadata": {},
   "outputs": [
    {
     "data": {
      "text/plain": [
       "'photo_info/captions'"
      ]
     },
     "execution_count": 52,
     "metadata": {},
     "output_type": "execute_result"
    }
   ],
   "source": [
    "db_arquivo = os.path.join(config['data_dir'], 'captions')\n",
    "db_arquivo"
   ]
  },
  {
   "cell_type": "code",
   "execution_count": 53,
   "id": "2088d4b2-9b40-442e-bdec-f8d676b2f72a",
   "metadata": {},
   "outputs": [],
   "source": [
    "import shelve"
   ]
  },
  {
   "cell_type": "code",
   "execution_count": 54,
   "id": "ae7cb596-35d8-4ace-8408-04e4a9b5beb6",
   "metadata": {},
   "outputs": [],
   "source": [
    "db = shelve.open(db_arquivo,'c')"
   ]
  },
  {
   "cell_type": "code",
   "execution_count": 55,
   "id": "fb3d194c-a2b0-4ae7-aca7-660acdd5e122",
   "metadata": {},
   "outputs": [
    {
     "data": {
      "text/plain": [
       "<shelve.DbfilenameShelf at 0x7d5f96992da0>"
      ]
     },
     "execution_count": 55,
     "metadata": {},
     "output_type": "execute_result"
    }
   ],
   "source": [
    "db"
   ]
  },
  {
   "cell_type": "code",
   "execution_count": 56,
   "id": "4aa49dde-d863-4d9b-b9d0-7d470d821a30",
   "metadata": {},
   "outputs": [],
   "source": [
    "db['jan-2023/photo1.jpg'] = 'Nariz de um gato'"
   ]
  },
  {
   "cell_type": "code",
   "execution_count": 57,
   "id": "53019b47-ea15-4c74-bea6-1244a94bb142",
   "metadata": {},
   "outputs": [],
   "source": [
    "chave = 'jan-2023/photo1.jpg'"
   ]
  },
  {
   "cell_type": "code",
   "execution_count": 58,
   "id": "fe40fb09-0c63-4de9-8556-3488071a2a07",
   "metadata": {},
   "outputs": [
    {
     "data": {
      "text/plain": [
       "'Nariz de um gato'"
      ]
     },
     "execution_count": 58,
     "metadata": {},
     "output_type": "execute_result"
    }
   ],
   "source": [
    "db[chave]"
   ]
  },
  {
   "cell_type": "code",
   "execution_count": 59,
   "id": "40a0e281-fd48-458d-98f8-c82df60e6e56",
   "metadata": {},
   "outputs": [],
   "source": [
    "db[chave] = 'Zoom em um nariz de um gato'"
   ]
  },
  {
   "cell_type": "code",
   "execution_count": 60,
   "id": "6d34c9c7-2852-4fb1-b8ba-6586a1df9be0",
   "metadata": {},
   "outputs": [
    {
     "data": {
      "text/plain": [
       "'Zoom em um nariz de um gato'"
      ]
     },
     "execution_count": 60,
     "metadata": {},
     "output_type": "execute_result"
    }
   ],
   "source": [
    "db[chave]"
   ]
  },
  {
   "cell_type": "code",
   "execution_count": 61,
   "id": "bbb2805e-73f4-4457-a1e6-7494219a9db0",
   "metadata": {},
   "outputs": [
    {
     "data": {
      "text/plain": [
       "KeysView(<shelve.DbfilenameShelf object at 0x7d5f96992da0>)"
      ]
     },
     "execution_count": 61,
     "metadata": {},
     "output_type": "execute_result"
    }
   ],
   "source": [
    "db.keys()"
   ]
  },
  {
   "cell_type": "code",
   "execution_count": 62,
   "id": "c3f399ca-d688-4305-9618-24e4e784b8c6",
   "metadata": {},
   "outputs": [
    {
     "data": {
      "text/plain": [
       "['jan-2023/photo1.jpg']"
      ]
     },
     "execution_count": 62,
     "metadata": {},
     "output_type": "execute_result"
    }
   ],
   "source": [
    "list(db.keys())"
   ]
  },
  {
   "cell_type": "code",
   "execution_count": 63,
   "id": "f9602119-c011-438a-9921-f4dabceaf987",
   "metadata": {},
   "outputs": [
    {
     "data": {
      "text/plain": [
       "['Zoom em um nariz de um gato']"
      ]
     },
     "execution_count": 63,
     "metadata": {},
     "output_type": "execute_result"
    }
   ],
   "source": [
    "list(db.values())"
   ]
  },
  {
   "cell_type": "code",
   "execution_count": 65,
   "id": "c56e606c-8fd3-4256-ae8e-80e07655c5e9",
   "metadata": {},
   "outputs": [
    {
     "data": {
      "text/plain": [
       "[('jan-2023/photo1.jpg', 'Zoom em um nariz de um gato')]"
      ]
     },
     "execution_count": 65,
     "metadata": {},
     "output_type": "execute_result"
    }
   ],
   "source": [
    "list(db.items())"
   ]
  },
  {
   "cell_type": "code",
   "execution_count": 66,
   "id": "b40eefb5-e1a0-42cb-81b0-973affc44b1c",
   "metadata": {},
   "outputs": [
    {
     "data": {
      "text/plain": [
       "True"
      ]
     },
     "execution_count": 66,
     "metadata": {},
     "output_type": "execute_result"
    }
   ],
   "source": [
    "'jan-2023/photo1.jpg' in db"
   ]
  },
  {
   "cell_type": "code",
   "execution_count": 67,
   "id": "430b7713-1835-4e67-bca1-2b03155fc38c",
   "metadata": {},
   "outputs": [
    {
     "data": {
      "text/plain": [
       "False"
      ]
     },
     "execution_count": 67,
     "metadata": {},
     "output_type": "execute_result"
    }
   ],
   "source": [
    "'jan-2023/photo2.jpg' in db"
   ]
  },
  {
   "cell_type": "code",
   "execution_count": 68,
   "id": "f68ce230-e243-4663-a440-bcb08c22abdb",
   "metadata": {},
   "outputs": [],
   "source": [
    "db.close()"
   ]
  },
  {
   "cell_type": "markdown",
   "id": "a3e1b398-81cc-4da4-9756-b43f90ecd9a9",
   "metadata": {},
   "source": [
    "# Verificando arquivos duplicados"
   ]
  },
  {
   "cell_type": "code",
   "execution_count": 8,
   "id": "274896eb-e66b-4df2-9c21-40922083ca3f",
   "metadata": {},
   "outputs": [],
   "source": [
    "arquivo1 = 'photos/jan-2023/photo1.jpg'\n",
    "arquivo2 = 'photos/jan-2023/photo2.jpg'\n",
    "arquivo9 = 'photos/jan-2023/photo9.jpg'"
   ]
  },
  {
   "cell_type": "code",
   "execution_count": 4,
   "id": "7915a95c-c335-4fe1-bd7e-cfba86045f3b",
   "metadata": {},
   "outputs": [
    {
     "data": {
      "text/plain": [
       "bytes"
      ]
     },
     "execution_count": 4,
     "metadata": {},
     "output_type": "execute_result"
    }
   ],
   "source": [
    "imagem1 = open(arquivo1, 'rb').read()\n",
    "type(imagem1)"
   ]
  },
  {
   "cell_type": "code",
   "execution_count": 6,
   "id": "03774949-34b2-46cc-a202-195dea6b262c",
   "metadata": {},
   "outputs": [
    {
     "data": {
      "text/plain": [
       "bytes"
      ]
     },
     "execution_count": 6,
     "metadata": {},
     "output_type": "execute_result"
    }
   ],
   "source": [
    "imagem2 = open(arquivo2, 'rb').read()\n",
    "type(imagem2)"
   ]
  },
  {
   "cell_type": "code",
   "execution_count": 7,
   "id": "e4c89acf-9a72-450d-9f8a-75c20fab4475",
   "metadata": {},
   "outputs": [
    {
     "data": {
      "text/plain": [
       "False"
      ]
     },
     "execution_count": 7,
     "metadata": {},
     "output_type": "execute_result"
    }
   ],
   "source": [
    "imagem1 == imagem2"
   ]
  },
  {
   "cell_type": "code",
   "execution_count": 9,
   "id": "8700aa75-bfbc-4b4d-a72b-c9a8095d9147",
   "metadata": {},
   "outputs": [],
   "source": [
    "imagem9 = open(arquivo9, 'rb').read()"
   ]
  },
  {
   "cell_type": "code",
   "execution_count": 12,
   "id": "e8c6dd27-c54d-4949-9ac5-302f027ce8cd",
   "metadata": {},
   "outputs": [
    {
     "data": {
      "text/plain": [
       "True"
      ]
     },
     "execution_count": 12,
     "metadata": {},
     "output_type": "execute_result"
    }
   ],
   "source": [
    "imagem9 == imagem1"
   ]
  },
  {
   "cell_type": "code",
   "execution_count": 13,
   "id": "3255a9a3-3d91-47f7-aceb-057cdecbfa73",
   "metadata": {},
   "outputs": [
    {
     "data": {
      "text/plain": [
       "13732"
      ]
     },
     "execution_count": 13,
     "metadata": {},
     "output_type": "execute_result"
    }
   ],
   "source": [
    "len(imagem1)"
   ]
  },
  {
   "cell_type": "code",
   "execution_count": 15,
   "id": "29a3f34b-7063-4155-972e-c2d9adf00c14",
   "metadata": {},
   "outputs": [
    {
     "data": {
      "text/plain": [
       "13732"
      ]
     },
     "execution_count": 15,
     "metadata": {},
     "output_type": "execute_result"
    }
   ],
   "source": [
    "len(imagem9)"
   ]
  },
  {
   "cell_type": "code",
   "execution_count": 16,
   "id": "9c643f93-8002-4b14-8f2c-71bfd937fd8e",
   "metadata": {},
   "outputs": [
    {
     "data": {
      "text/plain": [
       "15077"
      ]
     },
     "execution_count": 16,
     "metadata": {},
     "output_type": "execute_result"
    }
   ],
   "source": [
    "len(imagem2)"
   ]
  },
  {
   "cell_type": "code",
   "execution_count": 17,
   "id": "4992fb0f-2f85-4be8-ba10-9b88e3bf25e0",
   "metadata": {},
   "outputs": [],
   "source": [
    "import hashlib"
   ]
  },
  {
   "cell_type": "code",
   "execution_count": 18,
   "id": "336a5198-1c5a-45ba-a92b-3126a105008d",
   "metadata": {},
   "outputs": [],
   "source": [
    "md5_hash = hashlib.md5()"
   ]
  },
  {
   "cell_type": "code",
   "execution_count": 19,
   "id": "f239f9d2-e761-4528-bc7e-92fbf554092a",
   "metadata": {},
   "outputs": [
    {
     "data": {
      "text/plain": [
       "_hashlib.HASH"
      ]
     },
     "execution_count": 19,
     "metadata": {},
     "output_type": "execute_result"
    }
   ],
   "source": [
    "type(md5_hash)"
   ]
  },
  {
   "cell_type": "code",
   "execution_count": 20,
   "id": "e778f220-7039-4e61-aeaa-4c247614ea30",
   "metadata": {},
   "outputs": [
    {
     "data": {
      "text/plain": [
       "'d41d8cd98f00b204e9800998ecf8427e'"
      ]
     },
     "execution_count": 20,
     "metadata": {},
     "output_type": "execute_result"
    }
   ],
   "source": [
    "md5_hash.hexdigest()"
   ]
  },
  {
   "cell_type": "code",
   "execution_count": 21,
   "id": "f402c927-a644-4829-9f49-1ba2a76b272e",
   "metadata": {},
   "outputs": [],
   "source": [
    "md5_hash.update(imagem1)"
   ]
  },
  {
   "cell_type": "code",
   "execution_count": 22,
   "id": "9a01be2a-8489-4a76-b650-a92ffbed43d0",
   "metadata": {},
   "outputs": [
    {
     "data": {
      "text/plain": [
       "'aa1d2fc25b7ae247b2931f5a0882fa37'"
      ]
     },
     "execution_count": 22,
     "metadata": {},
     "output_type": "execute_result"
    }
   ],
   "source": [
    "md5_hash.hexdigest()"
   ]
  },
  {
   "cell_type": "code",
   "execution_count": 23,
   "id": "5f1b2d64-671d-41b7-abd2-18ce951ba986",
   "metadata": {},
   "outputs": [],
   "source": [
    "md5_hash.update(imagem2)"
   ]
  },
  {
   "cell_type": "code",
   "execution_count": 25,
   "id": "a93fb81c-1537-4fa3-a1cf-b7f9d84c21df",
   "metadata": {},
   "outputs": [
    {
     "data": {
      "text/plain": [
       "'b7ba71f13590b60e97ceace3e64fb735'"
      ]
     },
     "execution_count": 25,
     "metadata": {},
     "output_type": "execute_result"
    }
   ],
   "source": [
    "md5_hash.hexdigest()"
   ]
  },
  {
   "cell_type": "code",
   "execution_count": 26,
   "id": "9f97df30-96d0-4402-8000-21f642a78363",
   "metadata": {},
   "outputs": [],
   "source": [
    "imagem_hash = hashlib.md5()"
   ]
  },
  {
   "cell_type": "code",
   "execution_count": 28,
   "id": "eca5e13e-0367-498e-94e7-077b69afaba8",
   "metadata": {},
   "outputs": [],
   "source": [
    "imagem_hash.update(imagem9)"
   ]
  },
  {
   "cell_type": "code",
   "execution_count": 31,
   "id": "d6b564e7-89c9-48cc-aa61-a123e6412a1d",
   "metadata": {},
   "outputs": [],
   "source": [
    "def md5_resumo(nomearquivo):\n",
    "    binario = open(nomearquivo,'rb').read()\n",
    "    md5_obj = hashlib.md5()\n",
    "    md5_obj.update(binario)\n",
    "    resumo = md5_obj.hexdigest()\n",
    "    return resumo"
   ]
  },
  {
   "cell_type": "code",
   "execution_count": 33,
   "id": "7e51e517-67df-4c97-81af-52b1defd1426",
   "metadata": {},
   "outputs": [
    {
     "data": {
      "text/plain": [
       "'aa1d2fc25b7ae247b2931f5a0882fa37'"
      ]
     },
     "execution_count": 33,
     "metadata": {},
     "output_type": "execute_result"
    }
   ],
   "source": [
    "md5_resumo(arquivo1)"
   ]
  },
  {
   "cell_type": "code",
   "execution_count": 34,
   "id": "2b03268a-b686-4fd9-89b4-7eee7109eb34",
   "metadata": {},
   "outputs": [
    {
     "data": {
      "text/plain": [
       "'aa1d2fc25b7ae247b2931f5a0882fa37'"
      ]
     },
     "execution_count": 34,
     "metadata": {},
     "output_type": "execute_result"
    }
   ],
   "source": [
    "md5_resumo(arquivo9)"
   ]
  },
  {
   "cell_type": "code",
   "execution_count": 35,
   "id": "4cdebda6-c758-4634-9b8b-686884193a46",
   "metadata": {},
   "outputs": [
    {
     "data": {
      "text/plain": [
       "'013454e5d7e34dc7c7592860ae649524'"
      ]
     },
     "execution_count": 35,
     "metadata": {},
     "output_type": "execute_result"
    }
   ],
   "source": [
    "md5_resumo(arquivo2)"
   ]
  },
  {
   "cell_type": "markdown",
   "id": "14ffce4c-2641-4f44-bec1-9169d761d3cc",
   "metadata": {},
   "source": [
    "# Diretórios ambulantes"
   ]
  },
  {
   "cell_type": "code",
   "execution_count": 36,
   "id": "e0798b99-8ee5-41e3-8c37-160212c01f2d",
   "metadata": {},
   "outputs": [],
   "source": [
    "def leitura(diretorio):\n",
    "    for nome in os.listdir(diretorio):\n",
    "        caminho = os.path.join(diretorio,nome)\n",
    "        if os.path.isfile(caminho):\n",
    "            print(caminho)\n",
    "        elif os.path.isdir(caminho):\n",
    "            leitura(caminho)\n",
    "        "
   ]
  },
  {
   "cell_type": "code",
   "execution_count": 38,
   "id": "37e8e7f6-f7a0-43e1-8830-fa776475c50c",
   "metadata": {},
   "outputs": [
    {
     "name": "stdout",
     "output_type": "stream",
     "text": [
      "photos/feb-2023/photo2.jpg\n",
      "photos/feb-2023/photo1.jpg\n",
      "photos/feb-2023/.ipynb_checkpoints/photo1-checkpoint.jpg\n",
      "photos/feb-2023/.ipynb_checkpoints/photo2-checkpoint.jpg\n",
      "photos/jan-2023/photo2.jpg\n",
      "photos/jan-2023/photo1.jpg\n",
      "photos/jan-2023/photo3.jpg\n",
      "photos/jan-2023/.ipynb_checkpoints/photo9-checkpoint.jpg\n",
      "photos/jan-2023/.ipynb_checkpoints/photo1-checkpoint.jpg\n",
      "photos/jan-2023/photo9.jpg\n",
      "photos/mar-2023/photo2.jpg\n",
      "photos/mar-2023/photo1.jpg\n",
      "photos/notes.txt\n"
     ]
    }
   ],
   "source": [
    "leitura('photos')"
   ]
  }
 ],
 "metadata": {
  "kernelspec": {
   "display_name": "anaconda-2024.02-py310",
   "language": "python",
   "name": "conda-env-anaconda-2024.02-py310-py"
  },
  "language_info": {
   "codemirror_mode": {
    "name": "ipython",
    "version": 3
   },
   "file_extension": ".py",
   "mimetype": "text/x-python",
   "name": "python",
   "nbconvert_exporter": "python",
   "pygments_lexer": "ipython3",
   "version": "3.10.14"
  }
 },
 "nbformat": 4,
 "nbformat_minor": 5
}
