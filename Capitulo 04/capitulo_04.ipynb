{
 "cells": [
  {
   "cell_type": "markdown",
   "id": "271f1b68-5c0e-4f0d-be70-12b7f7d14204",
   "metadata": {},
   "source": [
    "# Refatorando um código"
   ]
  },
  {
   "cell_type": "code",
   "execution_count": 3,
   "id": "86f6e56b-32eb-462e-8045-17d1f142814a",
   "metadata": {},
   "outputs": [
    {
     "name": "stdout",
     "output_type": "stream",
     "text": [
      "Note: you may need to restart the kernel to use updated packages.\n"
     ]
    }
   ],
   "source": [
    "pip install jupyturtle  --quiet"
   ]
  },
  {
   "cell_type": "code",
   "execution_count": 7,
   "id": "544f7a1a-89ba-4c8f-a95b-6fed3c9063f8",
   "metadata": {},
   "outputs": [],
   "source": [
    "import jupyturtle"
   ]
  },
  {
   "cell_type": "code",
   "execution_count": 9,
   "id": "596d5b97-3812-496e-94e6-8a010429c95d",
   "metadata": {},
   "outputs": [
    {
     "data": {
      "text/html": [
       "<svg width=\"300\" height=\"150\" style=\"fill:none; stroke-linecap:round;\">\n",
       "    <rect width=\"100%\" height=\"100%\" fill=\"#F3F3F7\" />\n",
       "\n",
       "\n",
       "<path stroke=\"#663399\" stroke-width=\"2\" d=\"M 150,75 250,75\" />'\n",
       "\n",
       "<g transform=\"rotate(-90.0,250.0,75.0) translate(250.0, 75.0)\">\n",
       "    <circle stroke=\"#63A375\" stroke-width=\"2\" fill=\"transparent\" r=\"5.5\" cx=\"0\" cy=\"0\"/>\n",
       "    <polygon points=\"0,12 2,9 -2,9\" style=\"fill:#63A375;stroke:#63A375;stroke-width:2\"/>\n",
       "</g>\n",
       "\n",
       "</svg>"
      ],
      "text/plain": [
       "<IPython.core.display.HTML object>"
      ]
     },
     "metadata": {},
     "output_type": "display_data"
    }
   ],
   "source": [
    "jupyturtle.make_turtle()\n",
    "jupyturtle.forward(100)"
   ]
  },
  {
   "cell_type": "code",
   "execution_count": 10,
   "id": "b3287dcb-bdc8-4075-91ef-1421a6d8c5c7",
   "metadata": {},
   "outputs": [],
   "source": [
    "from jupyturtle import make_turtle, forward"
   ]
  },
  {
   "cell_type": "code",
   "execution_count": 11,
   "id": "f045c303-dd75-41f3-aa8d-caa9b16f9aa7",
   "metadata": {},
   "outputs": [
    {
     "data": {
      "text/html": [
       "<svg width=\"300\" height=\"150\" style=\"fill:none; stroke-linecap:round;\">\n",
       "    <rect width=\"100%\" height=\"100%\" fill=\"#F3F3F7\" />\n",
       "\n",
       "\n",
       "<path stroke=\"#663399\" stroke-width=\"2\" d=\"M 150,75\" />'\n",
       "\n",
       "<g transform=\"rotate(-90.0,150,75) translate(150, 75)\">\n",
       "    <circle stroke=\"#63A375\" stroke-width=\"2\" fill=\"transparent\" r=\"5.5\" cx=\"0\" cy=\"0\"/>\n",
       "    <polygon points=\"0,12 2,9 -2,9\" style=\"fill:#63A375;stroke:#63A375;stroke-width:2\"/>\n",
       "</g>\n",
       "\n",
       "</svg>"
      ],
      "text/plain": [
       "<IPython.core.display.HTML object>"
      ]
     },
     "metadata": {},
     "output_type": "display_data"
    },
    {
     "data": {
      "text/plain": [
       "<jupyturtle.jupyturtle.Turtle at 0x776abf27e140>"
      ]
     },
     "execution_count": 11,
     "metadata": {},
     "output_type": "execute_result"
    }
   ],
   "source": [
    "make_turtle()"
   ]
  },
  {
   "cell_type": "code",
   "execution_count": 12,
   "id": "0282f1ae-62a9-4a10-8135-c8b0038f00ff",
   "metadata": {},
   "outputs": [],
   "source": [
    "import jupyturtle as jp"
   ]
  },
  {
   "cell_type": "code",
   "execution_count": 13,
   "id": "a21d05c7-6ac4-4d67-8235-0a2d1414f581",
   "metadata": {},
   "outputs": [
    {
     "data": {
      "text/html": [
       "<svg width=\"300\" height=\"150\" style=\"fill:none; stroke-linecap:round;\">\n",
       "    <rect width=\"100%\" height=\"100%\" fill=\"#F3F3F7\" />\n",
       "\n",
       "\n",
       "<path stroke=\"#663399\" stroke-width=\"2\" d=\"M 150,75\" />'\n",
       "\n",
       "<g transform=\"rotate(-90.0,150,75) translate(150, 75)\">\n",
       "    <circle stroke=\"#63A375\" stroke-width=\"2\" fill=\"transparent\" r=\"5.5\" cx=\"0\" cy=\"0\"/>\n",
       "    <polygon points=\"0,12 2,9 -2,9\" style=\"fill:#63A375;stroke:#63A375;stroke-width:2\"/>\n",
       "</g>\n",
       "\n",
       "</svg>"
      ],
      "text/plain": [
       "<IPython.core.display.HTML object>"
      ]
     },
     "metadata": {},
     "output_type": "display_data"
    },
    {
     "data": {
      "text/plain": [
       "<jupyturtle.jupyturtle.Turtle at 0x776abf27f5b0>"
      ]
     },
     "execution_count": 13,
     "metadata": {},
     "output_type": "execute_result"
    }
   ],
   "source": [
    "jp.make_turtle()"
   ]
  },
  {
   "cell_type": "code",
   "execution_count": 18,
   "id": "70f08890-1fe2-4087-9356-2c02391b3666",
   "metadata": {},
   "outputs": [],
   "source": [
    "from jupyturtle import make_turtle as mkt, forward as fwd\n",
    "from jupyturtle import left, right"
   ]
  },
  {
   "cell_type": "code",
   "execution_count": 24,
   "id": "d6358e24-9548-43dd-a5f1-a79d16fadc05",
   "metadata": {},
   "outputs": [
    {
     "data": {
      "text/html": [
       "<svg width=\"300\" height=\"150\" style=\"fill:none; stroke-linecap:round;\">\n",
       "    <rect width=\"100%\" height=\"100%\" fill=\"#F3F3F7\" />\n",
       "\n",
       "\n",
       "<path stroke=\"#663399\" stroke-width=\"2\" d=\"M 150,75 200,75 200,25 150,25 150,75\" />'\n",
       "\n",
       "<g transform=\"rotate(-90.0,150.0,75.0) translate(150.0, 75.0)\">\n",
       "    <circle stroke=\"#63A375\" stroke-width=\"2\" fill=\"transparent\" r=\"5.5\" cx=\"0\" cy=\"0\"/>\n",
       "    <polygon points=\"0,12 2,9 -2,9\" style=\"fill:#63A375;stroke:#63A375;stroke-width:2\"/>\n",
       "</g>\n",
       "\n",
       "</svg>"
      ],
      "text/plain": [
       "<IPython.core.display.HTML object>"
      ]
     },
     "metadata": {},
     "output_type": "display_data"
    }
   ],
   "source": [
    "# Fazendo um quadrado\n",
    "mkt()\n",
    "\n",
    "fwd(50)\n",
    "left(90)\n",
    "\n",
    "fwd(50)\n",
    "left(90)\n",
    "\n",
    "fwd(50)\n",
    "left(90)\n",
    "\n",
    "fwd(50)\n",
    "left(90)"
   ]
  },
  {
   "cell_type": "code",
   "execution_count": 25,
   "id": "a5952d82-6e58-449d-8224-353bdc387be0",
   "metadata": {},
   "outputs": [],
   "source": [
    "def quadrado():\n",
    "    for i in range(4):\n",
    "        fwd(50)\n",
    "        left(90)"
   ]
  },
  {
   "cell_type": "code",
   "execution_count": 27,
   "id": "54c38776-0cfb-47b4-9b5e-6257a0027a65",
   "metadata": {},
   "outputs": [
    {
     "data": {
      "text/html": [
       "<svg width=\"300\" height=\"150\" style=\"fill:none; stroke-linecap:round;\">\n",
       "    <rect width=\"100%\" height=\"100%\" fill=\"#F3F3F7\" />\n",
       "\n",
       "\n",
       "<path stroke=\"#663399\" stroke-width=\"2\" d=\"M 150,75 200,75 200,25 150,25 150,75\" />'\n",
       "\n",
       "<g transform=\"rotate(-90.0,150.0,75.0) translate(150.0, 75.0)\">\n",
       "    <circle stroke=\"#63A375\" stroke-width=\"2\" fill=\"transparent\" r=\"5.5\" cx=\"0\" cy=\"0\"/>\n",
       "    <polygon points=\"0,12 2,9 -2,9\" style=\"fill:#63A375;stroke:#63A375;stroke-width:2\"/>\n",
       "</g>\n",
       "\n",
       "</svg>"
      ],
      "text/plain": [
       "<IPython.core.display.HTML object>"
      ]
     },
     "metadata": {},
     "output_type": "display_data"
    }
   ],
   "source": [
    "mkt()\n",
    "quadrado()"
   ]
  },
  {
   "cell_type": "code",
   "execution_count": 28,
   "id": "8a402cf0-edba-4dee-98e7-9450dc4176c3",
   "metadata": {},
   "outputs": [],
   "source": [
    "def quadrado(n):\n",
    "    for i in range(4):\n",
    "        fwd(n)\n",
    "        left(90)"
   ]
  },
  {
   "cell_type": "code",
   "execution_count": 29,
   "id": "cfe3e841-8874-4cde-adf5-5ed713a4d372",
   "metadata": {},
   "outputs": [
    {
     "data": {
      "text/html": [
       "<svg width=\"300\" height=\"150\" style=\"fill:none; stroke-linecap:round;\">\n",
       "    <rect width=\"100%\" height=\"100%\" fill=\"#F3F3F7\" />\n",
       "\n",
       "\n",
       "<path stroke=\"#663399\" stroke-width=\"2\" d=\"M 150,75 180,75 180,45 150,45 150,75 210,75 210,15 150,15 150,75\" />'\n",
       "\n",
       "<g transform=\"rotate(-90.0,150.0,75.0) translate(150.0, 75.0)\">\n",
       "    <circle stroke=\"#63A375\" stroke-width=\"2\" fill=\"transparent\" r=\"5.5\" cx=\"0\" cy=\"0\"/>\n",
       "    <polygon points=\"0,12 2,9 -2,9\" style=\"fill:#63A375;stroke:#63A375;stroke-width:2\"/>\n",
       "</g>\n",
       "\n",
       "</svg>"
      ],
      "text/plain": [
       "<IPython.core.display.HTML object>"
      ]
     },
     "metadata": {},
     "output_type": "display_data"
    }
   ],
   "source": [
    "mkt()\n",
    "quadrado(30)\n",
    "quadrado(60)"
   ]
  },
  {
   "cell_type": "code",
   "execution_count": 30,
   "id": "77d6b2da-590e-41ff-8f50-fb8eb72eb3d7",
   "metadata": {},
   "outputs": [],
   "source": [
    "def polygon(n, tamanho):\n",
    "    angulo = 360 / n\n",
    "    for i in range(n):\n",
    "        fwd(tamanho)\n",
    "        left(angulo)"
   ]
  },
  {
   "cell_type": "code",
   "execution_count": 31,
   "id": "99708f46-b3b0-46cf-8f6a-00ac8e91b12e",
   "metadata": {},
   "outputs": [
    {
     "data": {
      "text/html": [
       "<svg width=\"300\" height=\"150\" style=\"fill:none; stroke-linecap:round;\">\n",
       "    <rect width=\"100%\" height=\"100%\" fill=\"#F3F3F7\" />\n",
       "\n",
       "\n",
       "<path stroke=\"#663399\" stroke-width=\"2\" d=\"M 150,75 180,75 198.7,51.5 192,22.3 165,9.3 138,22.3 131.3,51.5 150,75\" />'\n",
       "\n",
       "<g transform=\"rotate(270.0,150.0,75.0) translate(150.0, 75.0)\">\n",
       "    <circle stroke=\"#63A375\" stroke-width=\"2\" fill=\"transparent\" r=\"5.5\" cx=\"0\" cy=\"0\"/>\n",
       "    <polygon points=\"0,12 2,9 -2,9\" style=\"fill:#63A375;stroke:#63A375;stroke-width:2\"/>\n",
       "</g>\n",
       "\n",
       "</svg>"
      ],
      "text/plain": [
       "<IPython.core.display.HTML object>"
      ]
     },
     "metadata": {},
     "output_type": "display_data"
    }
   ],
   "source": [
    "mkt()\n",
    "polygon(7, 30)"
   ]
  },
  {
   "cell_type": "code",
   "execution_count": 32,
   "id": "f782920a-427a-4b6f-8387-2a7f922083ae",
   "metadata": {},
   "outputs": [],
   "source": [
    "import math\n",
    "\n",
    "def circle(raio):\n",
    "    circunferencia = 2 * math.pi * raio\n",
    "    n = 30\n",
    "    tamanho = circunferencia / n\n",
    "    polygon(n,tamanho)"
   ]
  },
  {
   "cell_type": "code",
   "execution_count": 34,
   "id": "97999646-03e8-43ac-8fb2-11cc8be96138",
   "metadata": {},
   "outputs": [
    {
     "data": {
      "text/html": [
       "<svg width=\"300\" height=\"150\" style=\"fill:none; stroke-linecap:round;\">\n",
       "    <rect width=\"100%\" height=\"100%\" fill=\"#F3F3F7\" />\n",
       "\n",
       "\n",
       "<path stroke=\"#663399\" stroke-width=\"2\" d=\"M 150,75 156.3,75 162.4,73.7 168.2,71.1 173.3,67.4 177.5,62.8 180.6,57.3 182.5,51.4 183.2,45.1 182.5,38.9 180.6,32.9 177.5,27.4 173.3,22.8 168.2,19.1 162.4,16.5 156.3,15.2 150,15.2 143.9,16.5 138.1,19.1 133,22.8 128.8,27.4 125.7,32.9 123.7,38.9 123.1,45.1 123.7,51.4 125.7,57.3 128.8,62.8 133,67.4 138.1,71.1 143.9,73.7 150,75\" />'\n",
       "\n",
       "<g transform=\"rotate(-90.0,150.0,75.0) translate(150.0, 75.0)\">\n",
       "    <circle stroke=\"#63A375\" stroke-width=\"2\" fill=\"transparent\" r=\"5.5\" cx=\"0\" cy=\"0\"/>\n",
       "    <polygon points=\"0,12 2,9 -2,9\" style=\"fill:#63A375;stroke:#63A375;stroke-width:2\"/>\n",
       "</g>\n",
       "\n",
       "</svg>"
      ],
      "text/plain": [
       "<IPython.core.display.HTML object>"
      ]
     },
     "metadata": {},
     "output_type": "display_data"
    }
   ],
   "source": [
    "mkt(delay=0.02)\n",
    "circle(30)"
   ]
  },
  {
   "cell_type": "code",
   "execution_count": 35,
   "id": "8b1e4ef2-79ec-486d-a9e4-de624b94f775",
   "metadata": {},
   "outputs": [],
   "source": [
    "def polyline(n, tamanho, angulo):\n",
    "    for i in range(n):\n",
    "        fwd(tamanho)\n",
    "        left(angulo)"
   ]
  },
  {
   "cell_type": "code",
   "execution_count": 36,
   "id": "ef5578fc-c27a-4cfe-9ba6-c3041bff4c33",
   "metadata": {},
   "outputs": [],
   "source": [
    "def polygon(n, tamanho):\n",
    "    angulo = 360 / n\n",
    "    polyline(n, tamanho, angulo)"
   ]
  },
  {
   "cell_type": "code",
   "execution_count": 37,
   "id": "3d863586-8709-4298-b780-768727f5fbe8",
   "metadata": {},
   "outputs": [],
   "source": [
    "def arc(raio, angulo):\n",
    "    tamanho_arco = 2 * math.pi * raio * angulo / 360\n",
    "    n = 30\n",
    "    tamanho  = tamanho_arco / n\n",
    "    passo_angulo  = angulo / n\n",
    "    polyline(n, tamanho, passo_angulo)"
   ]
  },
  {
   "cell_type": "code",
   "execution_count": 46,
   "id": "21793442-a4a0-4fa6-9a17-847647825e04",
   "metadata": {},
   "outputs": [],
   "source": [
    "def circle(raio):\n",
    "    \"\"\"Realiza a montagem de um circulo.\n",
    "\n",
    "    raio: informe o valor do raio do cirulo    \n",
    "    \"\"\"\n",
    "    arc(raio, 360)"
   ]
  },
  {
   "cell_type": "code",
   "execution_count": 45,
   "id": "49326f90-4100-4b88-9401-a4d9b0afab7c",
   "metadata": {},
   "outputs": [
    {
     "data": {
      "text/html": [
       "<svg width=\"300\" height=\"150\" style=\"fill:none; stroke-linecap:round;\">\n",
       "    <rect width=\"100%\" height=\"100%\" fill=\"#F3F3F7\" />\n",
       "\n",
       "\n",
       "<path stroke=\"#663399\" stroke-width=\"2\" d=\"M 150,75 159,75 167.6,72.2 174.8,66.9 180.1,59.6 182.9,51.1 182.9,42.1 180.1,33.5 174.8,26.2 167.6,21 159,18.2 150,18.2 141.4,21 134.2,26.2 128.9,33.5 126.1,42.1 126.1,51.1 128.9,59.6 134.2,66.9 141.4,72.2 150,75 152.9,75 155.7,74.9 158.5,74.7 161.4,74.3 164.2,73.8 167,73.3 169.7,72.6 172.5,71.8 175.2,70.9 177.8,69.8 180.5,68.7 183,67.5 185.5,66.1 188,64.7 190.4,63.2 192.7,61.5 195,59.8 197.2,58 199.3,56.1 201.4,54.1 203.3,52 205.2,49.9 207,47.6 208.7,45.3 210.2,43 211.7,40.5 213.1,38.1 214.4,35.5 215.6,32.9 216.7,30.3 217.4,28.3 217.7,26.2 217.6,24.2 217,22.1 216,20.3 214.7,18.7 213,17.4 211.1,16.5 209.1,16 207,15.9 204.9,16.3 203,17 201.3,18.2 199.8,19.7 198.7,21.5 198,23.5 197.7,25.5 197.8,27.6 198.4,29.6 199.4,31.5 200.7,33.1 202.4,34.4 204.3,35.3 206.3,35.8 208.4,35.9 210.5,35.5 212.4,34.7 214.1,33.6 215.6,32.1 216.7,30.3\" />'\n",
       "\n",
       "<g transform=\"rotate(200.0,216.7,30.3) translate(216.7, 30.3)\">\n",
       "    <circle stroke=\"#63A375\" stroke-width=\"2\" fill=\"transparent\" r=\"5.5\" cx=\"0\" cy=\"0\"/>\n",
       "    <polygon points=\"0,12 2,9 -2,9\" style=\"fill:#63A375;stroke:#63A375;stroke-width:2\"/>\n",
       "</g>\n",
       "\n",
       "</svg>"
      ],
      "text/plain": [
       "<IPython.core.display.HTML object>"
      ]
     },
     "metadata": {},
     "output_type": "display_data"
    }
   ],
   "source": [
    "mkt(delay=0)\n",
    "polygon(20,9)\n",
    "arc(70,70)\n",
    "circle(10)"
   ]
  }
 ],
 "metadata": {
  "kernelspec": {
   "display_name": "anaconda-2024.02-py310",
   "language": "python",
   "name": "conda-env-anaconda-2024.02-py310-py"
  },
  "language_info": {
   "codemirror_mode": {
    "name": "ipython",
    "version": 3
   },
   "file_extension": ".py",
   "mimetype": "text/x-python",
   "name": "python",
   "nbconvert_exporter": "python",
   "pygments_lexer": "ipython3",
   "version": "3.10.14"
  }
 },
 "nbformat": 4,
 "nbformat_minor": 5
}
