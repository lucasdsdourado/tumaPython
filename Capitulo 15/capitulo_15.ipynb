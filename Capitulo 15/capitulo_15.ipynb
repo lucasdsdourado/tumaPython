{
 "cells": [
  {
   "cell_type": "markdown",
   "id": "2335f6d6-b6fc-40b9-b86e-4f0e55897e81",
   "metadata": {},
   "source": [
    "# Classes e Métodos"
   ]
  },
  {
   "cell_type": "code",
   "execution_count": 38,
   "id": "d19fa27c-db68-4e1f-b04a-a816d2237df7",
   "metadata": {},
   "outputs": [],
   "source": [
    "class Time:\n",
    "    \"\"\"Representa um horário do dia\"\"\"\n",
    "    def __init__(self, hora=0, minuto=0, segundo=0):\n",
    "        self.hora = hora\n",
    "        self.minuto = minuto\n",
    "        self.segundo = segundo\n",
    "\n",
    "    def time_to_int(self):\n",
    "        minutos = self.hora  * 60 + self.minuto\n",
    "        segundos = minutos * 60 + self.segundo\n",
    "        return segundos\n",
    "\n",
    "    def int_to_time(segundos):\n",
    "        minuto, segundo = divmod(segundos,60)\n",
    "        hora, minuto = divmod(minuto,60)\n",
    "        return Time(hora, minuto, segundo)\n",
    "         \n",
    "    def __str__(self):\n",
    "        horario = f\"{self.hora:02d}:{self.minuto:02d}:{self.segundo:02d}\"\n",
    "        return horario\n",
    "\n",
    "    def __add__(self, outro):\n",
    "        segundos = self.time_to_int() + outro.time_to_int()\n",
    "        return Time.int_to_time(segundos)\n",
    "\n",
    "    def __sub__(self, outro):\n",
    "        segundos = self.time_to_int() - outro.time_to_int()\n",
    "        return Time.int_to_time(segundos)"
   ]
  },
  {
   "cell_type": "code",
   "execution_count": 3,
   "id": "35e6f329-35d3-4331-8e10-f6e5aaaf6aa5",
   "metadata": {},
   "outputs": [],
   "source": [
    "almoco = Time(12, 20, 20)"
   ]
  },
  {
   "cell_type": "code",
   "execution_count": 13,
   "id": "37da9e13-b08f-4d7f-a6c5-090f4b09e64d",
   "metadata": {},
   "outputs": [],
   "source": [
    "jantar = Time(20, 30, 15)"
   ]
  },
  {
   "cell_type": "code",
   "execution_count": 7,
   "id": "ad9320dc-3f77-4cca-a392-29fa80036a3b",
   "metadata": {},
   "outputs": [
    {
     "name": "stdout",
     "output_type": "stream",
     "text": [
      "20 12\n"
     ]
    }
   ],
   "source": [
    "print(jantar.hora,almoco.hora)"
   ]
  },
  {
   "cell_type": "code",
   "execution_count": 9,
   "id": "26ae160a-ff74-4379-b128-e705e5355b3e",
   "metadata": {},
   "outputs": [
    {
     "name": "stdout",
     "output_type": "stream",
     "text": [
      "<__main__.Time object at 0x79f63ddacb80>\n"
     ]
    }
   ],
   "source": [
    "# print antes de criar o get\n",
    "print(jantar)"
   ]
  },
  {
   "cell_type": "code",
   "execution_count": 14,
   "id": "a329b85a-feb8-401c-bb90-b91779e7c8db",
   "metadata": {},
   "outputs": [
    {
     "name": "stdout",
     "output_type": "stream",
     "text": [
      "20:30:15\n"
     ]
    }
   ],
   "source": [
    "print(jantar)"
   ]
  },
  {
   "cell_type": "code",
   "execution_count": 15,
   "id": "407f67e1-31cc-4f14-a714-0310fed3fae5",
   "metadata": {},
   "outputs": [
    {
     "data": {
      "text/plain": [
       "20"
      ]
     },
     "execution_count": 15,
     "metadata": {},
     "output_type": "execute_result"
    }
   ],
   "source": [
    "jantar.hora"
   ]
  },
  {
   "cell_type": "code",
   "execution_count": 16,
   "id": "e8ec00db-d46e-4c9b-b2f5-18a63d2c0f73",
   "metadata": {},
   "outputs": [],
   "source": [
    "jantar.hora = 21"
   ]
  },
  {
   "cell_type": "code",
   "execution_count": 17,
   "id": "b6dab38d-925f-4a18-9a79-67d46a19a239",
   "metadata": {},
   "outputs": [
    {
     "data": {
      "text/plain": [
       "21"
      ]
     },
     "execution_count": 17,
     "metadata": {},
     "output_type": "execute_result"
    }
   ],
   "source": [
    "jantar.hora"
   ]
  },
  {
   "cell_type": "code",
   "execution_count": 21,
   "id": "ef4da1b9-8ba0-4abd-a9d3-2c79fef356bc",
   "metadata": {},
   "outputs": [],
   "source": [
    "jantar = Time(21, 37, 30)"
   ]
  },
  {
   "cell_type": "code",
   "execution_count": 22,
   "id": "2b309c6e-f244-4d63-a5e5-26731afcfaa3",
   "metadata": {},
   "outputs": [
    {
     "data": {
      "text/plain": [
       "77850"
      ]
     },
     "execution_count": 22,
     "metadata": {},
     "output_type": "execute_result"
    }
   ],
   "source": [
    "jantar.time_to_int()"
   ]
  },
  {
   "cell_type": "code",
   "execution_count": 35,
   "id": "d54eb48a-5b18-44bc-b8e6-5fc3912ed371",
   "metadata": {},
   "outputs": [],
   "source": [
    "inicio = Time(19,5,0)\n",
    "duracao = Time(3,40,20)"
   ]
  },
  {
   "cell_type": "code",
   "execution_count": 27,
   "id": "8a1ad19f-fc1c-4f1a-acc6-8d61128e82db",
   "metadata": {},
   "outputs": [],
   "source": [
    "fim = inicio.time_to_int() + duracao.time_to_int()"
   ]
  },
  {
   "cell_type": "code",
   "execution_count": 31,
   "id": "0e5c385c-f6f6-4df8-97ea-533e7cb84dba",
   "metadata": {},
   "outputs": [],
   "source": [
    "fim_obj = Time.int_to_time(fim)"
   ]
  },
  {
   "cell_type": "code",
   "execution_count": 32,
   "id": "fbd36f67-0574-40cb-a57f-c76a12a59016",
   "metadata": {},
   "outputs": [
    {
     "name": "stdout",
     "output_type": "stream",
     "text": [
      "22:45:20\n"
     ]
    }
   ],
   "source": [
    "print(fim_obj)"
   ]
  },
  {
   "cell_type": "code",
   "execution_count": 36,
   "id": "9cc32a93-cdc8-4da1-99e3-d8daaddf8a59",
   "metadata": {},
   "outputs": [],
   "source": [
    "fim2 = inicio + duracao"
   ]
  },
  {
   "cell_type": "code",
   "execution_count": 37,
   "id": "77231383-766f-425f-a6a8-e8ac99265fb1",
   "metadata": {},
   "outputs": [
    {
     "name": "stdout",
     "output_type": "stream",
     "text": [
      "22:45:20\n"
     ]
    }
   ],
   "source": [
    "print(fim2)"
   ]
  },
  {
   "cell_type": "code",
   "execution_count": 39,
   "id": "60cd506a-3015-439b-a807-d692f59c3074",
   "metadata": {},
   "outputs": [],
   "source": [
    "inicio = Time(19,30,30)\n",
    "fim = Time(21, 40, 15) "
   ]
  },
  {
   "cell_type": "code",
   "execution_count": 40,
   "id": "e60ce14c-0b72-4e7e-a6da-77abc551289d",
   "metadata": {},
   "outputs": [],
   "source": [
    "duracao = fim - inicio"
   ]
  },
  {
   "cell_type": "code",
   "execution_count": 41,
   "id": "887224b9-7d5e-491d-a569-f1dce1f27f72",
   "metadata": {},
   "outputs": [
    {
     "name": "stdout",
     "output_type": "stream",
     "text": [
      "02:09:45\n"
     ]
    }
   ],
   "source": [
    "print(duracao)"
   ]
  }
 ],
 "metadata": {
  "kernelspec": {
   "display_name": "anaconda-2024.02-py310",
   "language": "python",
   "name": "conda-env-anaconda-2024.02-py310-py"
  },
  "language_info": {
   "codemirror_mode": {
    "name": "ipython",
    "version": 3
   },
   "file_extension": ".py",
   "mimetype": "text/x-python",
   "name": "python",
   "nbconvert_exporter": "python",
   "pygments_lexer": "ipython3",
   "version": "3.10.14"
  }
 },
 "nbformat": 4,
 "nbformat_minor": 5
}
