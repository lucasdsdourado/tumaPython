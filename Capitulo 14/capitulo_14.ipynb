{
 "cells": [
  {
   "cell_type": "markdown",
   "id": "7a31849e-f77d-4052-816d-c7bed793df84",
   "metadata": {},
   "source": [
    "# Classes e Funções"
   ]
  },
  {
   "cell_type": "code",
   "execution_count": 1,
   "id": "14c68a9a-a509-4ec8-a1b5-57f47e7f5e1b",
   "metadata": {},
   "outputs": [],
   "source": [
    "class Time:\n",
    "    \"\"\"Representa uma hora do dia\"\"\""
   ]
  },
  {
   "cell_type": "code",
   "execution_count": 2,
   "id": "4a9a7d82-de7a-4f2d-bef1-c61165c85d62",
   "metadata": {},
   "outputs": [],
   "source": [
    "almoco = Time()"
   ]
  },
  {
   "cell_type": "code",
   "execution_count": 3,
   "id": "b973e75a-60a1-443b-95d2-9aa3fc4c200c",
   "metadata": {},
   "outputs": [
    {
     "data": {
      "text/plain": [
       "__main__.Time"
      ]
     },
     "execution_count": 3,
     "metadata": {},
     "output_type": "execute_result"
    }
   ],
   "source": [
    "type(almoco)"
   ]
  },
  {
   "cell_type": "code",
   "execution_count": 4,
   "id": "ab70ccc9-e7ce-4237-8b68-a660b62d54d8",
   "metadata": {},
   "outputs": [],
   "source": [
    "almoco.hora = 11\n",
    "almoco.minuto = 30\n",
    "almoco.segundo = 30"
   ]
  },
  {
   "cell_type": "code",
   "execution_count": 5,
   "id": "97451cac-3976-4247-96a2-198a3897f7c4",
   "metadata": {},
   "outputs": [
    {
     "data": {
      "text/plain": [
       "11"
      ]
     },
     "execution_count": 5,
     "metadata": {},
     "output_type": "execute_result"
    }
   ],
   "source": [
    "almoco.hora"
   ]
  },
  {
   "cell_type": "code",
   "execution_count": 7,
   "id": "0296c37b-dbb4-41fa-90df-9847f1572354",
   "metadata": {},
   "outputs": [],
   "source": [
    "total_minutos = almoco.hora  *  60 + almoco.minuto + (almoco.segundo / 60)"
   ]
  },
  {
   "cell_type": "code",
   "execution_count": 8,
   "id": "21ad9f52-20af-4cbd-9198-5758e91eb6c0",
   "metadata": {},
   "outputs": [
    {
     "data": {
      "text/plain": [
       "690.5"
      ]
     },
     "execution_count": 8,
     "metadata": {},
     "output_type": "execute_result"
    }
   ],
   "source": [
    "total_minutos"
   ]
  },
  {
   "cell_type": "code",
   "execution_count": 9,
   "id": "3f59b5b0-2a83-454c-bdff-79e9b99d3483",
   "metadata": {},
   "outputs": [],
   "source": [
    "def cria_horario(hora, minuto, segundo):\n",
    "    horario = Time()\n",
    "    horario.hora = hora\n",
    "    horario.minuto = minuto\n",
    "    horario.segundo = segundo\n",
    "    return horario"
   ]
  },
  {
   "cell_type": "code",
   "execution_count": 10,
   "id": "1cfe44bb-25c6-4ee8-9d4e-451b48118c14",
   "metadata": {},
   "outputs": [],
   "source": [
    "jantar = cria_horario(20,30,0)"
   ]
  },
  {
   "cell_type": "code",
   "execution_count": 11,
   "id": "ff6a768b-860c-4e9b-8926-d3e12cc9c792",
   "metadata": {},
   "outputs": [
    {
     "data": {
      "text/plain": [
       "__main__.Time"
      ]
     },
     "execution_count": 11,
     "metadata": {},
     "output_type": "execute_result"
    }
   ],
   "source": [
    "type(jantar)"
   ]
  },
  {
   "cell_type": "code",
   "execution_count": 13,
   "id": "d05a805d-c464-43a8-bffe-cc84a84eaf2f",
   "metadata": {},
   "outputs": [
    {
     "data": {
      "text/plain": [
       "20"
      ]
     },
     "execution_count": 13,
     "metadata": {},
     "output_type": "execute_result"
    }
   ],
   "source": [
    "jantar.hora"
   ]
  },
  {
   "cell_type": "code",
   "execution_count": 15,
   "id": "1c73a93b-842e-4e61-a26f-150dfbe7220f",
   "metadata": {},
   "outputs": [
    {
     "data": {
      "text/plain": [
       "'20:30:00'"
      ]
     },
     "execution_count": 15,
     "metadata": {},
     "output_type": "execute_result"
    }
   ],
   "source": [
    "f\"{jantar.hora:02d}:{jantar.minuto:02d}:{jantar.segundo:02d}\""
   ]
  }
 ],
 "metadata": {
  "kernelspec": {
   "display_name": "anaconda-2024.02-py310",
   "language": "python",
   "name": "conda-env-anaconda-2024.02-py310-py"
  },
  "language_info": {
   "codemirror_mode": {
    "name": "ipython",
    "version": 3
   },
   "file_extension": ".py",
   "mimetype": "text/x-python",
   "name": "python",
   "nbconvert_exporter": "python",
   "pygments_lexer": "ipython3",
   "version": "3.10.14"
  }
 },
 "nbformat": 4,
 "nbformat_minor": 5
}
