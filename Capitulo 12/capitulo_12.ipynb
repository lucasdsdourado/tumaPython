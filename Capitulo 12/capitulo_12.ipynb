{
 "cells": [
  {
   "cell_type": "markdown",
   "id": "b2849d86-4c8f-4c09-b243-07dd1a2f02c9",
   "metadata": {},
   "source": [
    "# Análise e Geração de Texto"
   ]
  },
  {
   "cell_type": "code",
   "execution_count": 1,
   "id": "f3c7043d-eb35-45ad-b1b3-8095fed63d19",
   "metadata": {},
   "outputs": [],
   "source": [
    "from os.path import basename, exists\n",
    "def download(url):\n",
    "    filename = basename(url)\n",
    "    if not exists(filename):\n",
    "        from urllib.request import urlretrieve\n",
    "        local, _ = urlretrieve(url, filename)\n",
    "        print(\"Downloaded \" + str(local))\n",
    "    return filename"
   ]
  },
  {
   "cell_type": "code",
   "execution_count": 2,
   "id": "081ec784-8dd4-473d-8de1-613e720f9aa9",
   "metadata": {},
   "outputs": [
    {
     "name": "stdout",
     "output_type": "stream",
     "text": [
      "Downloaded pg43.txt\n"
     ]
    }
   ],
   "source": [
    "download('https://www.gutenberg.org/cache/epub/43/pg43.txt');"
   ]
  },
  {
   "cell_type": "code",
   "execution_count": 17,
   "id": "29054c1c-e442-4b26-b262-baf588ef51be",
   "metadata": {},
   "outputs": [],
   "source": [
    "nomearquivo = 'pg43.txt'"
   ]
  },
  {
   "cell_type": "code",
   "execution_count": 4,
   "id": "44f517a7-c4c8-4c1b-9a33-426698c32218",
   "metadata": {},
   "outputs": [
    {
     "data": {
      "text/plain": [
       "6711"
      ]
     },
     "execution_count": 4,
     "metadata": {},
     "output_type": "execute_result"
    }
   ],
   "source": [
    "palavras_unicas = {}\n",
    "for linha in open(nomearquivo):\n",
    "    frase = linha.split()\n",
    "    for palavra in frase:\n",
    "        palavras_unicas[palavra] = 1\n",
    "\n",
    "len(palavras_unicas)"
   ]
  },
  {
   "cell_type": "code",
   "execution_count": 7,
   "id": "0cb9414c-fb6b-48ad-8850-eb08b42085e8",
   "metadata": {},
   "outputs": [
    {
     "data": {
      "text/plain": [
       "['(www.gutenberg.org),',\n",
       " '(trademark/copyright)',\n",
       " 'www.gutenberg.org/contact',\n",
       " 'www.gutenberg.org/donate.',\n",
       " 'www.gutenberg.org/license.']"
      ]
     },
     "execution_count": 7,
     "metadata": {},
     "output_type": "execute_result"
    }
   ],
   "source": [
    "sorted(palavras_unicas, key=len)[-5:]"
   ]
  },
  {
   "cell_type": "code",
   "execution_count": 1,
   "id": "f61c2b7a-ed22-4797-8020-29fc9ce2a86a",
   "metadata": {},
   "outputs": [],
   "source": [
    "def is_special_line(line):\n",
    "    return line.strip().startswith('*** ')"
   ]
  },
  {
   "cell_type": "code",
   "execution_count": 2,
   "id": "493242c6-2c2b-43de-b199-12334e0c6a84",
   "metadata": {},
   "outputs": [],
   "source": [
    "def clean_file(input_file, output_file):\n",
    "    reader = open(input_file, encoding='utf-8')\n",
    "    writer = open(output_file, 'w')\n",
    "\n",
    "    for line in reader:\n",
    "        if is_special_line(line):\n",
    "            break\n",
    "\n",
    "    for line in reader:\n",
    "        if is_special_line(line):\n",
    "            break\n",
    "        writer.write(line)\n",
    "        \n",
    "    reader.close()\n",
    "    writer.close()"
   ]
  },
  {
   "cell_type": "code",
   "execution_count": 3,
   "id": "e1913ca2-f71a-45e7-a459-6e8a19812a95",
   "metadata": {},
   "outputs": [],
   "source": [
    "nomearquivo =  'dr_jekyll.txt'"
   ]
  },
  {
   "cell_type": "code",
   "execution_count": 4,
   "id": "99734b23-8f21-4efa-b8c3-a88e1dceea50",
   "metadata": {},
   "outputs": [],
   "source": [
    "clean_file('pg43.txt', nomearquivo)"
   ]
  },
  {
   "cell_type": "code",
   "execution_count": 5,
   "id": "d38ec8b4-8075-4da2-b9ce-66d56e027ccf",
   "metadata": {},
   "outputs": [
    {
     "data": {
      "text/plain": [
       "6042"
      ]
     },
     "execution_count": 5,
     "metadata": {},
     "output_type": "execute_result"
    }
   ],
   "source": [
    "palavras_unicas = {}\n",
    "for linha in open(nomearquivo):\n",
    "    frase = linha.split()\n",
    "    for palavra in frase:\n",
    "        palavras_unicas[palavra] = 1\n",
    "\n",
    "len(palavras_unicas)"
   ]
  },
  {
   "cell_type": "code",
   "execution_count": 6,
   "id": "bcc12c54-b425-40bb-9a12-23b1eb0466da",
   "metadata": {},
   "outputs": [
    {
     "data": {
      "text/plain": [
       "['chocolate-coloured',\n",
       " 'superiors—behold!”',\n",
       " 'coolness—frightened',\n",
       " 'gentleman—something',\n",
       " 'pocket-handkerchief.']"
      ]
     },
     "execution_count": 6,
     "metadata": {},
     "output_type": "execute_result"
    }
   ],
   "source": [
    "sorted(palavras_unicas, key=len)[-5:]"
   ]
  },
  {
   "cell_type": "code",
   "execution_count": 8,
   "id": "5e1fb006-92db-49f6-a6db-ffa7d10020c3",
   "metadata": {},
   "outputs": [
    {
     "data": {
      "text/plain": [
       "['a',\n",
       " 'I',\n",
       " 'O',\n",
       " 'A',\n",
       " 'E',\n",
       " 'Of',\n",
       " 'by',\n",
       " 'OF',\n",
       " 'AT',\n",
       " 'of',\n",
       " 'in',\n",
       " 'At',\n",
       " 'to',\n",
       " 'He',\n",
       " 'he',\n",
       " 'an',\n",
       " 'at',\n",
       " '“I',\n",
       " 'my',\n",
       " 'go']"
      ]
     },
     "execution_count": 8,
     "metadata": {},
     "output_type": "execute_result"
    }
   ],
   "source": [
    "sorted(palavras_unicas, key=len)[:20]"
   ]
  },
  {
   "cell_type": "code",
   "execution_count": 9,
   "id": "c00b4b67-1410-4578-ba9a-8ca9b80ebf1f",
   "metadata": {},
   "outputs": [],
   "source": [
    "def remove_hifen(linha):\n",
    "    return linha.replace(\"—\",' ').split()"
   ]
  },
  {
   "cell_type": "code",
   "execution_count": 10,
   "id": "b216899a-d38e-41f1-8943-a2c56ef65e2f",
   "metadata": {},
   "outputs": [
    {
     "data": {
      "text/plain": [
       "['coolness', 'frightened']"
      ]
     },
     "execution_count": 10,
     "metadata": {},
     "output_type": "execute_result"
    }
   ],
   "source": [
    "remove_hifen('coolness—frightened')"
   ]
  },
  {
   "cell_type": "code",
   "execution_count": 12,
   "id": "bf7aa011-4f4d-4bb6-8da1-bde2c68da753",
   "metadata": {},
   "outputs": [],
   "source": [
    "import unicodedata as un"
   ]
  },
  {
   "cell_type": "code",
   "execution_count": 13,
   "id": "bea606c5-df3e-4b6a-b760-a3a320402e1e",
   "metadata": {},
   "outputs": [
    {
     "data": {
      "text/plain": [
       "'Lu'"
      ]
     },
     "execution_count": 13,
     "metadata": {},
     "output_type": "execute_result"
    }
   ],
   "source": [
    "un.category('A')"
   ]
  },
  {
   "cell_type": "code",
   "execution_count": 14,
   "id": "e1ad305b-5922-4560-94ee-702020c1a190",
   "metadata": {},
   "outputs": [
    {
     "data": {
      "text/plain": [
       "'Ll'"
      ]
     },
     "execution_count": 14,
     "metadata": {},
     "output_type": "execute_result"
    }
   ],
   "source": [
    "un.category('b')"
   ]
  },
  {
   "cell_type": "code",
   "execution_count": 17,
   "id": "484a19f3-fd71-4550-963b-73ec99972b06",
   "metadata": {},
   "outputs": [
    {
     "data": {
      "text/plain": [
       "'Nd'"
      ]
     },
     "execution_count": 17,
     "metadata": {},
     "output_type": "execute_result"
    }
   ],
   "source": [
    "un.category('5')"
   ]
  },
  {
   "cell_type": "code",
   "execution_count": 19,
   "id": "101b5dbd-131a-48e3-85c5-85bc1ade3781",
   "metadata": {},
   "outputs": [
    {
     "data": {
      "text/plain": [
       "'Po'"
      ]
     },
     "execution_count": 19,
     "metadata": {},
     "output_type": "execute_result"
    }
   ],
   "source": [
    "un.category('!')"
   ]
  },
  {
   "cell_type": "code",
   "execution_count": 20,
   "id": "4efb8ee9-ceab-46d3-875a-4fb068a02f98",
   "metadata": {},
   "outputs": [
    {
     "data": {
      "text/plain": [
       "'Po'"
      ]
     },
     "execution_count": 20,
     "metadata": {},
     "output_type": "execute_result"
    }
   ],
   "source": [
    "un.category('.')"
   ]
  },
  {
   "cell_type": "code",
   "execution_count": 21,
   "id": "6f93caf9-2b20-40e9-9466-aa66478172e8",
   "metadata": {},
   "outputs": [],
   "source": [
    "pontuacoes = {}\n",
    "for linha in open(nomearquivo):\n",
    "    for caracter in linha:\n",
    "        categoria = un.category(caracter)\n",
    "        if categoria.startswith('P'):\n",
    "            pontuacoes[caracter]=1"
   ]
  },
  {
   "cell_type": "code",
   "execution_count": 23,
   "id": "c4d76f9e-b574-463e-b41a-b765641d24d4",
   "metadata": {},
   "outputs": [
    {
     "data": {
      "text/plain": [
       "'.’;,-“”:?—‘!()_'"
      ]
     },
     "execution_count": 23,
     "metadata": {},
     "output_type": "execute_result"
    }
   ],
   "source": [
    "pontuacoes = ''.join(pontuacoes)\n",
    "pontuacoes"
   ]
  },
  {
   "cell_type": "code",
   "execution_count": 27,
   "id": "39d2fd55-015b-446c-9f18-1c463334373f",
   "metadata": {},
   "outputs": [
    {
     "data": {
      "text/plain": [
       "['1', '2', '3', '4', '5']"
      ]
     },
     "execution_count": 27,
     "metadata": {},
     "output_type": "execute_result"
    }
   ],
   "source": [
    "lista = ['1','2','3','4','5']\n",
    "lista"
   ]
  },
  {
   "cell_type": "code",
   "execution_count": 28,
   "id": "e7b2d2db-3dd2-46a2-b5df-1a2dcb1e7d58",
   "metadata": {},
   "outputs": [
    {
     "data": {
      "text/plain": [
       "'1-2-3-4-5'"
      ]
     },
     "execution_count": 28,
     "metadata": {},
     "output_type": "execute_result"
    }
   ],
   "source": [
    "'-'.join(lista)"
   ]
  },
  {
   "cell_type": "code",
   "execution_count": 29,
   "id": "cdb0af8a-5f20-474a-b988-497bf126262b",
   "metadata": {},
   "outputs": [],
   "source": [
    "def limpa_palavra(palavra):\n",
    "    return palavra.strip(pontuacoes).lower()"
   ]
  },
  {
   "cell_type": "code",
   "execution_count": 30,
   "id": "b94bdf3b-45f8-4522-ac47-7a5dc85af3f0",
   "metadata": {},
   "outputs": [
    {
     "data": {
      "text/plain": [
       "'olá'"
      ]
     },
     "execution_count": 30,
     "metadata": {},
     "output_type": "execute_result"
    }
   ],
   "source": [
    "limpa_palavra('Olá!')"
   ]
  },
  {
   "cell_type": "code",
   "execution_count": 33,
   "id": "be5bd734-0f0b-48fb-9f60-42dca169f8b5",
   "metadata": {},
   "outputs": [
    {
     "data": {
      "text/plain": [
       "4005"
      ]
     },
     "execution_count": 33,
     "metadata": {},
     "output_type": "execute_result"
    }
   ],
   "source": [
    "palavras_unicas2 = {}\n",
    "for linha in open(nomearquivo):\n",
    "    for palavra in remove_hifen(linha):\n",
    "        palavra = limpa_palavra(palavra)\n",
    "        palavras_unicas2[palavra] = 1\n",
    "\n",
    "len(palavras_unicas2)"
   ]
  },
  {
   "cell_type": "code",
   "execution_count": 34,
   "id": "aeebc312-767f-4457-acc8-43e2da427e88",
   "metadata": {},
   "outputs": [
    {
     "data": {
      "text/plain": [
       "['circumscription',\n",
       " 'unimpressionable',\n",
       " 'fellow-creatures',\n",
       " 'chocolate-coloured',\n",
       " 'pocket-handkerchief']"
      ]
     },
     "execution_count": 34,
     "metadata": {},
     "output_type": "execute_result"
    }
   ],
   "source": [
    "sorted(palavras_unicas2, key=len)[-5:]"
   ]
  },
  {
   "cell_type": "code",
   "execution_count": 35,
   "id": "220c31ed-635e-4bbc-99e2-ae946e827e32",
   "metadata": {},
   "outputs": [],
   "source": [
    "conta_palavras = {}\n",
    "for linha in open(nomearquivo):\n",
    "    for palavra in remove_hifen(linha):\n",
    "        palavra = limpa_palavra(palavra)\n",
    "        if palavra not in conta_palavras:\n",
    "            conta_palavras[palavra] = 1\n",
    "        else:\n",
    "            conta_palavras[palavra] += 1    "
   ]
  },
  {
   "cell_type": "code",
   "execution_count": 40,
   "id": "b39d461d-a64b-4eb0-b7c6-ca72009a0ef2",
   "metadata": {},
   "outputs": [],
   "source": [
    "def segundo_elemento(tupla):\n",
    "    return tupla[1]"
   ]
  },
  {
   "cell_type": "code",
   "execution_count": 41,
   "id": "b52360e9-3cd6-4158-b5c5-210dfd2b992b",
   "metadata": {},
   "outputs": [],
   "source": [
    "itens = sorted(conta_palavras.items(), key=segundo_elemento, reverse=True)"
   ]
  },
  {
   "cell_type": "code",
   "execution_count": 42,
   "id": "39b789ba-9fe5-4b09-bc0a-94c18f12526e",
   "metadata": {},
   "outputs": [
    {
     "data": {
      "text/plain": [
       "[('the', 1614), ('and', 972), ('of', 941), ('to', 640), ('i', 640)]"
      ]
     },
     "execution_count": 42,
     "metadata": {},
     "output_type": "execute_result"
    }
   ],
   "source": [
    "itens[:5]"
   ]
  },
  {
   "cell_type": "code",
   "execution_count": 43,
   "id": "ccd64ba3-0592-4f8d-b748-4601d6175eb9",
   "metadata": {},
   "outputs": [],
   "source": [
    "def print_maiores(dicionario, num=5):\n",
    "    itens = sorted(dicionario.items(), key=segundo_elemento, reverse=True)\n",
    "\n",
    "    for chave, valor in itens[:num]:\n",
    "        print(chave, valor, sep='\\t')"
   ]
  },
  {
   "cell_type": "code",
   "execution_count": 44,
   "id": "f2848487-7f9a-4878-b25a-f8650639fa91",
   "metadata": {},
   "outputs": [
    {
     "name": "stdout",
     "output_type": "stream",
     "text": [
      "the\t1614\n",
      "and\t972\n",
      "of\t941\n",
      "to\t640\n",
      "i\t640\n"
     ]
    }
   ],
   "source": [
    "print_maiores(conta_palavras)"
   ]
  },
  {
   "cell_type": "code",
   "execution_count": 45,
   "id": "25530d26-d2b7-4890-88a3-5f6ea4a92b4b",
   "metadata": {},
   "outputs": [],
   "source": [
    "import random"
   ]
  },
  {
   "cell_type": "code",
   "execution_count": 46,
   "id": "83070319-53fc-4d37-85da-a1b2d114d70b",
   "metadata": {},
   "outputs": [],
   "source": [
    "lista = [1, 10, 40, 9]"
   ]
  },
  {
   "cell_type": "code",
   "execution_count": 54,
   "id": "93b27b0b-5de8-464c-8867-0b6dcbafa48d",
   "metadata": {},
   "outputs": [
    {
     "data": {
      "text/plain": [
       "9"
      ]
     },
     "execution_count": 54,
     "metadata": {},
     "output_type": "execute_result"
    }
   ],
   "source": [
    "random.choice(lista)"
   ]
  },
  {
   "cell_type": "code",
   "execution_count": 66,
   "id": "3fb6ee78-8bd9-48d6-b702-06a0571400bb",
   "metadata": {},
   "outputs": [
    {
     "data": {
      "text/plain": [
       "4005"
      ]
     },
     "execution_count": 66,
     "metadata": {},
     "output_type": "execute_result"
    }
   ],
   "source": [
    "lista_palavras = list(conta_palavras)\n",
    "len(lista_palavras)"
   ]
  },
  {
   "cell_type": "code",
   "execution_count": 70,
   "id": "d5e93ef5-008a-4d43-b8f6-99ca3c707c81",
   "metadata": {},
   "outputs": [
    {
     "data": {
      "text/plain": [
       "'rust'"
      ]
     },
     "execution_count": 70,
     "metadata": {},
     "output_type": "execute_result"
    }
   ],
   "source": [
    "random.choice(lista_palavras)"
   ]
  },
  {
   "cell_type": "code",
   "execution_count": 81,
   "id": "c006004d-789c-40f4-80ff-7437f9d2502f",
   "metadata": {},
   "outputs": [
    {
     "name": "stdout",
     "output_type": "stream",
     "text": [
      "similar sinister wide napery drunkard journey "
     ]
    }
   ],
   "source": [
    "for i in range(6):\n",
    "    print(random.choice(lista_palavras),end=' ')"
   ]
  },
  {
   "cell_type": "code",
   "execution_count": 83,
   "id": "cfdcb5e3-d669-4c0a-8ea6-41213a017f36",
   "metadata": {},
   "outputs": [],
   "source": [
    "pesos = conta_palavras.values()"
   ]
  },
  {
   "cell_type": "code",
   "execution_count": 89,
   "id": "d636dbd9-e7b3-4ed7-bdf1-0202e363421d",
   "metadata": {},
   "outputs": [
    {
     "data": {
      "text/plain": [
       "['foot', 'of', 'of', 'it', 'appearance', 'that']"
      ]
     },
     "execution_count": 89,
     "metadata": {},
     "output_type": "execute_result"
    }
   ],
   "source": [
    "frase_aleatoria = random.choices(lista_palavras, weights=pesos, k=6)\n",
    "frase_aleatoria"
   ]
  },
  {
   "cell_type": "markdown",
   "id": "be7e48b4-0485-4fd1-84dd-eeb2ad24744f",
   "metadata": {},
   "source": [
    "# Bigramas"
   ]
  },
  {
   "cell_type": "code",
   "execution_count": 90,
   "id": "ec8ed137-de1a-47cc-96a0-f9412048b566",
   "metadata": {},
   "outputs": [],
   "source": [
    "bigrama_contagem = {}"
   ]
  },
  {
   "cell_type": "code",
   "execution_count": 91,
   "id": "970b4b53-98ff-442f-9405-0745dec565c6",
   "metadata": {},
   "outputs": [],
   "source": [
    "def conta_bigrama(bigrama):\n",
    "    chave = tuple(bigrama)\n",
    "    if chave not in bigrama_contagem:\n",
    "        bigrama_contagem[chave]=1\n",
    "    else:\n",
    "        bigrama_contagem[chave]+=1"
   ]
  },
  {
   "cell_type": "code",
   "execution_count": 92,
   "id": "a716bf18-7589-431c-8164-16555ddbb742",
   "metadata": {},
   "outputs": [],
   "source": [
    "janela = []"
   ]
  },
  {
   "cell_type": "code",
   "execution_count": 93,
   "id": "61411893-f6fb-4c6c-9ed8-bf5e9b528537",
   "metadata": {},
   "outputs": [],
   "source": [
    "def processa_palavra(palavra):\n",
    "    janela.append(palavra)\n",
    "    if len(janela) == 2:\n",
    "        conta_bigrama(janela)\n",
    "        janela.pop(0)"
   ]
  },
  {
   "cell_type": "code",
   "execution_count": 96,
   "id": "8f5d74be-2c43-40f7-ab9e-11a3f3868445",
   "metadata": {},
   "outputs": [
    {
     "data": {
      "text/plain": [
       "['a']"
      ]
     },
     "execution_count": 96,
     "metadata": {},
     "output_type": "execute_result"
    }
   ],
   "source": [
    "lista =  ['a']\n",
    "lista"
   ]
  },
  {
   "cell_type": "code",
   "execution_count": 98,
   "id": "63e7c255-16a3-4301-846a-09209561a24e",
   "metadata": {},
   "outputs": [],
   "source": [
    "lista.append('b')"
   ]
  },
  {
   "cell_type": "code",
   "execution_count": 99,
   "id": "8ce271c6-6e30-4225-ad7c-4b453263666f",
   "metadata": {},
   "outputs": [
    {
     "data": {
      "text/plain": [
       "['a', 'b']"
      ]
     },
     "execution_count": 99,
     "metadata": {},
     "output_type": "execute_result"
    }
   ],
   "source": [
    "lista"
   ]
  },
  {
   "cell_type": "code",
   "execution_count": 100,
   "id": "338b7328-67ba-4374-97e7-a765960f0377",
   "metadata": {},
   "outputs": [
    {
     "data": {
      "text/plain": [
       "['b']"
      ]
     },
     "execution_count": 100,
     "metadata": {},
     "output_type": "execute_result"
    }
   ],
   "source": [
    "lista.pop(0)\n",
    "lista"
   ]
  },
  {
   "cell_type": "code",
   "execution_count": 101,
   "id": "5b659d6a-a4c4-4914-9396-042704b9fdbd",
   "metadata": {},
   "outputs": [],
   "source": [
    "lista.append('c')"
   ]
  },
  {
   "cell_type": "code",
   "execution_count": 102,
   "id": "ec9baf12-4909-4dc8-9083-bd9f7ab69077",
   "metadata": {},
   "outputs": [
    {
     "data": {
      "text/plain": [
       "['b', 'c']"
      ]
     },
     "execution_count": 102,
     "metadata": {},
     "output_type": "execute_result"
    }
   ],
   "source": [
    "lista"
   ]
  },
  {
   "cell_type": "code",
   "execution_count": 103,
   "id": "eea04473-45aa-454a-b7c6-53d1211a762a",
   "metadata": {},
   "outputs": [
    {
     "data": {
      "text/plain": [
       "['c']"
      ]
     },
     "execution_count": 103,
     "metadata": {},
     "output_type": "execute_result"
    }
   ],
   "source": [
    "lista.pop(0)\n",
    "lista"
   ]
  },
  {
   "cell_type": "code",
   "execution_count": 104,
   "id": "17eeba59-e10a-4c9b-9c22-606ba881b61d",
   "metadata": {},
   "outputs": [
    {
     "data": {
      "text/plain": [
       "['c', 'd']"
      ]
     },
     "execution_count": 104,
     "metadata": {},
     "output_type": "execute_result"
    }
   ],
   "source": [
    "lista.append('d')\n",
    "lista"
   ]
  },
  {
   "cell_type": "code",
   "execution_count": 105,
   "id": "632161ef-c905-44df-ba0b-8480868586ed",
   "metadata": {},
   "outputs": [],
   "source": [
    "for linha in open(nomearquivo):\n",
    "    for palavra in remove_hifen(linha):\n",
    "        palavra = limpa_palavra(palavra)\n",
    "        processa_palavra(palavra)"
   ]
  },
  {
   "cell_type": "code",
   "execution_count": 106,
   "id": "2cf4ca1f-f81a-4ef7-8715-1acfe3aeafca",
   "metadata": {},
   "outputs": [
    {
     "name": "stdout",
     "output_type": "stream",
     "text": [
      "('of', 'the')\t178\n",
      "('in', 'the')\t139\n",
      "('it', 'was')\t94\n",
      "('and', 'the')\t80\n",
      "('to', 'the')\t73\n"
     ]
    }
   ],
   "source": [
    "print_maiores(bigrama_contagem)"
   ]
  },
  {
   "cell_type": "code",
   "execution_count": 120,
   "id": "c2cc076d-a4d8-4ce4-b094-8683a6d0723f",
   "metadata": {},
   "outputs": [
    {
     "name": "stdout",
     "output_type": "stream",
     "text": [
      "and nervous his ape-like yet when idea of asking the as you "
     ]
    }
   ],
   "source": [
    "pesos2 = bigrama_contagem.values()\n",
    "bigramas = list(bigrama_contagem)\n",
    "frase_aleatoria2 = random.choices(bigramas,weights=pesos2,k=6)\n",
    "for par in frase_aleatoria2:\n",
    "    print(' '.join(par), end=' ')"
   ]
  },
  {
   "cell_type": "code",
   "execution_count": 132,
   "id": "8788f8e9-cbcf-4583-b3c4-87c1783df253",
   "metadata": {},
   "outputs": [],
   "source": [
    "sucessor = {}"
   ]
  },
  {
   "cell_type": "code",
   "execution_count": 124,
   "id": "a3f384b0-afd6-4ad1-949e-0e2d94ca9582",
   "metadata": {},
   "outputs": [],
   "source": [
    "def adiciona_bigrama(bigrama):\n",
    "    primeiro, segundo = bigrama\n",
    "    if primeiro not in sucessor:\n",
    "        sucessor[primeiro]=[segundo]\n",
    "    else:\n",
    "        sucessor[primeiro].append(segundo)"
   ]
  },
  {
   "cell_type": "code",
   "execution_count": 123,
   "id": "ed966758-2661-41ad-8a98-aa22a63f19d3",
   "metadata": {},
   "outputs": [],
   "source": [
    "janela2 = []"
   ]
  },
  {
   "cell_type": "code",
   "execution_count": 128,
   "id": "3d0e694d-132b-45e2-bbcd-7d4b40d5359f",
   "metadata": {},
   "outputs": [],
   "source": [
    "def processa_palavra2(palavra):\n",
    "    janela2.append(palavra)\n",
    "    if len(janela2) == 2:\n",
    "        adiciona_bigrama(janela2)\n",
    "        janela2.pop(0)"
   ]
  },
  {
   "cell_type": "code",
   "execution_count": 131,
   "id": "d4f62f7c-1327-4e3e-b4c4-a2ffcf47679d",
   "metadata": {},
   "outputs": [],
   "source": [
    "song = \"\"\"\n",
    "Half a bee, philosophically,\n",
    "Half a bee, philosophically,\n",
    "Must, ipso facto, half not be.\n",
    "But half the bee has got to be\n",
    "Vis a vis, its entity. D'you see?\n",
    "\"\"\""
   ]
  },
  {
   "cell_type": "code",
   "execution_count": 133,
   "id": "121209e6-2128-4f06-af88-fcf83cf884dc",
   "metadata": {},
   "outputs": [],
   "source": [
    "for palavra in song.split():\n",
    "    palavra = limpa_palavra(palavra)\n",
    "    processa_palavra2(palavra)"
   ]
  },
  {
   "cell_type": "code",
   "execution_count": 134,
   "id": "cdd5911d-584b-4c9d-af7d-c1306657d2d6",
   "metadata": {},
   "outputs": [
    {
     "data": {
      "text/plain": [
       "{'see': ['half'],\n",
       " 'half': ['a', 'a', 'not', 'the'],\n",
       " 'a': ['bee', 'bee', 'vis'],\n",
       " 'bee': ['philosophically', 'philosophically', 'has'],\n",
       " 'philosophically': ['half', 'must'],\n",
       " 'must': ['ipso'],\n",
       " 'ipso': ['facto'],\n",
       " 'facto': ['half'],\n",
       " 'not': ['be'],\n",
       " 'be': ['but', 'vis'],\n",
       " 'but': ['half'],\n",
       " 'the': ['bee'],\n",
       " 'has': ['got'],\n",
       " 'got': ['to'],\n",
       " 'to': ['be'],\n",
       " 'vis': ['a', 'its'],\n",
       " 'its': ['entity'],\n",
       " 'entity': [\"d'you\"],\n",
       " \"d'you\": ['see']}"
      ]
     },
     "execution_count": 134,
     "metadata": {},
     "output_type": "execute_result"
    }
   ],
   "source": [
    "sucessor"
   ]
  },
  {
   "cell_type": "code",
   "execution_count": 135,
   "id": "a9726e10-ca76-4d39-8793-f10946b3b724",
   "metadata": {},
   "outputs": [],
   "source": [
    "sucessor = {}\n",
    "janela2 = []\n",
    "\n",
    "for linha in open(nomearquivo):\n",
    "    for palavra in remove_hifen(linha):\n",
    "        palavra = limpa_palavra(palavra)\n",
    "        processa_palavra2(palavra)"
   ]
  },
  {
   "cell_type": "code",
   "execution_count": 137,
   "id": "34d97518-915f-49b8-bf30-5d3b68c43e04",
   "metadata": {},
   "outputs": [
    {
     "data": {
      "text/plain": [
       "['east', 'in', 'to', 'to', 'up', 'to', 'of']"
      ]
     },
     "execution_count": 137,
     "metadata": {},
     "output_type": "execute_result"
    }
   ],
   "source": [
    "sucessor['going']"
   ]
  },
  {
   "cell_type": "code",
   "execution_count": 138,
   "id": "5e63ae7f-b86f-4595-8960-8b227aebfe0d",
   "metadata": {},
   "outputs": [
    {
     "data": {
      "text/plain": [
       "['i', 'a', 'it', 'the', 'we', 'they', 'i']"
      ]
     },
     "execution_count": 138,
     "metadata": {},
     "output_type": "execute_result"
    }
   ],
   "source": [
    "palavra = 'although'\n",
    "proximas = sucessor[palavra]\n",
    "proximas"
   ]
  },
  {
   "cell_type": "code",
   "execution_count": 158,
   "id": "d9563852-dabf-4450-87f8-e149296d5c19",
   "metadata": {},
   "outputs": [
    {
     "name": "stdout",
     "output_type": "stream",
     "text": [
      "faced me is filled with a connoisseur and neither had no sooner "
     ]
    }
   ],
   "source": [
    "for i in range(random.choice(range(5,16))):\n",
    "    proximas = sucessor[palavra]\n",
    "    palavra = random.choice(proximas)\n",
    "    print(palavra, end=' ')"
   ]
  }
 ],
 "metadata": {
  "kernelspec": {
   "display_name": "anaconda-2024.02-py310",
   "language": "python",
   "name": "conda-env-anaconda-2024.02-py310-py"
  },
  "language_info": {
   "codemirror_mode": {
    "name": "ipython",
    "version": 3
   },
   "file_extension": ".py",
   "mimetype": "text/x-python",
   "name": "python",
   "nbconvert_exporter": "python",
   "pygments_lexer": "ipython3",
   "version": "3.10.14"
  }
 },
 "nbformat": 4,
 "nbformat_minor": 5
}
