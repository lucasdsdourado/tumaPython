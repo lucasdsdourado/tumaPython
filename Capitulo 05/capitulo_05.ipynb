{
 "cells": [
  {
   "cell_type": "markdown",
   "id": "30e2e863-195c-405f-bd4d-263965bdcb3c",
   "metadata": {},
   "source": [
    "# Expressões Booleanas"
   ]
  },
  {
   "cell_type": "code",
   "execution_count": 1,
   "id": "38209d46-b7d2-4d78-9e11-800e0b0e6140",
   "metadata": {},
   "outputs": [
    {
     "data": {
      "text/plain": [
       "True"
      ]
     },
     "execution_count": 1,
     "metadata": {},
     "output_type": "execute_result"
    }
   ],
   "source": [
    "5 == 5"
   ]
  },
  {
   "cell_type": "code",
   "execution_count": 2,
   "id": "b4b710a6-1b5e-43d6-8864-2a2ff9a41ae3",
   "metadata": {},
   "outputs": [
    {
     "data": {
      "text/plain": [
       "False"
      ]
     },
     "execution_count": 2,
     "metadata": {},
     "output_type": "execute_result"
    }
   ],
   "source": [
    "10  ==  9"
   ]
  },
  {
   "cell_type": "code",
   "execution_count": 3,
   "id": "cb34397e-83ac-494f-9fe4-0f2597507df6",
   "metadata": {},
   "outputs": [],
   "source": [
    "x = 10\n",
    "y = 20"
   ]
  },
  {
   "cell_type": "code",
   "execution_count": 4,
   "id": "4788309f-1268-4bab-a8a7-2b19ad680174",
   "metadata": {},
   "outputs": [
    {
     "data": {
      "text/plain": [
       "False"
      ]
     },
     "execution_count": 4,
     "metadata": {},
     "output_type": "execute_result"
    }
   ],
   "source": [
    "x == y"
   ]
  },
  {
   "cell_type": "code",
   "execution_count": 5,
   "id": "b4f65c16-3185-4eed-a9b3-60b88ac6283d",
   "metadata": {},
   "outputs": [
    {
     "data": {
      "text/plain": [
       "bool"
      ]
     },
     "execution_count": 5,
     "metadata": {},
     "output_type": "execute_result"
    }
   ],
   "source": [
    "type(False)"
   ]
  },
  {
   "cell_type": "code",
   "execution_count": 6,
   "id": "28296a2b-479e-43b7-93a7-43263f50fdf4",
   "metadata": {},
   "outputs": [
    {
     "data": {
      "text/plain": [
       "bool"
      ]
     },
     "execution_count": 6,
     "metadata": {},
     "output_type": "execute_result"
    }
   ],
   "source": [
    "type(True)"
   ]
  },
  {
   "cell_type": "code",
   "execution_count": 10,
   "id": "96b24973-4b99-4615-95c4-23e6e73cd08e",
   "metadata": {},
   "outputs": [
    {
     "name": "stdout",
     "output_type": "stream",
     "text": [
      "x: 10\n",
      "y: 20\n"
     ]
    }
   ],
   "source": [
    "print(\"x:\",x)\n",
    "print(\"y:\",y)"
   ]
  },
  {
   "cell_type": "code",
   "execution_count": 11,
   "id": "85e517c2-8490-478d-88cd-44dc5365f0ae",
   "metadata": {},
   "outputs": [
    {
     "data": {
      "text/plain": [
       "True"
      ]
     },
     "execution_count": 11,
     "metadata": {},
     "output_type": "execute_result"
    }
   ],
   "source": [
    "# é diferente?\n",
    "x != y"
   ]
  },
  {
   "cell_type": "code",
   "execution_count": 12,
   "id": "1e374a05-afeb-46d9-afb8-83f14683d745",
   "metadata": {},
   "outputs": [
    {
     "data": {
      "text/plain": [
       "False"
      ]
     },
     "execution_count": 12,
     "metadata": {},
     "output_type": "execute_result"
    }
   ],
   "source": [
    "# é maior?\n",
    "x > y"
   ]
  },
  {
   "cell_type": "code",
   "execution_count": 13,
   "id": "3c335f90-82a9-44e9-988c-b2fe17027b1c",
   "metadata": {},
   "outputs": [
    {
     "data": {
      "text/plain": [
       "True"
      ]
     },
     "execution_count": 13,
     "metadata": {},
     "output_type": "execute_result"
    }
   ],
   "source": [
    "# é menor?\n",
    "x < y"
   ]
  },
  {
   "cell_type": "code",
   "execution_count": 14,
   "id": "dd751251-152c-4282-9078-20c445e608c9",
   "metadata": {},
   "outputs": [
    {
     "data": {
      "text/plain": [
       "False"
      ]
     },
     "execution_count": 14,
     "metadata": {},
     "output_type": "execute_result"
    }
   ],
   "source": [
    "# é maior ou igual?\n",
    "x >= y"
   ]
  },
  {
   "cell_type": "code",
   "execution_count": 15,
   "id": "54593789-ff2d-448c-9d09-b44e597e2f7a",
   "metadata": {},
   "outputs": [
    {
     "data": {
      "text/plain": [
       "True"
      ]
     },
     "execution_count": 15,
     "metadata": {},
     "output_type": "execute_result"
    }
   ],
   "source": [
    "# é menor ou igual?\n",
    "x <= y"
   ]
  },
  {
   "cell_type": "code",
   "execution_count": 16,
   "id": "4cd68259-e75f-4f2c-9f42-afa1114c0c61",
   "metadata": {},
   "outputs": [
    {
     "data": {
      "text/plain": [
       "False"
      ]
     },
     "execution_count": 16,
     "metadata": {},
     "output_type": "execute_result"
    }
   ],
   "source": [
    "x > 0 and x < 10"
   ]
  },
  {
   "cell_type": "code",
   "execution_count": 17,
   "id": "8b615a89-9e14-4e56-84fc-4445bc366924",
   "metadata": {},
   "outputs": [
    {
     "data": {
      "text/plain": [
       "True"
      ]
     },
     "execution_count": 17,
     "metadata": {},
     "output_type": "execute_result"
    }
   ],
   "source": [
    "x > 0 or x < 10"
   ]
  },
  {
   "cell_type": "code",
   "execution_count": 18,
   "id": "90ffe87e-c125-4e51-b2c9-2e5bad336642",
   "metadata": {},
   "outputs": [
    {
     "data": {
      "text/plain": [
       "False"
      ]
     },
     "execution_count": 18,
     "metadata": {},
     "output_type": "execute_result"
    }
   ],
   "source": [
    "x > y"
   ]
  },
  {
   "cell_type": "code",
   "execution_count": 19,
   "id": "c6ff4d14-9e72-4d8f-a0f7-030a86f92a59",
   "metadata": {},
   "outputs": [
    {
     "data": {
      "text/plain": [
       "True"
      ]
     },
     "execution_count": 19,
     "metadata": {},
     "output_type": "execute_result"
    }
   ],
   "source": [
    "not x > y"
   ]
  },
  {
   "cell_type": "code",
   "execution_count": 24,
   "id": "b7945f69-ef24-4e20-8281-84887187193f",
   "metadata": {},
   "outputs": [
    {
     "data": {
      "text/plain": [
       "True"
      ]
     },
     "execution_count": 24,
     "metadata": {},
     "output_type": "execute_result"
    }
   ],
   "source": [
    "10 == 10 and 9 == 9"
   ]
  },
  {
   "cell_type": "code",
   "execution_count": 30,
   "id": "b24e3e36-2e09-4ca7-bf68-1b28b6fe7dea",
   "metadata": {},
   "outputs": [
    {
     "data": {
      "text/plain": [
       "True"
      ]
     },
     "execution_count": 30,
     "metadata": {},
     "output_type": "execute_result"
    }
   ],
   "source": [
    "10 and x  == 10"
   ]
  },
  {
   "cell_type": "markdown",
   "id": "54958991-9ea9-409d-8570-63f51030e322",
   "metadata": {},
   "source": [
    "# Instrução if, elif, else"
   ]
  },
  {
   "cell_type": "code",
   "execution_count": 35,
   "id": "d2996f2e-4368-42b7-a7ef-8260897bf348",
   "metadata": {},
   "outputs": [],
   "source": [
    "meta = \"atingida\"\n",
    "atestados = 1\n",
    "\n",
    "if meta == \"atingida\" and atestados == 0:\n",
    "    print(\"Bônus liberado\")"
   ]
  },
  {
   "cell_type": "code",
   "execution_count": 31,
   "id": "ed3bb9ee-5015-4336-9b33-95441ba05c4e",
   "metadata": {},
   "outputs": [
    {
     "data": {
      "text/plain": [
       "10"
      ]
     },
     "execution_count": 31,
     "metadata": {},
     "output_type": "execute_result"
    }
   ],
   "source": [
    "x"
   ]
  },
  {
   "cell_type": "code",
   "execution_count": 33,
   "id": "9d80014b-e5c5-4ee6-a58d-f3d986bfc1fb",
   "metadata": {},
   "outputs": [
    {
     "name": "stdout",
     "output_type": "stream",
     "text": [
      "é número positivo\n"
     ]
    }
   ],
   "source": [
    "if x > 0:\n",
    "    print(\"é número positivo\")"
   ]
  },
  {
   "cell_type": "code",
   "execution_count": 43,
   "id": "e4261ded-e22a-4278-b580-e0dc4d5d9462",
   "metadata": {},
   "outputs": [
    {
     "name": "stdout",
     "output_type": "stream",
     "text": [
      "é número negativo\n"
     ]
    }
   ],
   "source": [
    "x = -2\n",
    "\n",
    "if x > 0:\n",
    "    print(\"é número positivo\")\n",
    "\n",
    "elif x < 0:\n",
    "    print(\"é número negativo\")\n",
    "    \n",
    "else:\n",
    "    print(\"é zero\")"
   ]
  },
  {
   "cell_type": "code",
   "execution_count": 47,
   "id": "47742704-c5c0-4725-8459-4d2568a8fae5",
   "metadata": {},
   "outputs": [
    {
     "name": "stdout",
     "output_type": "stream",
     "text": [
      "x é igual a y\n"
     ]
    }
   ],
   "source": [
    "# ESTRUTURA ENCADEADA\n",
    "x = 5\n",
    "y = 5\n",
    "\n",
    "if x > y:\n",
    "    print(\"x é maior que y\")\n",
    "\n",
    "elif x < y:\n",
    "    print(\"x é menor que y\")\n",
    "    \n",
    "else:\n",
    "    print(\"x é igual a y\")"
   ]
  },
  {
   "cell_type": "code",
   "execution_count": 51,
   "id": "58aa46d4-a194-4a46-a7bf-7ddb0147dcfa",
   "metadata": {},
   "outputs": [],
   "source": [
    "# ESTRUTURA ANINHADA\n",
    "forma_pagamento = \"Boleto\"\n",
    "cliente_novo = \"Sim\"\n",
    "\n",
    "if forma_pagamento == \"Pix\":\n",
    "    if cliente_novo==\"Sim\":\n",
    "        print(\"Desconto de 10% concedido\")\n",
    "        \n",
    "# não é aninhado:\n",
    "if forma_pagamento == \"Pix\" and cliente_novo==\"Sim\":\n",
    "    print(\"Desconto de 10% concedido\")"
   ]
  },
  {
   "cell_type": "markdown",
   "id": "c611e6bc-152e-4133-b65e-9de19a3aeb0f",
   "metadata": {},
   "source": [
    "# Recursão"
   ]
  },
  {
   "cell_type": "code",
   "execution_count": 52,
   "id": "59269d14-23a2-4d42-a3c9-0bb34f4c610e",
   "metadata": {},
   "outputs": [],
   "source": [
    "def contagem_regressiva(n):\n",
    "    if n <= 0:\n",
    "        print(\"Fim\")\n",
    "    else:\n",
    "        print(n)\n",
    "        contagem_regressiva(n-1)"
   ]
  },
  {
   "cell_type": "code",
   "execution_count": 53,
   "id": "e4420401-f738-4b9c-a16e-13f3e5cb95e3",
   "metadata": {},
   "outputs": [
    {
     "name": "stdout",
     "output_type": "stream",
     "text": [
      "5\n",
      "4\n",
      "3\n",
      "2\n",
      "1\n",
      "Fim\n"
     ]
    }
   ],
   "source": [
    "contagem_regressiva(5)"
   ]
  },
  {
   "cell_type": "code",
   "execution_count": 56,
   "id": "7aef6562-83ef-42d8-977b-45fc387c0579",
   "metadata": {},
   "outputs": [
    {
     "name": "stdout",
     "output_type": "stream",
     "text": [
      "zero\n",
      "sete\n",
      "quinze\n",
      "trinta e dois\n",
      "cento e um\n",
      "novecentos e noventa e nove\n",
      "mil duzentos e três\n",
      "quarenta e cinco mil\n"
     ]
    }
   ],
   "source": [
    "def numero_por_extenso(n):\n",
    "    unidades = [\"zero\", \"um\", \"dois\", \"três\", \"quatro\", \"cinco\", \"seis\", \"sete\", \"oito\", \"nove\"]\n",
    "    especiais = [\"dez\", \"onze\", \"doze\", \"treze\", \"quatorze\", \"quinze\", \"dezesseis\", \"dezessete\", \"dezoito\", \"dezenove\"]\n",
    "    dezenas = [\"\", \"\", \"vinte\", \"trinta\", \"quarenta\", \"cinquenta\", \"sessenta\", \"setenta\", \"oitenta\", \"noventa\"]\n",
    "    centenas = [\"\", \"cento\", \"duzentos\", \"trezentos\", \"quatrocentos\", \"quinhentos\", \"seiscentos\", \"setecentos\", \"oitocentos\", \"novecentos\"]\n",
    "\n",
    "    # Caso base\n",
    "    if n < 10:\n",
    "        return unidades[n]\n",
    "    elif n < 20:\n",
    "        return especiais[n - 10]\n",
    "    elif n < 100:\n",
    "        dezena, unidade = divmod(n, 10)\n",
    "        return dezenas[dezena] if unidade == 0 else f\"{dezenas[dezena]} e {numero_por_extenso(unidade)}\"\n",
    "    elif n == 100:\n",
    "        return \"cem\"\n",
    "    elif n < 1000:\n",
    "        centena, resto = divmod(n, 100)\n",
    "        return centenas[centena] if resto == 0 else f\"{centenas[centena]} e {numero_por_extenso(resto)}\"\n",
    "    elif n < 1000000:\n",
    "        milhar, resto = divmod(n, 1000)\n",
    "        if milhar == 1:\n",
    "            prefixo = \"mil\"\n",
    "        else:\n",
    "            prefixo = f\"{numero_por_extenso(milhar)} mil\"\n",
    "        return prefixo if resto == 0 else f\"{prefixo} {numero_por_extenso(resto)}\"\n",
    "    else:\n",
    "        return \"número muito grande\"\n",
    "\n",
    "\n",
    "# Exemplos\n",
    "print(numero_por_extenso(0))       # zero\n",
    "print(numero_por_extenso(7))       # sete\n",
    "print(numero_por_extenso(15))      # quinze\n",
    "print(numero_por_extenso(32))      # trinta e dois\n",
    "print(numero_por_extenso(101))     # cento e um\n",
    "print(numero_por_extenso(999))     # novecentos e noventa e nove\n",
    "print(numero_por_extenso(1203))    # mil duzentos e três\n",
    "print(numero_por_extenso(45000))   # quarenta e cinco mil\n"
   ]
  },
  {
   "cell_type": "markdown",
   "id": "485b9b50-0e9e-4896-9300-09354b336275",
   "metadata": {},
   "source": [
    "# Função input"
   ]
  },
  {
   "cell_type": "code",
   "execution_count": 57,
   "id": "bd63c8e2-b001-4b71-8e18-5cf826e3b8ca",
   "metadata": {},
   "outputs": [
    {
     "name": "stdin",
     "output_type": "stream",
     "text": [
      " Rodolfo\n"
     ]
    }
   ],
   "source": [
    "aluno = input()"
   ]
  },
  {
   "cell_type": "code",
   "execution_count": 58,
   "id": "665cd3dc-7663-4773-bc3b-e8e7566787fd",
   "metadata": {},
   "outputs": [
    {
     "data": {
      "text/plain": [
       "'Rodolfo'"
      ]
     },
     "execution_count": 58,
     "metadata": {},
     "output_type": "execute_result"
    }
   ],
   "source": [
    "aluno"
   ]
  },
  {
   "cell_type": "code",
   "execution_count": 70,
   "id": "f491bf96-5522-4be1-bfca-f62b5c6ed0d5",
   "metadata": {},
   "outputs": [
    {
     "name": "stdin",
     "output_type": "stream",
     "text": [
      "Digite o primeiro valor:  10\n",
      "Digite o segundo valor:  10\n"
     ]
    },
    {
     "name": "stdout",
     "output_type": "stream",
     "text": [
      "1-Soma\n",
      "2-Subtração\n",
      "3-Divisão\n",
      "4-Multiplicação\n"
     ]
    },
    {
     "name": "stdin",
     "output_type": "stream",
     "text": [
      "Escolha uma operação: 1\n"
     ]
    },
    {
     "name": "stdout",
     "output_type": "stream",
     "text": [
      "Resultado:\n",
      "20.0\n"
     ]
    }
   ],
   "source": [
    "valor1 = input(\"Digite o primeiro valor: \")\n",
    "try:\n",
    "    valor1  =  float(valor1)\n",
    "except:\n",
    "    valor1   = float(input(\"Digite um numero correto\"))\n",
    "\n",
    "valor2 = float(input(\"Digite o segundo valor: \"))\n",
    "print(\"1-Soma\")\n",
    "print(\"2-Subtração\")\n",
    "print(\"3-Divisão\")\n",
    "print(\"4-Multiplicação\")\n",
    "escolha = int(input(\"Escolha uma operação:\"))\n",
    "\n",
    "print(\"Resultado:\")\n",
    "if escolha ==  1:\n",
    "    print(valor1 + valor2)\n",
    "elif escolha == 2:\n",
    "    print(valor1 - valor2)\n",
    "elif escolha  ==  3:\n",
    "    if valor2 == 0:\n",
    "        print(0)\n",
    "    else:\n",
    "        print(valor1 / valor2)\n",
    "elif  escolha ==  4:\n",
    "   print(valor1 * valor2)\n",
    "else:\n",
    "    print(\"opção invalida\")"
   ]
  }
 ],
 "metadata": {
  "kernelspec": {
   "display_name": "anaconda-2024.02-py310",
   "language": "python",
   "name": "conda-env-anaconda-2024.02-py310-py"
  },
  "language_info": {
   "codemirror_mode": {
    "name": "ipython",
    "version": 3
   },
   "file_extension": ".py",
   "mimetype": "text/x-python",
   "name": "python",
   "nbconvert_exporter": "python",
   "pygments_lexer": "ipython3",
   "version": "3.10.14"
  }
 },
 "nbformat": 4,
 "nbformat_minor": 5
}
