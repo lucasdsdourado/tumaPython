{
 "cells": [
  {
   "cell_type": "markdown",
   "id": "c428e06a-6f34-4e14-b1d5-477e10520e48",
   "metadata": {},
   "source": [
    "# String é uma Sequência"
   ]
  },
  {
   "cell_type": "code",
   "execution_count": 1,
   "id": "466066ba-2166-42df-88ef-af281cb18b58",
   "metadata": {},
   "outputs": [],
   "source": [
    "fruta = \"banana\""
   ]
  },
  {
   "cell_type": "code",
   "execution_count": 2,
   "id": "2deba2c1-b60c-4986-be54-905fd21d5f2a",
   "metadata": {},
   "outputs": [
    {
     "data": {
      "text/plain": [
       "str"
      ]
     },
     "execution_count": 2,
     "metadata": {},
     "output_type": "execute_result"
    }
   ],
   "source": [
    "type(fruta)"
   ]
  },
  {
   "cell_type": "code",
   "execution_count": 4,
   "id": "71a89cae-5445-454c-bed7-d778d3682ec3",
   "metadata": {},
   "outputs": [
    {
     "data": {
      "text/plain": [
       "'n'"
      ]
     },
     "execution_count": 4,
     "metadata": {},
     "output_type": "execute_result"
    }
   ],
   "source": [
    "letra = fruta[2]\n",
    "letra"
   ]
  },
  {
   "cell_type": "code",
   "execution_count": 5,
   "id": "3b4fa18c-b102-4721-ab31-31b0791a8484",
   "metadata": {},
   "outputs": [],
   "source": [
    "numero  = 3"
   ]
  },
  {
   "cell_type": "code",
   "execution_count": 6,
   "id": "db48e0ae-c516-42f8-9f1f-285d290aa641",
   "metadata": {},
   "outputs": [
    {
     "data": {
      "text/plain": [
       "'a'"
      ]
     },
     "execution_count": 6,
     "metadata": {},
     "output_type": "execute_result"
    }
   ],
   "source": [
    "fruta[numero]"
   ]
  },
  {
   "cell_type": "code",
   "execution_count": 7,
   "id": "6190f0bb-664f-4c6d-a7ae-6d561526b1f7",
   "metadata": {},
   "outputs": [
    {
     "data": {
      "text/plain": [
       "'banana'"
      ]
     },
     "execution_count": 7,
     "metadata": {},
     "output_type": "execute_result"
    }
   ],
   "source": [
    "fruta"
   ]
  },
  {
   "cell_type": "code",
   "execution_count": 10,
   "id": "cfda0902-dbe7-4155-ac7a-195d9b2d59d7",
   "metadata": {},
   "outputs": [
    {
     "data": {
      "text/plain": [
       "'ban'"
      ]
     },
     "execution_count": 10,
     "metadata": {},
     "output_type": "execute_result"
    }
   ],
   "source": [
    "fruta[0:3]"
   ]
  },
  {
   "cell_type": "code",
   "execution_count": 11,
   "id": "e9c2a510-23c4-42d5-b260-c1098e56df4c",
   "metadata": {},
   "outputs": [
    {
     "data": {
      "text/plain": [
       "'ban'"
      ]
     },
     "execution_count": 11,
     "metadata": {},
     "output_type": "execute_result"
    }
   ],
   "source": [
    "fruta[:3]"
   ]
  },
  {
   "cell_type": "code",
   "execution_count": 12,
   "id": "df4111f3-6ee9-4893-8902-8d52a56d76f2",
   "metadata": {},
   "outputs": [
    {
     "data": {
      "text/plain": [
       "'ana'"
      ]
     },
     "execution_count": 12,
     "metadata": {},
     "output_type": "execute_result"
    }
   ],
   "source": [
    "fruta[3:6]"
   ]
  },
  {
   "cell_type": "code",
   "execution_count": 13,
   "id": "d5050091-780d-4896-9a52-51282879d13d",
   "metadata": {},
   "outputs": [
    {
     "data": {
      "text/plain": [
       "'ana'"
      ]
     },
     "execution_count": 13,
     "metadata": {},
     "output_type": "execute_result"
    }
   ],
   "source": [
    "fruta[3:]"
   ]
  },
  {
   "cell_type": "code",
   "execution_count": 16,
   "id": "c07e2153-522e-4d61-b7fd-8d975dc31af0",
   "metadata": {},
   "outputs": [
    {
     "data": {
      "text/plain": [
       "''"
      ]
     },
     "execution_count": 16,
     "metadata": {},
     "output_type": "execute_result"
    }
   ],
   "source": [
    "fruta[3:3]"
   ]
  },
  {
   "cell_type": "code",
   "execution_count": 17,
   "id": "9a5a73b0-7ae9-45c4-bf92-18372ee6d4f5",
   "metadata": {},
   "outputs": [
    {
     "data": {
      "text/plain": [
       "'banana'"
      ]
     },
     "execution_count": 17,
     "metadata": {},
     "output_type": "execute_result"
    }
   ],
   "source": [
    "fruta"
   ]
  },
  {
   "cell_type": "code",
   "execution_count": 18,
   "id": "d6c08ad3-e68e-405e-aa85-e92cfaa3d88c",
   "metadata": {},
   "outputs": [
    {
     "data": {
      "text/plain": [
       "'na'"
      ]
     },
     "execution_count": 18,
     "metadata": {},
     "output_type": "execute_result"
    }
   ],
   "source": [
    "fruta[2:4]"
   ]
  },
  {
   "cell_type": "code",
   "execution_count": 19,
   "id": "a2243d96-b53a-4b4a-ae89-33ad1580dde7",
   "metadata": {},
   "outputs": [
    {
     "ename": "TypeError",
     "evalue": "'str' object does not support item assignment",
     "output_type": "error",
     "traceback": [
      "\u001b[0;31m---------------------------------------------------------------------------\u001b[0m",
      "\u001b[0;31mTypeError\u001b[0m                                 Traceback (most recent call last)",
      "Cell \u001b[0;32mIn[19], line 1\u001b[0m\n\u001b[0;32m----> 1\u001b[0m fruta[\u001b[38;5;241m2\u001b[39m:\u001b[38;5;241m4\u001b[39m] \u001b[38;5;241m=\u001b[39m  \u001b[38;5;124m\"\u001b[39m\u001b[38;5;124mne\u001b[39m\u001b[38;5;124m\"\u001b[39m\n",
      "\u001b[0;31mTypeError\u001b[0m: 'str' object does not support item assignment"
     ]
    }
   ],
   "source": [
    "fruta[2:4] =  \"ne\""
   ]
  },
  {
   "cell_type": "code",
   "execution_count": 20,
   "id": "26c7a63f-6cc3-4bdd-bf7c-71cb698dfd82",
   "metadata": {},
   "outputs": [],
   "source": [
    "fruta = \"maçã\""
   ]
  },
  {
   "cell_type": "code",
   "execution_count": 21,
   "id": "1f9e4528-bd78-4c2d-878a-7bb9d31a30c5",
   "metadata": {},
   "outputs": [
    {
     "data": {
      "text/plain": [
       "'maçã'"
      ]
     },
     "execution_count": 21,
     "metadata": {},
     "output_type": "execute_result"
    }
   ],
   "source": [
    "fruta"
   ]
  },
  {
   "cell_type": "code",
   "execution_count": 22,
   "id": "16e52c67-a71c-4ad6-a694-0104c89fd51f",
   "metadata": {},
   "outputs": [],
   "source": [
    "aluno = \"Leonardo\""
   ]
  },
  {
   "cell_type": "code",
   "execution_count": 23,
   "id": "e23f870c-6c7c-4a42-81e3-ab0900b2925b",
   "metadata": {},
   "outputs": [],
   "source": [
    "aluno = aluno + \" Melo\""
   ]
  },
  {
   "cell_type": "code",
   "execution_count": 24,
   "id": "2d7e0591-e766-48a4-aa87-279f92ea2234",
   "metadata": {},
   "outputs": [
    {
     "data": {
      "text/plain": [
       "'Leonardo Melo'"
      ]
     },
     "execution_count": 24,
     "metadata": {},
     "output_type": "execute_result"
    }
   ],
   "source": [
    "aluno"
   ]
  },
  {
   "cell_type": "code",
   "execution_count": 25,
   "id": "34c19716-42e5-4364-8db3-032bbcb69358",
   "metadata": {},
   "outputs": [
    {
     "data": {
      "text/plain": [
       "False"
      ]
     },
     "execution_count": 25,
     "metadata": {},
     "output_type": "execute_result"
    }
   ],
   "source": [
    "10  >  100"
   ]
  },
  {
   "cell_type": "code",
   "execution_count": 26,
   "id": "36eb45da-f17d-4da8-a69d-ed82875781c4",
   "metadata": {},
   "outputs": [
    {
     "data": {
      "text/plain": [
       "True"
      ]
     },
     "execution_count": 26,
     "metadata": {},
     "output_type": "execute_result"
    }
   ],
   "source": [
    "10 < 100"
   ]
  },
  {
   "cell_type": "code",
   "execution_count": 28,
   "id": "e3ae5cbb-dd99-4da9-bf62-1b8eae5bb3eb",
   "metadata": {},
   "outputs": [
    {
     "data": {
      "text/plain": [
       "False"
      ]
     },
     "execution_count": 28,
     "metadata": {},
     "output_type": "execute_result"
    }
   ],
   "source": [
    "\"a\" > \"b\""
   ]
  },
  {
   "cell_type": "code",
   "execution_count": 29,
   "id": "4cc72005-cfb2-4332-b7d7-ed3fb8b10b9a",
   "metadata": {},
   "outputs": [
    {
     "data": {
      "text/plain": [
       "True"
      ]
     },
     "execution_count": 29,
     "metadata": {},
     "output_type": "execute_result"
    }
   ],
   "source": [
    "\"b\" > \"a\""
   ]
  },
  {
   "cell_type": "code",
   "execution_count": 33,
   "id": "7308a3ac-3503-4f04-b206-8ab75d545f41",
   "metadata": {},
   "outputs": [],
   "source": [
    "def compara_palavra(palavra1, palavra2):\n",
    "    if palavra1 >  palavra2:\n",
    "        print(palavra1,\"vem depois de\", palavra2,\"no alfabeto\")\n",
    "    elif palavra1 < palavra2:\n",
    "        print(palavra2,\"vem depois de\", palavra1,\"no alfabeto\")\n",
    "    else:\n",
    "        print(palavra1,\"é igual a\", palavra2)"
   ]
  },
  {
   "cell_type": "code",
   "execution_count": 35,
   "id": "674b3fe2-a27c-42b4-bad9-f40947f5ee0c",
   "metadata": {},
   "outputs": [
    {
     "name": "stdout",
     "output_type": "stream",
     "text": [
      "Thiago vem depois de Nicolas no alfabeto\n"
     ]
    }
   ],
   "source": [
    "compara_palavra(\"Thiago\",\"Nicolas\")"
   ]
  },
  {
   "cell_type": "code",
   "execution_count": 36,
   "id": "75631df3-7b54-4772-bfea-a7a650bfb845",
   "metadata": {},
   "outputs": [
    {
     "name": "stdout",
     "output_type": "stream",
     "text": [
      "Talita vem depois de Edilson no alfabeto\n"
     ]
    }
   ],
   "source": [
    "compara_palavra(\"Talita\",\"Edilson\")"
   ]
  },
  {
   "cell_type": "code",
   "execution_count": 37,
   "id": "f7991f18-54d1-4718-a3cb-136618fd2532",
   "metadata": {},
   "outputs": [
    {
     "name": "stdout",
     "output_type": "stream",
     "text": [
      "xy é igual a xy\n"
     ]
    }
   ],
   "source": [
    "compara_palavra(\"xy\",\"xy\")"
   ]
  },
  {
   "cell_type": "code",
   "execution_count": 42,
   "id": "573e1e9a-7c02-4470-8cfe-a9fb0b268f16",
   "metadata": {},
   "outputs": [
    {
     "name": "stdout",
     "output_type": "stream",
     "text": [
      "Thiago vem depois de THiago no alfabeto\n"
     ]
    }
   ],
   "source": [
    "compara_palavra(\"Thiago\",\"THiago\")"
   ]
  },
  {
   "cell_type": "markdown",
   "id": "ae38d1a7-e529-4f5a-9c54-a02eb54812ce",
   "metadata": {},
   "source": [
    "# Métodos da STR"
   ]
  },
  {
   "cell_type": "code",
   "execution_count": 38,
   "id": "14a6dace-61d2-4e68-9740-78b549bde862",
   "metadata": {},
   "outputs": [
    {
     "data": {
      "text/plain": [
       "str"
      ]
     },
     "execution_count": 38,
     "metadata": {},
     "output_type": "execute_result"
    }
   ],
   "source": [
    "type(\"Impacta\")"
   ]
  },
  {
   "cell_type": "code",
   "execution_count": 39,
   "id": "10d54a66-1e05-40f5-a25a-04fcaf652c17",
   "metadata": {},
   "outputs": [
    {
     "data": {
      "text/plain": [
       "str"
      ]
     },
     "execution_count": 39,
     "metadata": {},
     "output_type": "execute_result"
    }
   ],
   "source": [
    "texto  = \"Impacta\"\n",
    "type(texto)"
   ]
  },
  {
   "cell_type": "code",
   "execution_count": 43,
   "id": "8d2c3d1b-3505-471a-b8ad-b035d7c37dd6",
   "metadata": {},
   "outputs": [
    {
     "data": {
      "text/plain": [
       "'IMPACTA'"
      ]
     },
     "execution_count": 43,
     "metadata": {},
     "output_type": "execute_result"
    }
   ],
   "source": [
    "texto.upper()"
   ]
  },
  {
   "cell_type": "code",
   "execution_count": 44,
   "id": "6ead67b5-db40-49aa-b502-a0c12730ee76",
   "metadata": {},
   "outputs": [
    {
     "data": {
      "text/plain": [
       "'Impacta'"
      ]
     },
     "execution_count": 44,
     "metadata": {},
     "output_type": "execute_result"
    }
   ],
   "source": [
    "texto"
   ]
  },
  {
   "cell_type": "code",
   "execution_count": 45,
   "id": "2dc7839e-49dd-4dbc-aff1-4acf724bae1d",
   "metadata": {},
   "outputs": [],
   "source": [
    "texto = texto.upper()"
   ]
  },
  {
   "cell_type": "code",
   "execution_count": 46,
   "id": "11e3c558-0a02-4a1e-901a-0decdc8a645e",
   "metadata": {},
   "outputs": [
    {
     "data": {
      "text/plain": [
       "'IMPACTA'"
      ]
     },
     "execution_count": 46,
     "metadata": {},
     "output_type": "execute_result"
    }
   ],
   "source": [
    "texto"
   ]
  },
  {
   "cell_type": "code",
   "execution_count": 50,
   "id": "ee06d7d7-f86a-49a7-bbf4-102823bb23d2",
   "metadata": {},
   "outputs": [
    {
     "data": {
      "text/plain": [
       "True"
      ]
     },
     "execution_count": 50,
     "metadata": {},
     "output_type": "execute_result"
    }
   ],
   "source": [
    "texto.endswith(\"CTA\")"
   ]
  },
  {
   "cell_type": "code",
   "execution_count": 59,
   "id": "b4bfe888-e0cb-454c-a44e-f5ecf77029bc",
   "metadata": {},
   "outputs": [
    {
     "data": {
      "text/plain": [
       "1"
      ]
     },
     "execution_count": 59,
     "metadata": {},
     "output_type": "execute_result"
    }
   ],
   "source": [
    "texto.count(\"A\",4,7)"
   ]
  },
  {
   "cell_type": "markdown",
   "id": "4bbe619c-9627-47fa-af11-87475b8f1925",
   "metadata": {},
   "source": [
    "# Reescrevendo um arquivo de texto"
   ]
  },
  {
   "cell_type": "code",
   "execution_count": 60,
   "id": "a680d5c3-179f-4691-8bc9-0ada4ea89ad8",
   "metadata": {},
   "outputs": [],
   "source": [
    "from os.path import basename, exists\n",
    "def download(url):\n",
    "    filename = basename(url)\n",
    "    if not exists(filename):\n",
    "        from urllib.request import urlretrieve\n",
    "        local, _ = urlretrieve(url, filename)\n",
    "        print(\"Downloaded \" + str(local))\n",
    "    return filename\n"
   ]
  },
  {
   "cell_type": "code",
   "execution_count": 61,
   "id": "85d1b60e-f103-41f3-8f19-73b8e55d3a94",
   "metadata": {},
   "outputs": [
    {
     "name": "stdout",
     "output_type": "stream",
     "text": [
      "Downloaded pg345.txt\n"
     ]
    },
    {
     "data": {
      "text/plain": [
       "'pg345.txt'"
      ]
     },
     "execution_count": 61,
     "metadata": {},
     "output_type": "execute_result"
    }
   ],
   "source": [
    "download(\"https://www.gutenberg.org/cache/epub/345/pg345.txt\")"
   ]
  },
  {
   "cell_type": "code",
   "execution_count": 62,
   "id": "9a9d895a-9ea1-4e3a-8c5c-c1028a9708bc",
   "metadata": {},
   "outputs": [],
   "source": [
    "arquivo = open('pg345.txt')"
   ]
  },
  {
   "cell_type": "code",
   "execution_count": 68,
   "id": "9d32154e-4606-4210-9228-d3c007ad9fc5",
   "metadata": {},
   "outputs": [
    {
     "data": {
      "text/plain": [
       "True"
      ]
     },
     "execution_count": 68,
     "metadata": {},
     "output_type": "execute_result"
    }
   ],
   "source": [
    "\"***teste\".startswith(\"***\")"
   ]
  },
  {
   "cell_type": "code",
   "execution_count": 86,
   "id": "e25bc34b-916a-47ee-879b-acade1454306",
   "metadata": {},
   "outputs": [
    {
     "data": {
      "text/plain": [
       "False"
      ]
     },
     "execution_count": 86,
     "metadata": {},
     "output_type": "execute_result"
    }
   ],
   "source": [
    "\"Leonardo\".startswith(\"*** \")"
   ]
  },
  {
   "cell_type": "code",
   "execution_count": 87,
   "id": "fc5a90b9-80f7-4c8e-95bd-88095027cbd9",
   "metadata": {},
   "outputs": [
    {
     "data": {
      "text/plain": [
       "True"
      ]
     },
     "execution_count": 87,
     "metadata": {},
     "output_type": "execute_result"
    }
   ],
   "source": [
    "\"*** Leonardo\".startswith(\"*** \")"
   ]
  },
  {
   "cell_type": "code",
   "execution_count": 69,
   "id": "504066d2-83bb-431c-ac3e-7ce8117c7fe9",
   "metadata": {},
   "outputs": [],
   "source": [
    "def linhaEspecial(linha):\n",
    "    return linha.startswith(\"*** \")"
   ]
  },
  {
   "cell_type": "code",
   "execution_count": 71,
   "id": "9f0b1f47-009a-4152-99fa-43f1c5ec8132",
   "metadata": {},
   "outputs": [
    {
     "data": {
      "text/plain": [
       "True"
      ]
     },
     "execution_count": 71,
     "metadata": {},
     "output_type": "execute_result"
    }
   ],
   "source": [
    "linhaEspecial(\"*** teste\")"
   ]
  },
  {
   "cell_type": "code",
   "execution_count": 72,
   "id": "6af2655e-9975-42d0-ac65-3522a98e00cc",
   "metadata": {},
   "outputs": [
    {
     "name": "stdout",
     "output_type": "stream",
     "text": [
      "*** START OF THE PROJECT GUTENBERG EBOOK DRACULA ***\n",
      "*** END OF THE PROJECT GUTENBERG EBOOK DRACULA ***\n"
     ]
    }
   ],
   "source": [
    "for linha in arquivo:\n",
    "    if linhaEspecial(linha):\n",
    "        print(linha.strip())"
   ]
  },
  {
   "cell_type": "code",
   "execution_count": 76,
   "id": "cadf248e-6256-4c7f-b09e-55565bcbcdb6",
   "metadata": {},
   "outputs": [
    {
     "data": {
      "text/plain": [
       "_io.TextIOWrapper"
      ]
     },
     "execution_count": 76,
     "metadata": {},
     "output_type": "execute_result"
    }
   ],
   "source": [
    "type(arquivo)"
   ]
  },
  {
   "cell_type": "code",
   "execution_count": 77,
   "id": "f650c1f9-654c-48fa-a3ec-c323e8a2ca5f",
   "metadata": {},
   "outputs": [],
   "source": [
    "arquivo.close()"
   ]
  },
  {
   "cell_type": "code",
   "execution_count": 78,
   "id": "e453de73-a760-46cb-9e5d-e571f0451d51",
   "metadata": {},
   "outputs": [],
   "source": [
    "arquivo = open('pg345.txt')"
   ]
  },
  {
   "cell_type": "code",
   "execution_count": 79,
   "id": "9e7b6f3e-cfe3-4655-bddb-de9210ef6118",
   "metadata": {},
   "outputs": [],
   "source": [
    "arquivo_limpo = open('pg345_limpo.txt','w')"
   ]
  },
  {
   "cell_type": "code",
   "execution_count": 80,
   "id": "7cf0f039-3ad2-45c2-9fd5-aa1a0dc2519e",
   "metadata": {},
   "outputs": [],
   "source": [
    "for linha in arquivo:\n",
    "    if linhaEspecial(linha):\n",
    "        break"
   ]
  },
  {
   "cell_type": "code",
   "execution_count": 81,
   "id": "1bbd47e8-912f-4ed4-9b67-f2e504d10d20",
   "metadata": {},
   "outputs": [
    {
     "data": {
      "text/plain": [
       "'*** START OF THE PROJECT GUTENBERG EBOOK DRACULA ***\\n'"
      ]
     },
     "execution_count": 81,
     "metadata": {},
     "output_type": "execute_result"
    }
   ],
   "source": [
    "linha"
   ]
  },
  {
   "cell_type": "code",
   "execution_count": 82,
   "id": "9e609e06-248b-41e6-b039-86a55477e1c1",
   "metadata": {},
   "outputs": [],
   "source": [
    "for linha in arquivo:\n",
    "    if linhaEspecial(linha):\n",
    "        break\n",
    "    arquivo_limpo.write(linha)"
   ]
  },
  {
   "cell_type": "code",
   "execution_count": 83,
   "id": "7e0f387c-e4f1-41d7-823a-d8f9f975110b",
   "metadata": {},
   "outputs": [],
   "source": [
    "arquivo_limpo.close()\n",
    "arquivo.close()"
   ]
  },
  {
   "cell_type": "code",
   "execution_count": 93,
   "id": "584c7fd5-b278-423f-a817-15791e5ce616",
   "metadata": {},
   "outputs": [],
   "source": [
    "arquivo = open('pg345_limpo.txt')"
   ]
  },
  {
   "cell_type": "code",
   "execution_count": 89,
   "id": "4735649d-ea61-4bf6-bf81-7c4cffcd4c21",
   "metadata": {},
   "outputs": [],
   "source": [
    "arquivo_limpo = open('pg345_limpo2.txt','w')"
   ]
  },
  {
   "cell_type": "code",
   "execution_count": 123,
   "id": "915be3aa-66a0-4e63-8b76-1fce0827dd32",
   "metadata": {},
   "outputs": [
    {
     "data": {
      "text/plain": [
       "215"
      ]
     },
     "execution_count": 123,
     "metadata": {},
     "output_type": "execute_result"
    }
   ],
   "source": [
    "total = 0\n",
    "with open('pg345_limpo2.txt') as arquivo:\n",
    "    for linha in arquivo:\n",
    "        linha = linha.upper()\n",
    "        total = total + linha.count('THOMAS')\n",
    "total"
   ]
  },
  {
   "cell_type": "code",
   "execution_count": 114,
   "id": "9b4aab69-1798-419d-b324-b31fd1f7354f",
   "metadata": {},
   "outputs": [],
   "source": [
    "arquivo_limpo = open('pg345_limpo2.txt','w')"
   ]
  },
  {
   "cell_type": "code",
   "execution_count": 118,
   "id": "d9663340-2ba3-4a4b-978d-30087a00e00b",
   "metadata": {},
   "outputs": [
    {
     "data": {
      "text/plain": [
       "'tedse'"
      ]
     },
     "execution_count": 118,
     "metadata": {},
     "output_type": "execute_result"
    }
   ],
   "source": [
    "str(\"teste\").replace(\"st\",\"ds\")"
   ]
  },
  {
   "cell_type": "code",
   "execution_count": 119,
   "id": "c075a48d-0b2e-4676-bd12-aeb4ded271e5",
   "metadata": {},
   "outputs": [],
   "source": [
    "with open('pg345_limpo.txt') as arquivo:\n",
    "    for linha in arquivo:\n",
    "        linha = linha.replace('Jonathan','Thomas').replace('JONATHAN','THOMAS')\n",
    "        arquivo_limpo.write(linha)"
   ]
  },
  {
   "cell_type": "code",
   "execution_count": 120,
   "id": "5e2d1be8-6361-49d8-ab6a-ba15a785da48",
   "metadata": {},
   "outputs": [],
   "source": [
    "arquivo_limpo.close()"
   ]
  },
  {
   "cell_type": "markdown",
   "id": "4e6d0df3-2934-4b08-b693-badf86ac3897",
   "metadata": {},
   "source": [
    "# Expressões Regulares (REGEX)"
   ]
  },
  {
   "cell_type": "code",
   "execution_count": 124,
   "id": "a0e21c80-b7f7-47d3-b918-f432a0a93203",
   "metadata": {},
   "outputs": [],
   "source": [
    "texto = \"I am Dracula; and I bid you welcome, Mr. Harker, to my house.\""
   ]
  },
  {
   "cell_type": "code",
   "execution_count": 125,
   "id": "8cdc0e49-e1f9-4c73-bc0d-72ce0ae2a72c",
   "metadata": {},
   "outputs": [],
   "source": [
    "padrao = \"Dracula\""
   ]
  },
  {
   "cell_type": "code",
   "execution_count": 126,
   "id": "7624a880-ac74-4f51-81eb-64ce1c39afce",
   "metadata": {},
   "outputs": [],
   "source": [
    "import re"
   ]
  },
  {
   "cell_type": "code",
   "execution_count": 157,
   "id": "0dfcdfa0-5aee-4fe2-b4d7-bee794b2c695",
   "metadata": {},
   "outputs": [
    {
     "name": "stdout",
     "output_type": "stream",
     "text": [
      "<class 're.Match'>\n"
     ]
    }
   ],
   "source": [
    "resultado =  re.search(padrao, texto)\n",
    "print(type(resultado))"
   ]
  },
  {
   "cell_type": "code",
   "execution_count": 131,
   "id": "2a8ee9e9-67e2-40a4-a09b-920adc413bda",
   "metadata": {},
   "outputs": [
    {
     "data": {
      "text/plain": [
       "'I am Dracula; and I bid you welcome, Mr. Harker, to my house.'"
      ]
     },
     "execution_count": 131,
     "metadata": {},
     "output_type": "execute_result"
    }
   ],
   "source": [
    "resultado.string"
   ]
  },
  {
   "cell_type": "code",
   "execution_count": 132,
   "id": "b484311c-c132-42d7-ae0d-dfd6c1facecc",
   "metadata": {},
   "outputs": [
    {
     "data": {
      "text/plain": [
       "'Dracula'"
      ]
     },
     "execution_count": 132,
     "metadata": {},
     "output_type": "execute_result"
    }
   ],
   "source": [
    "resultado.group()"
   ]
  },
  {
   "cell_type": "code",
   "execution_count": 133,
   "id": "c1b8ab93-ab9b-4b20-b055-814a43926026",
   "metadata": {},
   "outputs": [
    {
     "data": {
      "text/plain": [
       "(5, 12)"
      ]
     },
     "execution_count": 133,
     "metadata": {},
     "output_type": "execute_result"
    }
   ],
   "source": [
    "resultado.span()"
   ]
  },
  {
   "cell_type": "code",
   "execution_count": 159,
   "id": "b2338538-29b5-46f5-a3dd-953339acfa82",
   "metadata": {},
   "outputs": [],
   "source": [
    "padrao = \"Dracula|Harker\""
   ]
  },
  {
   "cell_type": "code",
   "execution_count": 160,
   "id": "992a1337-8570-4969-9161-7a08e4fdc155",
   "metadata": {},
   "outputs": [],
   "source": [
    "resultado2 = re.finditer(padrao,texto)"
   ]
  },
  {
   "cell_type": "code",
   "execution_count": 161,
   "id": "8c6501cf-b308-48f7-bcfc-45825ad729bd",
   "metadata": {},
   "outputs": [
    {
     "name": "stdout",
     "output_type": "stream",
     "text": [
      "<class 're.Match'>\n",
      "<re.Match object; span=(5, 12), match='Dracula'>\n",
      "Dracula\n",
      "<class 're.Match'>\n",
      "<re.Match object; span=(41, 47), match='Harker'>\n",
      "Harker\n"
     ]
    }
   ],
   "source": [
    "for pad in resultado2:\n",
    "    print(type(pad))\n",
    "    print(pad)\n",
    "    print(pad.group())"
   ]
  },
  {
   "cell_type": "code",
   "execution_count": 162,
   "id": "92f28add-ed40-43ed-9b8d-cf341ea8744d",
   "metadata": {},
   "outputs": [
    {
     "data": {
      "text/plain": [
       "'Dracula'"
      ]
     },
     "execution_count": 162,
     "metadata": {},
     "output_type": "execute_result"
    }
   ],
   "source": [
    "texto[5:12]"
   ]
  },
  {
   "cell_type": "code",
   "execution_count": 163,
   "id": "377d8eda-eca1-4d43-a752-929e7730777e",
   "metadata": {},
   "outputs": [
    {
     "name": "stdout",
     "output_type": "stream",
     "text": [
      "['Dracula', 'Harker']\n"
     ]
    }
   ],
   "source": [
    "resultado2 = re.findall('Dracula|Harker', texto)\n",
    "print(resultado2)"
   ]
  },
  {
   "cell_type": "code",
   "execution_count": 164,
   "id": "08e662c1-ae9c-4ee9-8ca2-d6e204653a70",
   "metadata": {},
   "outputs": [
    {
     "name": "stdout",
     "output_type": "stream",
     "text": [
      "<class 'list'>\n"
     ]
    }
   ],
   "source": [
    "print(type(resultado2))"
   ]
  },
  {
   "cell_type": "code",
   "execution_count": 165,
   "id": "d9f74177-7dcc-4dfb-bb64-629d1c9e7d10",
   "metadata": {},
   "outputs": [
    {
     "data": {
      "text/plain": [
       "'I am Dracula; and I bid you welcome, Mr. Harker, to my house.'"
      ]
     },
     "execution_count": 165,
     "metadata": {},
     "output_type": "execute_result"
    }
   ],
   "source": [
    "texto"
   ]
  },
  {
   "cell_type": "code",
   "execution_count": 166,
   "id": "8b244414-554e-4e04-b4c8-ab340457a94a",
   "metadata": {},
   "outputs": [],
   "source": [
    "padrao ='Dracula'"
   ]
  },
  {
   "cell_type": "code",
   "execution_count": 167,
   "id": "3c2b421e-637d-452e-a670-ab406f9c9b5d",
   "metadata": {},
   "outputs": [],
   "source": [
    "teste = re.search('Olá',texto)"
   ]
  },
  {
   "cell_type": "code",
   "execution_count": 170,
   "id": "f489cdb3-a026-4ea3-8e62-ed4b83a2c1de",
   "metadata": {},
   "outputs": [
    {
     "data": {
      "text/plain": [
       "NoneType"
      ]
     },
     "execution_count": 170,
     "metadata": {},
     "output_type": "execute_result"
    }
   ],
   "source": [
    "type(teste)"
   ]
  },
  {
   "cell_type": "code",
   "execution_count": 186,
   "id": "53cded04-ec82-4d07-bf93-fed22dd460d1",
   "metadata": {},
   "outputs": [],
   "source": [
    "def contaPadrao(padrao):\n",
    "    contagem = 0\n",
    "    for linha in open('pg345_limpo2.txt'):\n",
    "        busca = re.search(padrao, linha)\n",
    "        if busca != None:\n",
    "            print(busca.string)\n",
    "            contagem = contagem +  1\n",
    "    return contagem"
   ]
  },
  {
   "cell_type": "code",
   "execution_count": 179,
   "id": "55ab64c9-870c-476d-a130-0b8ab3ea75c3",
   "metadata": {},
   "outputs": [
    {
     "data": {
      "text/plain": [
       "158"
      ]
     },
     "execution_count": 179,
     "metadata": {},
     "output_type": "execute_result"
    }
   ],
   "source": [
    "contaPadrao('Harker')"
   ]
  },
  {
   "cell_type": "code",
   "execution_count": 181,
   "id": "479f2282-f955-465e-a3d2-0754239a2fd2",
   "metadata": {},
   "outputs": [
    {
     "data": {
      "text/plain": [
       "5"
      ]
     },
     "execution_count": 181,
     "metadata": {},
     "output_type": "execute_result"
    }
   ],
   "source": [
    "# a linha começa com\n",
    "contaPadrao('^Dracula')"
   ]
  },
  {
   "cell_type": "code",
   "execution_count": 187,
   "id": "c18d109e-248e-4fe2-bee0-0a0b5ef3cba8",
   "metadata": {},
   "outputs": [
    {
     "name": "stdout",
     "output_type": "stream",
     "text": [
      "from Attila and the Huns. This may be so, for when the Magyars conquered\n",
      "\n"
     ]
    },
    {
     "data": {
      "text/plain": [
       "1"
      ]
     },
     "execution_count": 187,
     "metadata": {},
     "output_type": "execute_result"
    }
   ],
   "source": [
    "# a linha finaliza com\n",
    "contaPadrao('conquered$')"
   ]
  },
  {
   "cell_type": "code",
   "execution_count": 188,
   "id": "c24ae43d-260a-4e32-b790-7422c009f91b",
   "metadata": {},
   "outputs": [
    {
     "name": "stdout",
     "output_type": "stream",
     "text": [
      "undergarment with long double apron, front, and back, of coloured stuff\n",
      "\n",
      "them and bringing out all the glorious colours of this beautiful range,\n",
      "\n",
      "coloured, sheepskins, the latter carrying lance-fashion their long\n",
      "\n",
      "of colour about him anywhere. He held in his hand an antique silver\n",
      "\n",
      "see even colours, whilst it softened the wealth of dust which lay over\n",
      "\n",
      "beautiful colour since she has been here. I noticed that the old men did\n",
      "\n",
      "beautiful, so grand in its masses of splendidly-coloured clouds, that\n",
      "\n",
      "downward way was marked by myriad clouds of every sunset-colour--flame,\n",
      "\n",
      "breathing softly. She has more colour in her cheeks than usual, and\n",
      "\n",
      "naturally; good spirits; colour coming back.”\n",
      "\n",
      "that I could see a faint tinge of colour steal back into the pallid\n",
      "\n",
      "annual work. The leaves were turning to all kinds of beautiful colours,\n",
      "\n",
      "Again the operation; again the narcotic; again some return of colour to\n",
      "\n",
      "colour to the pale cheeks. When he saw her, Arthur was simply choking\n",
      "\n",
      "imagination and tinges everything with something of its own colour. Of\n",
      "\n",
      "the colour--and he grew quite white. He read something intently,\n",
      "\n",
      "beetle had resumed their accustomed dominance; when time-discoloured\n",
      "\n",
      "and colour; but Lucy’s eyes unclean and full of hell-fire, instead of\n",
      "\n",
      "mortal eyes. The beautiful colour became livid, the eyes seemed to throw\n",
      "\n",
      "me!’ And then a red cloud, like the colour of blood, seemed to close\n",
      "\n",
      "Thank God! Mina is well, and looks to be getting stronger; her colour is\n",
      "\n",
      "getting back some of her colour, Van Helsing and I are not satisfied. We\n",
      "\n",
      "their life, and to fill our minds and memories with all the colour and\n",
      "\n",
      "bright hard eyes, the white teeth, the ruddy colour, the voluptuous\n",
      "\n"
     ]
    },
    {
     "data": {
      "text/plain": [
       "24"
      ]
     },
     "execution_count": 188,
     "metadata": {},
     "output_type": "execute_result"
    }
   ],
   "source": [
    "contaPadrao('colou?r')"
   ]
  },
  {
   "cell_type": "code",
   "execution_count": 189,
   "id": "98cda09c-c262-455c-bc5a-3701409aceaa",
   "metadata": {},
   "outputs": [
    {
     "name": "stdout",
     "output_type": "stream",
     "text": [
      "horseshoe of the Carpathians, as if it were the centre of some sort of\n",
      "\n",
      "centre of the yard. Then our driver, whose wide linen drawers covered\n",
      "\n",
      "the centre of the palm. The nails were long and fine, and cut to a sharp\n",
      "\n",
      "newspapers. A table in the centre was littered with English magazines\n",
      "\n",
      "red centres. Unless they heal within a day or two, I shall insist on the\n",
      "\n",
      "our wills were centred in his. He began by saying that he hoped we would\n",
      "\n",
      "centre. The Professor said:--\n",
      "\n",
      "When I entered his room he was sitting on a stool in the centre, with\n",
      "\n",
      "centred, looming up grim and silent in its deserted condition amongst\n",
      "\n"
     ]
    },
    {
     "data": {
      "text/plain": [
       "9"
      ]
     },
     "execution_count": 189,
     "metadata": {},
     "output_type": "execute_result"
    }
   ],
   "source": [
    "contaPadrao('cen(ter|tre)')"
   ]
  },
  {
   "cell_type": "code",
   "execution_count": 190,
   "id": "b99c73fc-dbe2-4e2c-ac01-5f3c33300df3",
   "metadata": {},
   "outputs": [
    {
     "data": {
      "text/plain": [
       "'No curso de python tem os alunos x e x'"
      ]
     },
     "execution_count": 190,
     "metadata": {},
     "output_type": "execute_result"
    }
   ],
   "source": [
    "padrao = 'Victor|Leonardo'\n",
    "texto = 'No curso de python tem os alunos Victor e Leonardo'\n",
    "re.sub(padrao,\"x\",texto)"
   ]
  },
  {
   "cell_type": "code",
   "execution_count": 191,
   "id": "32567b2e-c76b-404b-a9eb-736fa5c91964",
   "metadata": {},
   "outputs": [
    {
     "data": {
      "text/plain": [
       "'No curso de python tem os alunos Victor e Leonardo'"
      ]
     },
     "execution_count": 191,
     "metadata": {},
     "output_type": "execute_result"
    }
   ],
   "source": [
    "texto"
   ]
  }
 ],
 "metadata": {
  "kernelspec": {
   "display_name": "anaconda-2024.02-py310",
   "language": "python",
   "name": "conda-env-anaconda-2024.02-py310-py"
  },
  "language_info": {
   "codemirror_mode": {
    "name": "ipython",
    "version": 3
   },
   "file_extension": ".py",
   "mimetype": "text/x-python",
   "name": "python",
   "nbconvert_exporter": "python",
   "pygments_lexer": "ipython3",
   "version": "3.10.14"
  }
 },
 "nbformat": 4,
 "nbformat_minor": 5
}
