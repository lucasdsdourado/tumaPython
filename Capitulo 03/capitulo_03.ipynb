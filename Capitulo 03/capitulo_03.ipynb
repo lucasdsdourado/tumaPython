{
 "cells": [
  {
   "cell_type": "markdown",
   "id": "0a2c5fcc-c43c-423c-b2ae-81f51ecbfaf1",
   "metadata": {},
   "source": [
    "# Definindo novas funções"
   ]
  },
  {
   "cell_type": "code",
   "execution_count": 3,
   "id": "5c909616-976a-49f9-a349-e93bbe8f841a",
   "metadata": {},
   "outputs": [],
   "source": [
    "def imprimeFrases():\n",
    "    print(\"Olá mundo\")\n",
    "    print(\"Estou na aula de python\")\n",
    "\n",
    "numero = 10"
   ]
  },
  {
   "cell_type": "code",
   "execution_count": 2,
   "id": "e42f294f-f60e-4a9e-b4e5-b6e60e90997c",
   "metadata": {},
   "outputs": [
    {
     "name": "stdout",
     "output_type": "stream",
     "text": [
      "Olá mundo\n",
      "Estou na aula de python\n"
     ]
    }
   ],
   "source": [
    "imprimeFrases()"
   ]
  },
  {
   "cell_type": "code",
   "execution_count": 4,
   "id": "235c2d82-7b5b-4981-9874-27d1c05a9943",
   "metadata": {},
   "outputs": [],
   "source": [
    "def imprimeDuasVezes(texto):\n",
    "    print(texto)\n",
    "    print(texto)"
   ]
  },
  {
   "cell_type": "code",
   "execution_count": 6,
   "id": "856ddd47-547c-4f41-b034-5c21a0ee9a6d",
   "metadata": {},
   "outputs": [
    {
     "name": "stdout",
     "output_type": "stream",
     "text": [
      "Impacta\n",
      "Impacta\n"
     ]
    }
   ],
   "source": [
    "imprimeDuasVezes(\"Impacta\")"
   ]
  },
  {
   "cell_type": "code",
   "execution_count": 7,
   "id": "e2ab753a-756b-4fc6-b3b9-e8c93dd9ea4a",
   "metadata": {},
   "outputs": [],
   "source": [
    "texto = \"Olá\""
   ]
  },
  {
   "cell_type": "code",
   "execution_count": 9,
   "id": "d287141c-0db5-4871-8ac7-c16ee99a43a9",
   "metadata": {},
   "outputs": [
    {
     "name": "stdout",
     "output_type": "stream",
     "text": [
      "Olá\n",
      "Olá\n"
     ]
    }
   ],
   "source": [
    "imprimeDuasVezes(texto)"
   ]
  },
  {
   "cell_type": "code",
   "execution_count": 11,
   "id": "4d9412c2-e386-461c-ace2-5b95e1b35923",
   "metadata": {},
   "outputs": [],
   "source": [
    "def imprimeNomes(nome):\n",
    "    print(\"Olá\", nome)\n",
    "    print(\"Seu nome tem\", len(nome), \"caracteres\")"
   ]
  },
  {
   "cell_type": "code",
   "execution_count": 12,
   "id": "82b9b2d0-fe43-41dd-80c3-9c853fd87d34",
   "metadata": {},
   "outputs": [
    {
     "name": "stdout",
     "output_type": "stream",
     "text": [
      "Olá Lucas\n",
      "Seu nome tem 5 caracteres\n"
     ]
    }
   ],
   "source": [
    "imprimeNomes(\"Lucas\")"
   ]
  },
  {
   "cell_type": "code",
   "execution_count": 13,
   "id": "fa9c1192-bbdf-497d-b0be-f001d3cad901",
   "metadata": {},
   "outputs": [],
   "source": [
    "def repetir(texto, n):\n",
    "    print(texto * n)"
   ]
  },
  {
   "cell_type": "code",
   "execution_count": 16,
   "id": "1f1ce4e2-1858-4230-b42a-85a64f730472",
   "metadata": {},
   "outputs": [],
   "source": [
    "palavra = 'Alô? '"
   ]
  },
  {
   "cell_type": "code",
   "execution_count": 19,
   "id": "7284739c-3531-4a2d-8752-df883304ba79",
   "metadata": {},
   "outputs": [
    {
     "name": "stdout",
     "output_type": "stream",
     "text": [
      "Alô? Alô? Alô? \n"
     ]
    }
   ],
   "source": [
    "repetir(palavra,  3)"
   ]
  },
  {
   "cell_type": "code",
   "execution_count": 20,
   "id": "72398930-88a2-442c-aa71-cac09aa54b95",
   "metadata": {},
   "outputs": [],
   "source": [
    "def repetirDuas(texto, n):\n",
    "    repetir(texto, n)\n",
    "    repetir(texto, n)"
   ]
  },
  {
   "cell_type": "code",
   "execution_count": 22,
   "id": "160a3682-caad-49e5-8a26-acc9189bfa07",
   "metadata": {},
   "outputs": [
    {
     "name": "stdout",
     "output_type": "stream",
     "text": [
      "Alô? Alô? Alô? \n",
      "Alô? Alô? Alô? \n"
     ]
    }
   ],
   "source": [
    "repetirDuas(palavra,  3)"
   ]
  },
  {
   "cell_type": "code",
   "execution_count": 31,
   "id": "03a00d1c-1d57-4353-a1cc-230e3c88f625",
   "metadata": {},
   "outputs": [],
   "source": [
    "def repetirDuas():\n",
    "    repetir(palavra, 3)\n",
    "    print(\"Tem alguém aí?\")\n",
    "    repetir(palavra, 3)"
   ]
  },
  {
   "cell_type": "code",
   "execution_count": 32,
   "id": "a24d48ef-56df-4b30-b159-c0479b22ef6a",
   "metadata": {},
   "outputs": [
    {
     "name": "stdout",
     "output_type": "stream",
     "text": [
      "Alô? Alô? Alô? \n",
      "Tem alguém aí?\n",
      "Alô? Alô? Alô? \n"
     ]
    }
   ],
   "source": [
    "repetirDuas()"
   ]
  },
  {
   "cell_type": "code",
   "execution_count": 33,
   "id": "f0a2fccd-4a05-40b3-8eb6-6d007a54d27a",
   "metadata": {},
   "outputs": [],
   "source": [
    "palavra = \"Teste... \""
   ]
  },
  {
   "cell_type": "code",
   "execution_count": 34,
   "id": "725c6686-4af8-4f65-a918-2d876942700a",
   "metadata": {},
   "outputs": [
    {
     "name": "stdout",
     "output_type": "stream",
     "text": [
      "Teste... Teste... Teste... \n",
      "Tem alguém aí?\n",
      "Teste... Teste... Teste... \n"
     ]
    }
   ],
   "source": [
    "repetirDuas()"
   ]
  },
  {
   "cell_type": "code",
   "execution_count": 36,
   "id": "80ac8ef9-5ff3-4361-8b4e-60dddf47532e",
   "metadata": {},
   "outputs": [
    {
     "name": "stdout",
     "output_type": "stream",
     "text": [
      "olá olá olá \n",
      "Bom dia Brasil\n"
     ]
    }
   ],
   "source": [
    "def repetirDuas(texto, n, nome):\n",
    "    repetir(texto, n)\n",
    "    print(\"Bom dia\", nome)\n",
    "\n",
    "repetirDuas(\"olá \", 3, \"Brasil\")"
   ]
  },
  {
   "cell_type": "markdown",
   "id": "f90ffd08-4931-48e8-909d-5356f1aa9747",
   "metadata": {},
   "source": [
    "# Repetição com for"
   ]
  },
  {
   "cell_type": "code",
   "execution_count": 37,
   "id": "536b2678-3110-41fc-97fa-57b5aa4e5f03",
   "metadata": {},
   "outputs": [
    {
     "data": {
      "text/plain": [
       "range(0, 5)"
      ]
     },
     "execution_count": 37,
     "metadata": {},
     "output_type": "execute_result"
    }
   ],
   "source": [
    "range(5)"
   ]
  },
  {
   "cell_type": "code",
   "execution_count": 38,
   "id": "d75bb5ec-6025-46af-bf38-306ae2cde1f5",
   "metadata": {},
   "outputs": [
    {
     "data": {
      "text/plain": [
       "range(1, 3)"
      ]
     },
     "execution_count": 38,
     "metadata": {},
     "output_type": "execute_result"
    }
   ],
   "source": [
    "range(1, 3)"
   ]
  },
  {
   "cell_type": "code",
   "execution_count": 41,
   "id": "844950ee-82fe-49df-9f2d-f2188a4767e7",
   "metadata": {},
   "outputs": [
    {
     "name": "stdout",
     "output_type": "stream",
     "text": [
      "0\n",
      "1\n",
      "2\n",
      "3\n",
      "4\n"
     ]
    }
   ],
   "source": [
    "for i in range(5):\n",
    "    print(i)"
   ]
  },
  {
   "cell_type": "code",
   "execution_count": 47,
   "id": "27efda1e-2945-460d-ac12-212a6f8cf14d",
   "metadata": {},
   "outputs": [
    {
     "name": "stdout",
     "output_type": "stream",
     "text": [
      "1\n",
      "2\n"
     ]
    }
   ],
   "source": [
    "for i in range(1, 3):\n",
    "    print(i)"
   ]
  },
  {
   "cell_type": "code",
   "execution_count": 49,
   "id": "dcdf396c-58f8-49b4-88d1-417f35870102",
   "metadata": {},
   "outputs": [
    {
     "name": "stdout",
     "output_type": "stream",
     "text": [
      "0\n",
      "1\n",
      "2\n"
     ]
    }
   ],
   "source": [
    "for i in range(3):\n",
    "    print(i)"
   ]
  },
  {
   "cell_type": "code",
   "execution_count": 50,
   "id": "63a74414-77f4-4c77-b369-49a4a8914e45",
   "metadata": {},
   "outputs": [],
   "source": [
    "def imprimeVarias(n):\n",
    "    for i in range(n):\n",
    "        repetir(palavra, 3)"
   ]
  },
  {
   "cell_type": "code",
   "execution_count": 55,
   "id": "80aac641-325c-49de-8245-428d396debdf",
   "metadata": {},
   "outputs": [
    {
     "name": "stdout",
     "output_type": "stream",
     "text": [
      "Teste... Teste... Teste... \n",
      "Teste... Teste... Teste... \n",
      "Teste... Teste... Teste... \n",
      "Teste... Teste... Teste... \n",
      "Teste... Teste... Teste... \n"
     ]
    }
   ],
   "source": [
    "imprimeVarias(5)"
   ]
  },
  {
   "cell_type": "code",
   "execution_count": 56,
   "id": "33cc3da5-21b4-4ac0-ab57-742c80afa416",
   "metadata": {},
   "outputs": [],
   "source": [
    "# Simulando erro de não definição\n",
    "def imprimeDuasVezes(texto):\n",
    "    print(Texto)\n",
    "    print(Texto)"
   ]
  },
  {
   "cell_type": "code",
   "execution_count": 57,
   "id": "5e89c86b-4f7f-4a15-9bae-3267babb7340",
   "metadata": {},
   "outputs": [
    {
     "ename": "NameError",
     "evalue": "name 'Texto' is not defined",
     "output_type": "error",
     "traceback": [
      "\u001b[0;31m---------------------------------------------------------------------------\u001b[0m",
      "\u001b[0;31mNameError\u001b[0m                                 Traceback (most recent call last)",
      "Cell \u001b[0;32mIn[57], line 1\u001b[0m\n\u001b[0;32m----> 1\u001b[0m \u001b[43mimprimeDuasVezes\u001b[49m\u001b[43m(\u001b[49m\u001b[38;5;124;43m\"\u001b[39;49m\u001b[38;5;124;43mOlá\u001b[39;49m\u001b[38;5;124;43m\"\u001b[39;49m\u001b[43m)\u001b[49m\n",
      "Cell \u001b[0;32mIn[56], line 3\u001b[0m, in \u001b[0;36mimprimeDuasVezes\u001b[0;34m(texto)\u001b[0m\n\u001b[1;32m      2\u001b[0m \u001b[38;5;28;01mdef\u001b[39;00m \u001b[38;5;21mimprimeDuasVezes\u001b[39m(texto):\n\u001b[0;32m----> 3\u001b[0m     \u001b[38;5;28mprint\u001b[39m(\u001b[43mTexto\u001b[49m)\n\u001b[1;32m      4\u001b[0m     \u001b[38;5;28mprint\u001b[39m(Texto)\n",
      "\u001b[0;31mNameError\u001b[0m: name 'Texto' is not defined"
     ]
    }
   ],
   "source": [
    "imprimeDuasVezes(\"Olá\")"
   ]
  },
  {
   "cell_type": "code",
   "execution_count": 59,
   "id": "af4d7640-11f0-4eeb-bfc8-f5745be01069",
   "metadata": {},
   "outputs": [
    {
     "name": "stdout",
     "output_type": "stream",
     "text": [
      "GOL\n",
      "GOOL\n",
      "GOOOL\n"
     ]
    }
   ],
   "source": [
    "def repetir(palavra,n):\n",
    "    print(palavra *n, end=\"\")    \n",
    "for i in range(1,4):\n",
    "    print(\"G\",end=\"\")\n",
    "    repetir(\"O\",i)\n",
    "    print(\"L\")"
   ]
  },
  {
   "cell_type": "code",
   "execution_count": 60,
   "id": "c538292b-83c7-49b6-9cdd-36f498bd8b49",
   "metadata": {},
   "outputs": [
    {
     "name": "stdout",
     "output_type": "stream",
     "text": [
      "40320\n"
     ]
    },
    {
     "data": {
      "text/plain": [
       "40320"
      ]
     },
     "execution_count": 60,
     "metadata": {},
     "output_type": "execute_result"
    }
   ],
   "source": [
    "import math\n",
    "\n",
    "def fatorial(n):\n",
    "    a=1\n",
    "    for i in range(1,n+1):\n",
    "        a=i*a\n",
    "    return a\n",
    "\n",
    "print(fatorial(8))\n",
    "math.factorial(8)"
   ]
  }
 ],
 "metadata": {
  "kernelspec": {
   "display_name": "anaconda-2024.02-py310",
   "language": "python",
   "name": "conda-env-anaconda-2024.02-py310-py"
  },
  "language_info": {
   "codemirror_mode": {
    "name": "ipython",
    "version": 3
   },
   "file_extension": ".py",
   "mimetype": "text/x-python",
   "name": "python",
   "nbconvert_exporter": "python",
   "pygments_lexer": "ipython3",
   "version": "3.10.14"
  }
 },
 "nbformat": 4,
 "nbformat_minor": 5
}
